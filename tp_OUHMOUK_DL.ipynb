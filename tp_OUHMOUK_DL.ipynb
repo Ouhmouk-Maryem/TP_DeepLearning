{
 "cells": [
  {
   "cell_type": "markdown",
   "metadata": {},
   "source": [
    "# ANN_with_keras"
   ]
  },
  {
   "cell_type": "code",
   "execution_count": 7,
   "metadata": {},
   "outputs": [],
   "source": [
    "# Common imports\n",
    "import numpy as np\n",
    "import os\n",
    "import pandas as pd"
   ]
  },
  {
   "cell_type": "code",
   "execution_count": 2,
   "metadata": {},
   "outputs": [],
   "source": [
    "# to make this notebook's output stable across runs\n",
    "np.random.seed(42)\n",
    "\n",
    "# To plot pretty figures\n",
    "%matplotlib inline\n",
    "import matplotlib as mpl\n",
    "import matplotlib.pyplot as plt\n",
    "mpl.rc('axes', labelsize=14)\n",
    "mpl.rc('xtick', labelsize=12)\n",
    "mpl.rc('ytick', labelsize=12)"
   ]
  },
  {
   "cell_type": "code",
   "execution_count": 3,
   "metadata": {},
   "outputs": [],
   "source": [
    "# Ignore useless warnings (see SciPy issue #5998)\n",
    "import warnings\n",
    "warnings.filterwarnings(action=\"ignore\", message=\"^internal gelsd\")"
   ]
  },
  {
   "cell_type": "markdown",
   "metadata": {},
   "source": [
    "update  ==  conda install -c conda-forge tensorflow=2.1.0"
   ]
  },
  {
   "cell_type": "markdown",
   "metadata": {},
   "source": [
    "First let's import TensorFlow and Keras."
   ]
  },
  {
   "cell_type": "code",
   "execution_count": 4,
   "metadata": {},
   "outputs": [],
   "source": [
    "import tensorflow as tf\n",
    "from tensorflow import keras"
   ]
  },
  {
   "cell_type": "code",
   "execution_count": 5,
   "metadata": {},
   "outputs": [
    {
     "name": "stdout",
     "output_type": "stream",
     "text": [
      "Collecting package metadata (current_repodata.json): ...working... done\n",
      "Solving environment: ...working... failed with initial frozen solve. Retrying with flexible solve.\n",
      "Solving environment: ...working... failed with repodata from current_repodata.json, will retry with next repodata source.\n",
      "Collecting package metadata (repodata.json): ...working... done\n",
      "Solving environment: ...working... done\n",
      "\n",
      "## Package Plan ##\n",
      "\n",
      "  environment location: C:\\Users\\Maryem_Ou\\Anaconda3\n",
      "\n",
      "  added / updated specs:\n",
      "    - tensorflow=2.1.0\n",
      "\n",
      "\n",
      "The following packages will be downloaded:\n",
      "\n",
      "    package                    |            build\n",
      "    ---------------------------|-----------------\n",
      "    _tflow_select-2.3.0        |              mkl           3 KB\n",
      "    absl-py-0.10.0             |   py37hc8dfbb8_1         169 KB  conda-forge\n",
      "    aiohttp-3.7.3              |   py37hcc03f2d_0         577 KB  conda-forge\n",
      "    astor-0.8.1                |     pyh9f0ad1d_0          25 KB  conda-forge\n",
      "    async-timeout-3.0.1        |          py_1000          11 KB  conda-forge\n",
      "    blinker-1.4                |             py_1          13 KB  conda-forge\n",
      "    cachetools-4.1.1           |             py_0          12 KB  conda-forge\n",
      "    certifi-2019.9.11          |           py37_0         147 KB  conda-forge\n",
      "    conda-4.9.2                |   py37h03978a9_0         3.0 MB  conda-forge\n",
      "    gast-0.2.2                 |             py_0          10 KB  conda-forge\n",
      "    google-auth-1.23.0         |     pyhd8ed1ab_0          62 KB  conda-forge\n",
      "    google-auth-oauthlib-0.4.1 |             py_2          18 KB  conda-forge\n",
      "    google-pasta-0.2.0         |     pyh8c360ce_0          42 KB  conda-forge\n",
      "    grpcio-1.27.2              |   py37h351948d_0         1.2 MB\n",
      "    importlib-metadata-2.0.0   |             py_1          28 KB  conda-forge\n",
      "    keras-applications-1.0.8   |             py_1          30 KB  conda-forge\n",
      "    keras-preprocessing-1.1.0  |             py_0          33 KB  conda-forge\n",
      "    libmklml-2019.0.5          |       haa95532_0        17.5 MB\n",
      "    libprotobuf-3.13.0.1       |       h200bbdf_0         2.3 MB  conda-forge\n",
      "    markdown-3.3.3             |     pyh9f0ad1d_0          66 KB  conda-forge\n",
      "    multidict-4.7.5            |   py37h4ab8f01_2          62 KB  conda-forge\n",
      "    oauthlib-3.0.1             |             py_0          82 KB  conda-forge\n",
      "    opt_einsum-3.3.0           |             py_0          51 KB  conda-forge\n",
      "    protobuf-3.13.0.1          |   py37h1834ac0_1         590 KB  conda-forge\n",
      "    pyasn1-0.4.8               |             py_0          53 KB  conda-forge\n",
      "    pyasn1-modules-0.2.7       |             py_0          60 KB  conda-forge\n",
      "    pyjwt-1.7.1                |             py_0          17 KB  conda-forge\n",
      "    requests-oauthlib-1.3.0    |     pyh9f0ad1d_0          21 KB  conda-forge\n",
      "    rsa-4.6                    |     pyh9f0ad1d_0          27 KB  conda-forge\n",
      "    tensorboard-2.4.0          |     pyhd8ed1ab_0         8.8 MB  conda-forge\n",
      "    tensorboard-plugin-wit-1.7.0|     pyh9f0ad1d_0         664 KB  conda-forge\n",
      "    tensorflow-2.1.0           |mkl_py37ha977152_0           4 KB\n",
      "    tensorflow-base-2.1.0      |mkl_py37h230818c_0        38.4 MB\n",
      "    tensorflow-estimator-2.2.0 |     pyh95af2a2_0         281 KB  conda-forge\n",
      "    termcolor-1.1.0            |             py_2           6 KB  conda-forge\n",
      "    typing-extensions-3.7.4.3  |                0           8 KB  conda-forge\n",
      "    typing_extensions-3.7.4.3  |             py_0          25 KB  conda-forge\n",
      "    yarl-1.6.3                 |   py37hcc03f2d_0         135 KB  conda-forge\n",
      "    ------------------------------------------------------------\n",
      "                                           Total:        74.4 MB\n",
      "\n",
      "The following NEW packages will be INSTALLED:\n",
      "\n",
      "  _tflow_select      pkgs/main/win-64::_tflow_select-2.3.0-mkl\n",
      "  absl-py            conda-forge/win-64::absl-py-0.10.0-py37hc8dfbb8_1\n",
      "  aiohttp            conda-forge/win-64::aiohttp-3.7.3-py37hcc03f2d_0\n",
      "  astor              conda-forge/noarch::astor-0.8.1-pyh9f0ad1d_0\n",
      "  async-timeout      conda-forge/noarch::async-timeout-3.0.1-py_1000\n",
      "  blinker            conda-forge/noarch::blinker-1.4-py_1\n",
      "  cachetools         conda-forge/noarch::cachetools-4.1.1-py_0\n",
      "  gast               conda-forge/noarch::gast-0.2.2-py_0\n",
      "  google-auth        conda-forge/noarch::google-auth-1.23.0-pyhd8ed1ab_0\n",
      "  google-auth-oauth~ conda-forge/noarch::google-auth-oauthlib-0.4.1-py_2\n",
      "  google-pasta       conda-forge/noarch::google-pasta-0.2.0-pyh8c360ce_0\n",
      "  grpcio             pkgs/main/win-64::grpcio-1.27.2-py37h351948d_0\n",
      "  importlib-metadata conda-forge/noarch::importlib-metadata-2.0.0-py_1\n",
      "  keras-applications conda-forge/noarch::keras-applications-1.0.8-py_1\n",
      "  keras-preprocessi~ conda-forge/noarch::keras-preprocessing-1.1.0-py_0\n",
      "  libmklml           pkgs/main/win-64::libmklml-2019.0.5-haa95532_0\n",
      "  libprotobuf        conda-forge/win-64::libprotobuf-3.13.0.1-h200bbdf_0\n",
      "  markdown           conda-forge/noarch::markdown-3.3.3-pyh9f0ad1d_0\n",
      "  multidict          conda-forge/win-64::multidict-4.7.5-py37h4ab8f01_2\n",
      "  oauthlib           conda-forge/noarch::oauthlib-3.0.1-py_0\n",
      "  opt_einsum         conda-forge/noarch::opt_einsum-3.3.0-py_0\n",
      "  protobuf           conda-forge/win-64::protobuf-3.13.0.1-py37h1834ac0_1\n",
      "  pyasn1             conda-forge/noarch::pyasn1-0.4.8-py_0\n",
      "  pyasn1-modules     conda-forge/noarch::pyasn1-modules-0.2.7-py_0\n",
      "  pyjwt              conda-forge/noarch::pyjwt-1.7.1-py_0\n",
      "  requests-oauthlib  conda-forge/noarch::requests-oauthlib-1.3.0-pyh9f0ad1d_0\n",
      "  rsa                conda-forge/noarch::rsa-4.6-pyh9f0ad1d_0\n",
      "  tensorboard        conda-forge/noarch::tensorboard-2.4.0-pyhd8ed1ab_0\n",
      "  tensorboard-plugi~ conda-forge/noarch::tensorboard-plugin-wit-1.7.0-pyh9f0ad1d_0\n",
      "  tensorflow         pkgs/main/win-64::tensorflow-2.1.0-mkl_py37ha977152_0\n",
      "  tensorflow-base    pkgs/main/win-64::tensorflow-base-2.1.0-mkl_py37h230818c_0\n",
      "  tensorflow-estima~ conda-forge/noarch::tensorflow-estimator-2.2.0-pyh95af2a2_0\n",
      "  termcolor          conda-forge/noarch::termcolor-1.1.0-py_2\n",
      "  typing-extensions  conda-forge/noarch::typing-extensions-3.7.4.3-0\n",
      "  typing_extensions  conda-forge/noarch::typing_extensions-3.7.4.3-py_0\n",
      "  yarl               conda-forge/win-64::yarl-1.6.3-py37hcc03f2d_0\n",
      "\n",
      "The following packages will be UPDATED:\n",
      "\n",
      "  conda                                4.8.3-py37hc8dfbb8_1 --> 4.9.2-py37h03978a9_0\n",
      "\n",
      "The following packages will be SUPERSEDED by a higher-priority channel:\n",
      "\n",
      "  certifi                                         pkgs/main --> conda-forge\n",
      "\n",
      "\n",
      "\n",
      "Downloading and Extracting Packages\n",
      "\n",
      "tensorflow-base-2.1. | 38.4 MB   |            |   0% \n",
      "tensorflow-base-2.1. | 38.4 MB   |            |   0% \n",
      "tensorflow-base-2.1. | 38.4 MB   |            |   0% \n",
      "tensorflow-base-2.1. | 38.4 MB   |            |   0% \n",
      "tensorflow-base-2.1. | 38.4 MB   |            |   1% \n",
      "tensorflow-base-2.1. | 38.4 MB   |            |   1% \n",
      "tensorflow-base-2.1. | 38.4 MB   |            |   1% \n",
      "tensorflow-base-2.1. | 38.4 MB   |            |   1% \n",
      "tensorflow-base-2.1. | 38.4 MB   | 1          |   1% \n",
      "tensorflow-base-2.1. | 38.4 MB   | 1          |   1% \n",
      "tensorflow-base-2.1. | 38.4 MB   | 1          |   1% \n",
      "tensorflow-base-2.1. | 38.4 MB   | 1          |   2% \n",
      "tensorflow-base-2.1. | 38.4 MB   | 1          |   2% \n",
      "tensorflow-base-2.1. | 38.4 MB   | 1          |   2% \n",
      "tensorflow-base-2.1. | 38.4 MB   | 1          |   2% \n",
      "tensorflow-base-2.1. | 38.4 MB   | 2          |   2% \n",
      "tensorflow-base-2.1. | 38.4 MB   | 2          |   2% \n",
      "tensorflow-base-2.1. | 38.4 MB   | 2          |   2% \n",
      "tensorflow-base-2.1. | 38.4 MB   | 2          |   3% \n",
      "tensorflow-base-2.1. | 38.4 MB   | 2          |   3% \n",
      "tensorflow-base-2.1. | 38.4 MB   | 2          |   3% \n",
      "tensorflow-base-2.1. | 38.4 MB   | 3          |   3% \n",
      "tensorflow-base-2.1. | 38.4 MB   | 3          |   3% \n",
      "tensorflow-base-2.1. | 38.4 MB   | 3          |   3% \n",
      "tensorflow-base-2.1. | 38.4 MB   | 3          |   4% \n",
      "tensorflow-base-2.1. | 38.4 MB   | 3          |   4% \n",
      "tensorflow-base-2.1. | 38.4 MB   | 3          |   4% \n",
      "tensorflow-base-2.1. | 38.4 MB   | 4          |   4% \n",
      "tensorflow-base-2.1. | 38.4 MB   | 4          |   4% \n",
      "tensorflow-base-2.1. | 38.4 MB   | 4          |   4% \n",
      "tensorflow-base-2.1. | 38.4 MB   | 4          |   5% \n",
      "tensorflow-base-2.1. | 38.4 MB   | 4          |   5% \n",
      "tensorflow-base-2.1. | 38.4 MB   | 4          |   5% \n",
      "tensorflow-base-2.1. | 38.4 MB   | 5          |   5% \n",
      "tensorflow-base-2.1. | 38.4 MB   | 5          |   5% \n",
      "tensorflow-base-2.1. | 38.4 MB   | 5          |   5% \n",
      "tensorflow-base-2.1. | 38.4 MB   | 5          |   6% \n",
      "tensorflow-base-2.1. | 38.4 MB   | 5          |   6% \n",
      "tensorflow-base-2.1. | 38.4 MB   | 5          |   6% \n",
      "tensorflow-base-2.1. | 38.4 MB   | 6          |   6% \n",
      "tensorflow-base-2.1. | 38.4 MB   | 6          |   6% \n",
      "tensorflow-base-2.1. | 38.4 MB   | 6          |   6% \n",
      "tensorflow-base-2.1. | 38.4 MB   | 6          |   7% \n",
      "tensorflow-base-2.1. | 38.4 MB   | 6          |   7% \n",
      "tensorflow-base-2.1. | 38.4 MB   | 6          |   7% \n",
      "tensorflow-base-2.1. | 38.4 MB   | 7          |   7% \n",
      "tensorflow-base-2.1. | 38.4 MB   | 7          |   7% \n",
      "tensorflow-base-2.1. | 38.4 MB   | 7          |   7% \n",
      "tensorflow-base-2.1. | 38.4 MB   | 7          |   8% \n",
      "tensorflow-base-2.1. | 38.4 MB   | 7          |   8% \n",
      "tensorflow-base-2.1. | 38.4 MB   | 7          |   8% \n",
      "tensorflow-base-2.1. | 38.4 MB   | 8          |   8% \n",
      "tensorflow-base-2.1. | 38.4 MB   | 8          |   8% \n",
      "tensorflow-base-2.1. | 38.4 MB   | 8          |   8% \n",
      "tensorflow-base-2.1. | 38.4 MB   | 8          |   9% \n",
      "tensorflow-base-2.1. | 38.4 MB   | 8          |   9% \n",
      "tensorflow-base-2.1. | 38.4 MB   | 8          |   9% \n",
      "tensorflow-base-2.1. | 38.4 MB   | 9          |   9% \n",
      "tensorflow-base-2.1. | 38.4 MB   | 9          |   9% \n",
      "tensorflow-base-2.1. | 38.4 MB   | 9          |   9% \n",
      "tensorflow-base-2.1. | 38.4 MB   | 9          |  10% \n",
      "tensorflow-base-2.1. | 38.4 MB   | 9          |  10% \n",
      "tensorflow-base-2.1. | 38.4 MB   | 9          |  10% \n",
      "tensorflow-base-2.1. | 38.4 MB   | #          |  10% \n",
      "tensorflow-base-2.1. | 38.4 MB   | #          |  10% \n",
      "tensorflow-base-2.1. | 38.4 MB   | #          |  10% \n",
      "tensorflow-base-2.1. | 38.4 MB   | #          |  11% \n",
      "tensorflow-base-2.1. | 38.4 MB   | #          |  11% \n",
      "tensorflow-base-2.1. | 38.4 MB   | #          |  11% \n",
      "tensorflow-base-2.1. | 38.4 MB   | #1         |  11% \n",
      "tensorflow-base-2.1. | 38.4 MB   | #1         |  11% \n",
      "tensorflow-base-2.1. | 38.4 MB   | #1         |  11% \n",
      "tensorflow-base-2.1. | 38.4 MB   | #1         |  12% \n",
      "tensorflow-base-2.1. | 38.4 MB   | #1         |  12% \n",
      "tensorflow-base-2.1. | 38.4 MB   | #1         |  12% \n",
      "tensorflow-base-2.1. | 38.4 MB   | #1         |  12% \n",
      "tensorflow-base-2.1. | 38.4 MB   | #2         |  12% \n",
      "tensorflow-base-2.1. | 38.4 MB   | #2         |  12% \n",
      "tensorflow-base-2.1. | 38.4 MB   | #2         |  12% \n",
      "tensorflow-base-2.1. | 38.4 MB   | #2         |  13% \n",
      "tensorflow-base-2.1. | 38.4 MB   | #2         |  13% \n",
      "tensorflow-base-2.1. | 38.4 MB   | #2         |  13% \n",
      "tensorflow-base-2.1. | 38.4 MB   | #3         |  13% \n",
      "tensorflow-base-2.1. | 38.4 MB   | #3         |  13% \n",
      "tensorflow-base-2.1. | 38.4 MB   | #3         |  13% \n",
      "tensorflow-base-2.1. | 38.4 MB   | #3         |  13% \n",
      "tensorflow-base-2.1. | 38.4 MB   | #3         |  14% \n",
      "tensorflow-base-2.1. | 38.4 MB   | #3         |  14% \n",
      "tensorflow-base-2.1. | 38.4 MB   | #4         |  14% \n",
      "tensorflow-base-2.1. | 38.4 MB   | #4         |  14% \n",
      "tensorflow-base-2.1. | 38.4 MB   | #4         |  14% \n",
      "tensorflow-base-2.1. | 38.4 MB   | #4         |  15% \n",
      "tensorflow-base-2.1. | 38.4 MB   | #4         |  15% \n",
      "tensorflow-base-2.1. | 38.4 MB   | #4         |  15% \n",
      "tensorflow-base-2.1. | 38.4 MB   | #5         |  15% \n",
      "tensorflow-base-2.1. | 38.4 MB   | #5         |  15% \n",
      "tensorflow-base-2.1. | 38.4 MB   | #5         |  15% \n",
      "tensorflow-base-2.1. | 38.4 MB   | #5         |  16% \n",
      "tensorflow-base-2.1. | 38.4 MB   | #5         |  16% \n",
      "tensorflow-base-2.1. | 38.4 MB   | #5         |  16% \n",
      "tensorflow-base-2.1. | 38.4 MB   | #6         |  16% \n",
      "tensorflow-base-2.1. | 38.4 MB   | #6         |  16% \n",
      "tensorflow-base-2.1. | 38.4 MB   | #6         |  16% \n",
      "tensorflow-base-2.1. | 38.4 MB   | #6         |  17% \n",
      "tensorflow-base-2.1. | 38.4 MB   | #6         |  17% \n",
      "tensorflow-base-2.1. | 38.4 MB   | #6         |  17% \n",
      "tensorflow-base-2.1. | 38.4 MB   | #6         |  17% \n",
      "tensorflow-base-2.1. | 38.4 MB   | #7         |  17% \n",
      "tensorflow-base-2.1. | 38.4 MB   | #7         |  17% \n",
      "tensorflow-base-2.1. | 38.4 MB   | #7         |  17% \n",
      "tensorflow-base-2.1. | 38.4 MB   | #7         |  18% \n",
      "tensorflow-base-2.1. | 38.4 MB   | #7         |  18% \n",
      "tensorflow-base-2.1. | 38.4 MB   | #7         |  18% \n",
      "tensorflow-base-2.1. | 38.4 MB   | #7         |  18% \n",
      "tensorflow-base-2.1. | 38.4 MB   | #8         |  18% \n",
      "tensorflow-base-2.1. | 38.4 MB   | #8         |  18% \n",
      "tensorflow-base-2.1. | 38.4 MB   | #8         |  18% \n",
      "tensorflow-base-2.1. | 38.4 MB   | #8         |  18% \n",
      "tensorflow-base-2.1. | 38.4 MB   | #8         |  18% \n",
      "tensorflow-base-2.1. | 38.4 MB   | #8         |  19% \n",
      "tensorflow-base-2.1. | 38.4 MB   | #8         |  19% \n",
      "tensorflow-base-2.1. | 38.4 MB   | #8         |  19% \n",
      "tensorflow-base-2.1. | 38.4 MB   | #8         |  19% \n",
      "tensorflow-base-2.1. | 38.4 MB   | #9         |  19% \n",
      "tensorflow-base-2.1. | 38.4 MB   | #9         |  19% \n",
      "tensorflow-base-2.1. | 38.4 MB   | #9         |  19% \n",
      "tensorflow-base-2.1. | 38.4 MB   | #9         |  20% \n",
      "tensorflow-base-2.1. | 38.4 MB   | #9         |  20% \n",
      "tensorflow-base-2.1. | 38.4 MB   | #9         |  20% \n",
      "tensorflow-base-2.1. | 38.4 MB   | #9         |  20% \n",
      "tensorflow-base-2.1. | 38.4 MB   | ##         |  20% \n",
      "tensorflow-base-2.1. | 38.4 MB   | ##         |  20% \n",
      "tensorflow-base-2.1. | 38.4 MB   | ##         |  20% \n",
      "tensorflow-base-2.1. | 38.4 MB   | ##         |  20% \n",
      "tensorflow-base-2.1. | 38.4 MB   | ##         |  21% \n",
      "tensorflow-base-2.1. | 38.4 MB   | ##         |  21% \n",
      "tensorflow-base-2.1. | 38.4 MB   | ##         |  21% \n",
      "tensorflow-base-2.1. | 38.4 MB   | ##1        |  21% \n",
      "tensorflow-base-2.1. | 38.4 MB   | ##1        |  21% \n",
      "tensorflow-base-2.1. | 38.4 MB   | ##1        |  21% \n",
      "tensorflow-base-2.1. | 38.4 MB   | ##1        |  22% \n",
      "tensorflow-base-2.1. | 38.4 MB   | ##1        |  22% \n",
      "tensorflow-base-2.1. | 38.4 MB   | ##1        |  22% \n",
      "tensorflow-base-2.1. | 38.4 MB   | ##2        |  22% \n",
      "tensorflow-base-2.1. | 38.4 MB   | ##2        |  22% \n",
      "tensorflow-base-2.1. | 38.4 MB   | ##2        |  22% \n",
      "tensorflow-base-2.1. | 38.4 MB   | ##2        |  23% \n",
      "tensorflow-base-2.1. | 38.4 MB   | ##2        |  23% \n",
      "tensorflow-base-2.1. | 38.4 MB   | ##2        |  23% \n",
      "tensorflow-base-2.1. | 38.4 MB   | ##2        |  23% \n",
      "tensorflow-base-2.1. | 38.4 MB   | ##3        |  23% \n",
      "tensorflow-base-2.1. | 38.4 MB   | ##3        |  23% \n",
      "tensorflow-base-2.1. | 38.4 MB   | ##3        |  23% \n",
      "tensorflow-base-2.1. | 38.4 MB   | ##3        |  23% \n",
      "tensorflow-base-2.1. | 38.4 MB   | ##3        |  24% \n",
      "tensorflow-base-2.1. | 38.4 MB   | ##3        |  24% \n",
      "tensorflow-base-2.1. | 38.4 MB   | ##3        |  24% \n",
      "tensorflow-base-2.1. | 38.4 MB   | ##3        |  24% \n",
      "tensorflow-base-2.1. | 38.4 MB   | ##4        |  24% \n",
      "tensorflow-base-2.1. | 38.4 MB   | ##4        |  24% \n",
      "tensorflow-base-2.1. | 38.4 MB   | ##4        |  24% \n",
      "tensorflow-base-2.1. | 38.4 MB   | ##4        |  25% \n",
      "tensorflow-base-2.1. | 38.4 MB   | ##4        |  25% \n",
      "tensorflow-base-2.1. | 38.4 MB   | ##4        |  25% \n",
      "tensorflow-base-2.1. | 38.4 MB   | ##4        |  25% \n",
      "tensorflow-base-2.1. | 38.4 MB   | ##5        |  25% \n",
      "tensorflow-base-2.1. | 38.4 MB   | ##5        |  25% \n",
      "tensorflow-base-2.1. | 38.4 MB   | ##5        |  25% \n",
      "tensorflow-base-2.1. | 38.4 MB   | ##5        |  25% \n",
      "tensorflow-base-2.1. | 38.4 MB   | ##5        |  26% \n",
      "tensorflow-base-2.1. | 38.4 MB   | ##5        |  26% \n",
      "tensorflow-base-2.1. | 38.4 MB   | ##5        |  26% \n",
      "tensorflow-base-2.1. | 38.4 MB   | ##6        |  26% \n",
      "tensorflow-base-2.1. | 38.4 MB   | ##6        |  26% \n",
      "tensorflow-base-2.1. | 38.4 MB   | ##6        |  26% \n",
      "tensorflow-base-2.1. | 38.4 MB   | ##6        |  27% \n",
      "tensorflow-base-2.1. | 38.4 MB   | ##6        |  27% \n",
      "tensorflow-base-2.1. | 38.4 MB   | ##6        |  27% \n",
      "tensorflow-base-2.1. | 38.4 MB   | ##6        |  27% \n",
      "tensorflow-base-2.1. | 38.4 MB   | ##7        |  27% \n",
      "tensorflow-base-2.1. | 38.4 MB   | ##7        |  27% \n",
      "tensorflow-base-2.1. | 38.4 MB   | ##7        |  27% \n",
      "tensorflow-base-2.1. | 38.4 MB   | ##7        |  28% \n",
      "tensorflow-base-2.1. | 38.4 MB   | ##7        |  28% \n",
      "tensorflow-base-2.1. | 38.4 MB   | ##7        |  28% \n",
      "tensorflow-base-2.1. | 38.4 MB   | ##7        |  28% \n",
      "tensorflow-base-2.1. | 38.4 MB   | ##8        |  28% \n",
      "tensorflow-base-2.1. | 38.4 MB   | ##8        |  28% \n",
      "tensorflow-base-2.1. | 38.4 MB   | ##8        |  28% \n",
      "tensorflow-base-2.1. | 38.4 MB   | ##8        |  29% \n",
      "tensorflow-base-2.1. | 38.4 MB   | ##8        |  29% \n",
      "tensorflow-base-2.1. | 38.4 MB   | ##8        |  29% \n",
      "tensorflow-base-2.1. | 38.4 MB   | ##9        |  29% \n",
      "tensorflow-base-2.1. | 38.4 MB   | ##9        |  29% \n",
      "tensorflow-base-2.1. | 38.4 MB   | ##9        |  29% \n",
      "tensorflow-base-2.1. | 38.4 MB   | ##9        |  29% \n",
      "tensorflow-base-2.1. | 38.4 MB   | ##9        |  30% \n",
      "tensorflow-base-2.1. | 38.4 MB   | ##9        |  30% \n",
      "tensorflow-base-2.1. | 38.4 MB   | ##9        |  30% \n",
      "tensorflow-base-2.1. | 38.4 MB   | ###        |  30% \n",
      "tensorflow-base-2.1. | 38.4 MB   | ###        |  30% \n",
      "tensorflow-base-2.1. | 38.4 MB   | ###        |  30% \n",
      "tensorflow-base-2.1. | 38.4 MB   | ###        |  31% \n",
      "tensorflow-base-2.1. | 38.4 MB   | ###        |  31% \n",
      "tensorflow-base-2.1. | 38.4 MB   | ###        |  31% \n",
      "tensorflow-base-2.1. | 38.4 MB   | ###1       |  31% \n",
      "tensorflow-base-2.1. | 38.4 MB   | ###1       |  31% \n",
      "tensorflow-base-2.1. | 38.4 MB   | ###1       |  31% \n",
      "tensorflow-base-2.1. | 38.4 MB   | ###1       |  32% \n",
      "tensorflow-base-2.1. | 38.4 MB   | ###1       |  32% \n",
      "tensorflow-base-2.1. | 38.4 MB   | ###1       |  32% \n",
      "tensorflow-base-2.1. | 38.4 MB   | ###2       |  32% \n",
      "tensorflow-base-2.1. | 38.4 MB   | ###2       |  32% \n",
      "tensorflow-base-2.1. | 38.4 MB   | ###2       |  32% \n",
      "tensorflow-base-2.1. | 38.4 MB   | ###2       |  33% \n",
      "tensorflow-base-2.1. | 38.4 MB   | ###2       |  33% \n",
      "tensorflow-base-2.1. | 38.4 MB   | ###2       |  33% \n",
      "tensorflow-base-2.1. | 38.4 MB   | ###2       |  33% \n",
      "tensorflow-base-2.1. | 38.4 MB   | ###3       |  33% \n",
      "tensorflow-base-2.1. | 38.4 MB   | ###3       |  33% \n",
      "tensorflow-base-2.1. | 38.4 MB   | ###3       |  33% \n",
      "tensorflow-base-2.1. | 38.4 MB   | ###3       |  34% \n",
      "tensorflow-base-2.1. | 38.4 MB   | ###3       |  34% \n",
      "tensorflow-base-2.1. | 38.4 MB   | ###3       |  34% \n",
      "tensorflow-base-2.1. | 38.4 MB   | ###3       |  34% \n",
      "tensorflow-base-2.1. | 38.4 MB   | ###4       |  34% \n",
      "tensorflow-base-2.1. | 38.4 MB   | ###4       |  34% \n",
      "tensorflow-base-2.1. | 38.4 MB   | ###4       |  34% \n",
      "tensorflow-base-2.1. | 38.4 MB   | ###4       |  34% \n",
      "tensorflow-base-2.1. | 38.4 MB   | ###4       |  35% \n",
      "tensorflow-base-2.1. | 38.4 MB   | ###4       |  35% \n",
      "tensorflow-base-2.1. | 38.4 MB   | ###4       |  35% \n",
      "tensorflow-base-2.1. | 38.4 MB   | ###5       |  35% \n",
      "tensorflow-base-2.1. | 38.4 MB   | ###5       |  35% \n",
      "tensorflow-base-2.1. | 38.4 MB   | ###5       |  35% \n",
      "tensorflow-base-2.1. | 38.4 MB   | ###5       |  35% \n",
      "tensorflow-base-2.1. | 38.4 MB   | ###5       |  36% \n",
      "tensorflow-base-2.1. | 38.4 MB   | ###5       |  36% \n",
      "tensorflow-base-2.1. | 38.4 MB   | ###5       |  36% \n",
      "tensorflow-base-2.1. | 38.4 MB   | ###6       |  36% \n",
      "tensorflow-base-2.1. | 38.4 MB   | ###6       |  36% \n",
      "tensorflow-base-2.1. | 38.4 MB   | ###6       |  36% \n",
      "tensorflow-base-2.1. | 38.4 MB   | ###6       |  37% \n",
      "tensorflow-base-2.1. | 38.4 MB   | ###6       |  37% \n",
      "tensorflow-base-2.1. | 38.4 MB   | ###6       |  37% \n",
      "tensorflow-base-2.1. | 38.4 MB   | ###7       |  37% \n",
      "tensorflow-base-2.1. | 38.4 MB   | ###7       |  37% \n",
      "tensorflow-base-2.1. | 38.4 MB   | ###7       |  37% \n",
      "tensorflow-base-2.1. | 38.4 MB   | ###7       |  38% \n",
      "tensorflow-base-2.1. | 38.4 MB   | ###7       |  38% \n",
      "tensorflow-base-2.1. | 38.4 MB   | ###7       |  38% \n",
      "tensorflow-base-2.1. | 38.4 MB   | ###8       |  38% \n",
      "tensorflow-base-2.1. | 38.4 MB   | ###8       |  38% \n",
      "tensorflow-base-2.1. | 38.4 MB   | ###8       |  38% \n",
      "tensorflow-base-2.1. | 38.4 MB   | ###8       |  39% \n",
      "tensorflow-base-2.1. | 38.4 MB   | ###8       |  39% \n",
      "tensorflow-base-2.1. | 38.4 MB   | ###8       |  39% \n",
      "tensorflow-base-2.1. | 38.4 MB   | ###9       |  39% \n",
      "tensorflow-base-2.1. | 38.4 MB   | ###9       |  39% \n",
      "tensorflow-base-2.1. | 38.4 MB   | ###9       |  39% \n",
      "tensorflow-base-2.1. | 38.4 MB   | ###9       |  40% \n",
      "tensorflow-base-2.1. | 38.4 MB   | ###9       |  40% \n",
      "tensorflow-base-2.1. | 38.4 MB   | ###9       |  40% \n",
      "tensorflow-base-2.1. | 38.4 MB   | ####       |  40% \n",
      "tensorflow-base-2.1. | 38.4 MB   | ####       |  40% \n",
      "tensorflow-base-2.1. | 38.4 MB   | ####       |  40% \n",
      "tensorflow-base-2.1. | 38.4 MB   | ####       |  41% \n",
      "tensorflow-base-2.1. | 38.4 MB   | ####       |  41% \n",
      "tensorflow-base-2.1. | 38.4 MB   | ####       |  41% \n",
      "tensorflow-base-2.1. | 38.4 MB   | ####1      |  41% \n",
      "tensorflow-base-2.1. | 38.4 MB   | ####1      |  41% \n",
      "tensorflow-base-2.1. | 38.4 MB   | ####1      |  41% \n",
      "tensorflow-base-2.1. | 38.4 MB   | ####1      |  41% \n",
      "tensorflow-base-2.1. | 38.4 MB   | ####1      |  42% \n",
      "tensorflow-base-2.1. | 38.4 MB   | ####1      |  42% \n",
      "tensorflow-base-2.1. | 38.4 MB   | ####1      |  42% \n",
      "tensorflow-base-2.1. | 38.4 MB   | ####2      |  42% \n",
      "tensorflow-base-2.1. | 38.4 MB   | ####2      |  42% \n",
      "tensorflow-base-2.1. | 38.4 MB   | ####2      |  42% \n",
      "tensorflow-base-2.1. | 38.4 MB   | ####2      |  43% \n",
      "tensorflow-base-2.1. | 38.4 MB   | ####2      |  43% \n",
      "tensorflow-base-2.1. | 38.4 MB   | ####2      |  43% \n",
      "tensorflow-base-2.1. | 38.4 MB   | ####3      |  43% \n",
      "tensorflow-base-2.1. | 38.4 MB   | ####3      |  43% \n",
      "tensorflow-base-2.1. | 38.4 MB   | ####3      |  43% \n",
      "tensorflow-base-2.1. | 38.4 MB   | ####3      |  44% \n",
      "tensorflow-base-2.1. | 38.4 MB   | ####3      |  44% \n",
      "tensorflow-base-2.1. | 38.4 MB   | ####3      |  44% \n",
      "tensorflow-base-2.1. | 38.4 MB   | ####4      |  44% \n",
      "tensorflow-base-2.1. | 38.4 MB   | ####4      |  44% \n",
      "tensorflow-base-2.1. | 38.4 MB   | ####4      |  44% \n",
      "tensorflow-base-2.1. | 38.4 MB   | ####4      |  45% \n",
      "tensorflow-base-2.1. | 38.4 MB   | ####4      |  45% \n",
      "tensorflow-base-2.1. | 38.4 MB   | ####4      |  45% \n",
      "tensorflow-base-2.1. | 38.4 MB   | ####5      |  45% \n",
      "tensorflow-base-2.1. | 38.4 MB   | ####5      |  45% \n",
      "tensorflow-base-2.1. | 38.4 MB   | ####5      |  45% \n",
      "tensorflow-base-2.1. | 38.4 MB   | ####5      |  46% \n",
      "tensorflow-base-2.1. | 38.4 MB   | ####5      |  46% \n",
      "tensorflow-base-2.1. | 38.4 MB   | ####5      |  46% \n",
      "tensorflow-base-2.1. | 38.4 MB   | ####6      |  46% \n",
      "tensorflow-base-2.1. | 38.4 MB   | ####6      |  46% \n",
      "tensorflow-base-2.1. | 38.4 MB   | ####6      |  46% \n",
      "tensorflow-base-2.1. | 38.4 MB   | ####6      |  46% \n",
      "tensorflow-base-2.1. | 38.4 MB   | ####6      |  47% \n",
      "tensorflow-base-2.1. | 38.4 MB   | ####6      |  47% \n",
      "tensorflow-base-2.1. | 38.4 MB   | ####6      |  47% \n",
      "tensorflow-base-2.1. | 38.4 MB   | ####7      |  47% \n",
      "tensorflow-base-2.1. | 38.4 MB   | ####7      |  47% \n",
      "tensorflow-base-2.1. | 38.4 MB   | ####7      |  47% \n",
      "tensorflow-base-2.1. | 38.4 MB   | ####7      |  48% \n",
      "tensorflow-base-2.1. | 38.4 MB   | ####7      |  48% \n",
      "tensorflow-base-2.1. | 38.4 MB   | ####7      |  48% \n",
      "tensorflow-base-2.1. | 38.4 MB   | ####8      |  48% \n",
      "tensorflow-base-2.1. | 38.4 MB   | ####8      |  48% \n",
      "tensorflow-base-2.1. | 38.4 MB   | ####8      |  48% \n",
      "tensorflow-base-2.1. | 38.4 MB   | ####8      |  49% \n",
      "tensorflow-base-2.1. | 38.4 MB   | ####8      |  49% \n",
      "tensorflow-base-2.1. | 38.4 MB   | ####8      |  49% \n",
      "tensorflow-base-2.1. | 38.4 MB   | ####9      |  49% \n",
      "tensorflow-base-2.1. | 38.4 MB   | ####9      |  49% \n",
      "tensorflow-base-2.1. | 38.4 MB   | ####9      |  49% \n",
      "tensorflow-base-2.1. | 38.4 MB   | ####9      |  50% \n",
      "tensorflow-base-2.1. | 38.4 MB   | ####9      |  50% \n",
      "tensorflow-base-2.1. | 38.4 MB   | ####9      |  50% \n",
      "tensorflow-base-2.1. | 38.4 MB   | #####      |  50% \n",
      "tensorflow-base-2.1. | 38.4 MB   | #####      |  50% \n",
      "tensorflow-base-2.1. | 38.4 MB   | #####      |  50% \n",
      "tensorflow-base-2.1. | 38.4 MB   | #####      |  51% \n",
      "tensorflow-base-2.1. | 38.4 MB   | #####      |  51% \n",
      "tensorflow-base-2.1. | 38.4 MB   | #####      |  51% \n",
      "tensorflow-base-2.1. | 38.4 MB   | #####1     |  51% \n",
      "tensorflow-base-2.1. | 38.4 MB   | #####1     |  51% \n",
      "tensorflow-base-2.1. | 38.4 MB   | #####1     |  51% \n",
      "tensorflow-base-2.1. | 38.4 MB   | #####1     |  52% \n",
      "tensorflow-base-2.1. | 38.4 MB   | #####1     |  52% \n",
      "tensorflow-base-2.1. | 38.4 MB   | #####1     |  52% \n",
      "tensorflow-base-2.1. | 38.4 MB   | #####2     |  52% \n",
      "tensorflow-base-2.1. | 38.4 MB   | #####2     |  52% \n",
      "tensorflow-base-2.1. | 38.4 MB   | #####2     |  52% \n",
      "tensorflow-base-2.1. | 38.4 MB   | #####2     |  53% \n",
      "tensorflow-base-2.1. | 38.4 MB   | #####2     |  53% \n",
      "tensorflow-base-2.1. | 38.4 MB   | #####2     |  53% \n",
      "tensorflow-base-2.1. | 38.4 MB   | #####3     |  53% \n",
      "tensorflow-base-2.1. | 38.4 MB   | #####3     |  53% \n",
      "tensorflow-base-2.1. | 38.4 MB   | #####3     |  53% \n",
      "tensorflow-base-2.1. | 38.4 MB   | #####3     |  54% \n",
      "tensorflow-base-2.1. | 38.4 MB   | #####3     |  54% \n",
      "tensorflow-base-2.1. | 38.4 MB   | #####3     |  54% \n",
      "tensorflow-base-2.1. | 38.4 MB   | #####3     |  54% \n",
      "tensorflow-base-2.1. | 38.4 MB   | #####3     |  54% \n",
      "tensorflow-base-2.1. | 38.4 MB   | #####4     |  54% \n",
      "tensorflow-base-2.1. | 38.4 MB   | #####4     |  54% \n",
      "tensorflow-base-2.1. | 38.4 MB   | #####4     |  54% \n",
      "tensorflow-base-2.1. | 38.4 MB   | #####4     |  54% \n",
      "tensorflow-base-2.1. | 38.4 MB   | #####4     |  55% \n",
      "tensorflow-base-2.1. | 38.4 MB   | #####4     |  55% \n",
      "tensorflow-base-2.1. | 38.4 MB   | #####5     |  55% \n",
      "tensorflow-base-2.1. | 38.4 MB   | #####5     |  55% \n",
      "tensorflow-base-2.1. | 38.4 MB   | #####5     |  56% \n",
      "tensorflow-base-2.1. | 38.4 MB   | #####5     |  56% \n",
      "tensorflow-base-2.1. | 38.4 MB   | #####5     |  56% \n",
      "tensorflow-base-2.1. | 38.4 MB   | #####6     |  56% \n",
      "tensorflow-base-2.1. | 38.4 MB   | #####6     |  56% \n",
      "tensorflow-base-2.1. | 38.4 MB   | #####6     |  56% \n",
      "tensorflow-base-2.1. | 38.4 MB   | #####6     |  56% \n",
      "tensorflow-base-2.1. | 38.4 MB   | #####6     |  57% \n",
      "tensorflow-base-2.1. | 38.4 MB   | #####6     |  57% \n",
      "tensorflow-base-2.1. | 38.4 MB   | #####6     |  57% \n",
      "tensorflow-base-2.1. | 38.4 MB   | #####6     |  57% \n",
      "tensorflow-base-2.1. | 38.4 MB   | #####6     |  57% \n",
      "tensorflow-base-2.1. | 38.4 MB   | #####7     |  57% \n",
      "tensorflow-base-2.1. | 38.4 MB   | #####7     |  57% \n",
      "tensorflow-base-2.1. | 38.4 MB   | #####7     |  58% \n",
      "tensorflow-base-2.1. | 38.4 MB   | #####7     |  58% \n",
      "tensorflow-base-2.1. | 38.4 MB   | #####7     |  58% \n",
      "tensorflow-base-2.1. | 38.4 MB   | #####7     |  58% \n",
      "tensorflow-base-2.1. | 38.4 MB   | #####7     |  58% \n",
      "tensorflow-base-2.1. | 38.4 MB   | #####8     |  58% \n",
      "tensorflow-base-2.1. | 38.4 MB   | #####8     |  58% \n",
      "tensorflow-base-2.1. | 38.4 MB   | #####8     |  58% \n",
      "tensorflow-base-2.1. | 38.4 MB   | #####8     |  59% \n",
      "tensorflow-base-2.1. | 38.4 MB   | #####8     |  59% \n",
      "tensorflow-base-2.1. | 38.4 MB   | #####8     |  59% \n",
      "tensorflow-base-2.1. | 38.4 MB   | #####8     |  59% \n",
      "tensorflow-base-2.1. | 38.4 MB   | #####9     |  59% \n",
      "tensorflow-base-2.1. | 38.4 MB   | #####9     |  60% \n",
      "tensorflow-base-2.1. | 38.4 MB   | #####9     |  60% \n",
      "tensorflow-base-2.1. | 38.4 MB   | #####9     |  60% \n",
      "tensorflow-base-2.1. | 38.4 MB   | ######     |  60% \n",
      "tensorflow-base-2.1. | 38.4 MB   | ######     |  60% \n",
      "tensorflow-base-2.1. | 38.4 MB   | ######     |  60% \n",
      "tensorflow-base-2.1. | 38.4 MB   | ######     |  61% \n",
      "tensorflow-base-2.1. | 38.4 MB   | ######1    |  61% \n",
      "tensorflow-base-2.1. | 38.4 MB   | ######1    |  61% \n",
      "tensorflow-base-2.1. | 38.4 MB   | ######1    |  61% \n",
      "tensorflow-base-2.1. | 38.4 MB   | ######1    |  61% \n",
      "tensorflow-base-2.1. | 38.4 MB   | ######1    |  62% \n",
      "tensorflow-base-2.1. | 38.4 MB   | ######1    |  62% \n",
      "tensorflow-base-2.1. | 38.4 MB   | ######1    |  62% \n",
      "tensorflow-base-2.1. | 38.4 MB   | ######2    |  62% \n",
      "tensorflow-base-2.1. | 38.4 MB   | ######2    |  63% \n",
      "tensorflow-base-2.1. | 38.4 MB   | ######2    |  63% \n",
      "tensorflow-base-2.1. | 38.4 MB   | ######3    |  63% \n",
      "tensorflow-base-2.1. | 38.4 MB   | ######3    |  63% \n",
      "tensorflow-base-2.1. | 38.4 MB   | ######3    |  63% \n",
      "tensorflow-base-2.1. | 38.4 MB   | ######3    |  63% \n",
      "tensorflow-base-2.1. | 38.4 MB   | ######3    |  64% \n",
      "tensorflow-base-2.1. | 38.4 MB   | ######3    |  64% \n",
      "tensorflow-base-2.1. | 38.4 MB   | ######3    |  64% \n",
      "tensorflow-base-2.1. | 38.4 MB   | ######4    |  64% \n",
      "tensorflow-base-2.1. | 38.4 MB   | ######4    |  64% \n",
      "tensorflow-base-2.1. | 38.4 MB   | ######4    |  65% \n",
      "tensorflow-base-2.1. | 38.4 MB   | ######4    |  65% \n",
      "tensorflow-base-2.1. | 38.4 MB   | ######4    |  65% \n",
      "tensorflow-base-2.1. | 38.4 MB   | ######5    |  65% \n",
      "tensorflow-base-2.1. | 38.4 MB   | ######5    |  65% \n",
      "tensorflow-base-2.1. | 38.4 MB   | ######5    |  65% \n",
      "tensorflow-base-2.1. | 38.4 MB   | ######5    |  66% \n",
      "tensorflow-base-2.1. | 38.4 MB   | ######5    |  66% \n",
      "tensorflow-base-2.1. | 38.4 MB   | ######5    |  66% \n",
      "tensorflow-base-2.1. | 38.4 MB   | ######6    |  66% \n",
      "tensorflow-base-2.1. | 38.4 MB   | ######6    |  66% \n",
      "tensorflow-base-2.1. | 38.4 MB   | ######6    |  66% \n",
      "tensorflow-base-2.1. | 38.4 MB   | ######6    |  67% \n",
      "tensorflow-base-2.1. | 38.4 MB   | ######6    |  67% \n",
      "tensorflow-base-2.1. | 38.4 MB   | ######7    |  67% \n",
      "tensorflow-base-2.1. | 38.4 MB   | ######7    |  67% \n",
      "tensorflow-base-2.1. | 38.4 MB   | ######7    |  67% \n",
      "tensorflow-base-2.1. | 38.4 MB   | ######7    |  68% \n",
      "tensorflow-base-2.1. | 38.4 MB   | ######7    |  68% \n",
      "tensorflow-base-2.1. | 38.4 MB   | ######7    |  68% \n",
      "tensorflow-base-2.1. | 38.4 MB   | ######8    |  68% \n",
      "tensorflow-base-2.1. | 38.4 MB   | ######8    |  69% \n",
      "tensorflow-base-2.1. | 38.4 MB   | ######8    |  69% \n",
      "tensorflow-base-2.1. | 38.4 MB   | ######8    |  69% \n",
      "tensorflow-base-2.1. | 38.4 MB   | ######8    |  69% \n",
      "tensorflow-base-2.1. | 38.4 MB   | ######9    |  69% \n",
      "tensorflow-base-2.1. | 38.4 MB   | ######9    |  69% \n",
      "tensorflow-base-2.1. | 38.4 MB   | ######9    |  69% \n",
      "tensorflow-base-2.1. | 38.4 MB   | ######9    |  69% \n",
      "tensorflow-base-2.1. | 38.4 MB   | ######9    |  70% \n",
      "tensorflow-base-2.1. | 38.4 MB   | ######9    |  70% \n",
      "tensorflow-base-2.1. | 38.4 MB   | ######9    |  70% \n",
      "tensorflow-base-2.1. | 38.4 MB   | ######9    |  70% \n",
      "tensorflow-base-2.1. | 38.4 MB   | #######    |  70% \n",
      "tensorflow-base-2.1. | 38.4 MB   | #######    |  70% \n",
      "tensorflow-base-2.1. | 38.4 MB   | #######    |  70% \n",
      "tensorflow-base-2.1. | 38.4 MB   | #######    |  71% \n",
      "tensorflow-base-2.1. | 38.4 MB   | #######    |  71% \n",
      "tensorflow-base-2.1. | 38.4 MB   | #######    |  71% \n",
      "tensorflow-base-2.1. | 38.4 MB   | #######    |  71% \n",
      "tensorflow-base-2.1. | 38.4 MB   | #######1   |  71% \n",
      "tensorflow-base-2.1. | 38.4 MB   | #######1   |  71% \n",
      "tensorflow-base-2.1. | 38.4 MB   | #######1   |  71% \n",
      "tensorflow-base-2.1. | 38.4 MB   | #######1   |  72% \n",
      "tensorflow-base-2.1. | 38.4 MB   | #######1   |  72% \n",
      "tensorflow-base-2.1. | 38.4 MB   | #######1   |  72% \n",
      "tensorflow-base-2.1. | 38.4 MB   | #######2   |  72% \n",
      "tensorflow-base-2.1. | 38.4 MB   | #######2   |  72% \n",
      "tensorflow-base-2.1. | 38.4 MB   | #######2   |  73% \n",
      "tensorflow-base-2.1. | 38.4 MB   | #######2   |  73% \n",
      "tensorflow-base-2.1. | 38.4 MB   | #######2   |  73% \n",
      "tensorflow-base-2.1. | 38.4 MB   | #######3   |  73% \n",
      "tensorflow-base-2.1. | 38.4 MB   | #######3   |  73% \n",
      "tensorflow-base-2.1. | 38.4 MB   | #######3   |  73% \n",
      "tensorflow-base-2.1. | 38.4 MB   | #######3   |  74% \n",
      "tensorflow-base-2.1. | 38.4 MB   | #######3   |  74% \n",
      "tensorflow-base-2.1. | 38.4 MB   | #######4   |  74% \n",
      "tensorflow-base-2.1. | 38.4 MB   | #######4   |  74% \n",
      "tensorflow-base-2.1. | 38.4 MB   | #######4   |  75% \n",
      "tensorflow-base-2.1. | 38.4 MB   | #######4   |  75% \n",
      "tensorflow-base-2.1. | 38.4 MB   | #######4   |  75% \n",
      "tensorflow-base-2.1. | 38.4 MB   | #######5   |  75% \n",
      "tensorflow-base-2.1. | 38.4 MB   | #######5   |  75% \n",
      "tensorflow-base-2.1. | 38.4 MB   | #######5   |  76% \n",
      "tensorflow-base-2.1. | 38.4 MB   | #######5   |  76% \n",
      "tensorflow-base-2.1. | 38.4 MB   | #######5   |  76% \n",
      "tensorflow-base-2.1. | 38.4 MB   | #######6   |  76% \n",
      "tensorflow-base-2.1. | 38.4 MB   | #######6   |  76% \n",
      "tensorflow-base-2.1. | 38.4 MB   | #######6   |  77% \n",
      "tensorflow-base-2.1. | 38.4 MB   | #######6   |  77% \n",
      "tensorflow-base-2.1. | 38.4 MB   | #######6   |  77% \n",
      "tensorflow-base-2.1. | 38.4 MB   | #######7   |  77% \n",
      "tensorflow-base-2.1. | 38.4 MB   | #######7   |  77% \n",
      "tensorflow-base-2.1. | 38.4 MB   | #######7   |  77% \n",
      "tensorflow-base-2.1. | 38.4 MB   | #######7   |  78% \n",
      "tensorflow-base-2.1. | 38.4 MB   | #######7   |  78% \n",
      "tensorflow-base-2.1. | 38.4 MB   | #######7   |  78% \n",
      "tensorflow-base-2.1. | 38.4 MB   | #######8   |  78% \n",
      "tensorflow-base-2.1. | 38.4 MB   | #######8   |  78% \n",
      "tensorflow-base-2.1. | 38.4 MB   | #######8   |  78% \n",
      "tensorflow-base-2.1. | 38.4 MB   | #######8   |  79% \n",
      "tensorflow-base-2.1. | 38.4 MB   | #######8   |  79% \n",
      "tensorflow-base-2.1. | 38.4 MB   | #######9   |  79% \n",
      "tensorflow-base-2.1. | 38.4 MB   | #######9   |  79% \n",
      "tensorflow-base-2.1. | 38.4 MB   | #######9   |  79% \n",
      "tensorflow-base-2.1. | 38.4 MB   | #######9   |  80% \n",
      "tensorflow-base-2.1. | 38.4 MB   | #######9   |  80% \n",
      "tensorflow-base-2.1. | 38.4 MB   | ########   |  80% \n",
      "tensorflow-base-2.1. | 38.4 MB   | ########   |  80% \n",
      "tensorflow-base-2.1. | 38.4 MB   | ########   |  80% \n",
      "tensorflow-base-2.1. | 38.4 MB   | ########   |  81% \n",
      "tensorflow-base-2.1. | 38.4 MB   | ########   |  81% \n",
      "tensorflow-base-2.1. | 38.4 MB   | ########   |  81% \n",
      "tensorflow-base-2.1. | 38.4 MB   | ########   |  81% \n",
      "tensorflow-base-2.1. | 38.4 MB   | ########1  |  81% \n",
      "tensorflow-base-2.1. | 38.4 MB   | ########2  |  82% \n",
      "tensorflow-base-2.1. | 38.4 MB   | ########2  |  82% \n",
      "tensorflow-base-2.1. | 38.4 MB   | ########2  |  83% \n",
      "tensorflow-base-2.1. | 38.4 MB   | ########2  |  83% \n",
      "tensorflow-base-2.1. | 38.4 MB   | ########2  |  83% \n",
      "tensorflow-base-2.1. | 38.4 MB   | ########3  |  83% \n",
      "tensorflow-base-2.1. | 38.4 MB   | ########3  |  83% \n",
      "tensorflow-base-2.1. | 38.4 MB   | ########3  |  83% \n",
      "tensorflow-base-2.1. | 38.4 MB   | ########3  |  84% \n",
      "tensorflow-base-2.1. | 38.4 MB   | ########4  |  84% \n",
      "tensorflow-base-2.1. | 38.4 MB   | ########4  |  85% \n",
      "tensorflow-base-2.1. | 38.4 MB   | ########4  |  85% \n",
      "tensorflow-base-2.1. | 38.4 MB   | ########5  |  85% \n",
      "tensorflow-base-2.1. | 38.4 MB   | ########5  |  85% \n",
      "tensorflow-base-2.1. | 38.4 MB   | ########5  |  85% \n",
      "tensorflow-base-2.1. | 38.4 MB   | ########6  |  86% \n",
      "tensorflow-base-2.1. | 38.4 MB   | ########6  |  86% \n",
      "tensorflow-base-2.1. | 38.4 MB   | ########6  |  87% \n",
      "tensorflow-base-2.1. | 38.4 MB   | ########6  |  87% \n",
      "tensorflow-base-2.1. | 38.4 MB   | ########6  |  87% \n",
      "tensorflow-base-2.1. | 38.4 MB   | ########7  |  87% \n",
      "tensorflow-base-2.1. | 38.4 MB   | ########7  |  87% \n",
      "tensorflow-base-2.1. | 38.4 MB   | ########7  |  87% \n",
      "tensorflow-base-2.1. | 38.4 MB   | ########7  |  87% \n",
      "tensorflow-base-2.1. | 38.4 MB   | ########7  |  88% \n",
      "tensorflow-base-2.1. | 38.4 MB   | ########7  |  88% \n",
      "tensorflow-base-2.1. | 38.4 MB   | ########7  |  88% \n",
      "tensorflow-base-2.1. | 38.4 MB   | ########7  |  88% \n",
      "tensorflow-base-2.1. | 38.4 MB   | ########8  |  89% \n",
      "tensorflow-base-2.1. | 38.4 MB   | ########8  |  89% \n",
      "tensorflow-base-2.1. | 38.4 MB   | ########9  |  89% \n",
      "tensorflow-base-2.1. | 38.4 MB   | ########9  |  89% \n",
      "tensorflow-base-2.1. | 38.4 MB   | ########9  |  90% \n",
      "tensorflow-base-2.1. | 38.4 MB   | #########  |  91% \n",
      "tensorflow-base-2.1. | 38.4 MB   | #########1 |  91% \n",
      "tensorflow-base-2.1. | 38.4 MB   | #########1 |  91% \n",
      "tensorflow-base-2.1. | 38.4 MB   | #########1 |  92% \n",
      "tensorflow-base-2.1. | 38.4 MB   | #########1 |  92% \n",
      "tensorflow-base-2.1. | 38.4 MB   | #########1 |  92% \n",
      "tensorflow-base-2.1. | 38.4 MB   | #########2 |  92% \n",
      "tensorflow-base-2.1. | 38.4 MB   | #########2 |  92% \n",
      "tensorflow-base-2.1. | 38.4 MB   | #########2 |  92% \n",
      "tensorflow-base-2.1. | 38.4 MB   | #########2 |  93% \n",
      "tensorflow-base-2.1. | 38.4 MB   | #########2 |  93% \n",
      "tensorflow-base-2.1. | 38.4 MB   | #########2 |  93% \n",
      "tensorflow-base-2.1. | 38.4 MB   | #########3 |  93% \n",
      "tensorflow-base-2.1. | 38.4 MB   | #########3 |  93% \n",
      "tensorflow-base-2.1. | 38.4 MB   | #########3 |  94% \n",
      "tensorflow-base-2.1. | 38.4 MB   | #########3 |  94% \n",
      "tensorflow-base-2.1. | 38.4 MB   | #########3 |  94% \n",
      "tensorflow-base-2.1. | 38.4 MB   | #########4 |  94% \n",
      "tensorflow-base-2.1. | 38.4 MB   | #########4 |  94% \n",
      "tensorflow-base-2.1. | 38.4 MB   | #########4 |  95% \n",
      "tensorflow-base-2.1. | 38.4 MB   | #########4 |  95% \n",
      "tensorflow-base-2.1. | 38.4 MB   | #########4 |  95% \n",
      "tensorflow-base-2.1. | 38.4 MB   | #########5 |  95% \n",
      "tensorflow-base-2.1. | 38.4 MB   | #########5 |  95% \n",
      "tensorflow-base-2.1. | 38.4 MB   | #########5 |  95% \n",
      "tensorflow-base-2.1. | 38.4 MB   | #########5 |  96% \n",
      "tensorflow-base-2.1. | 38.4 MB   | #########5 |  96% \n",
      "tensorflow-base-2.1. | 38.4 MB   | #########6 |  96% \n",
      "tensorflow-base-2.1. | 38.4 MB   | #########6 |  97% \n",
      "tensorflow-base-2.1. | 38.4 MB   | #########6 |  97% \n",
      "tensorflow-base-2.1. | 38.4 MB   | #########6 |  97% \n",
      "tensorflow-base-2.1. | 38.4 MB   | #########7 |  97% \n",
      "tensorflow-base-2.1. | 38.4 MB   | #########7 |  97% \n",
      "tensorflow-base-2.1. | 38.4 MB   | #########7 |  97% \n",
      "tensorflow-base-2.1. | 38.4 MB   | #########7 |  98% \n",
      "tensorflow-base-2.1. | 38.4 MB   | #########7 |  98% \n",
      "tensorflow-base-2.1. | 38.4 MB   | #########8 |  98% \n",
      "tensorflow-base-2.1. | 38.4 MB   | #########8 |  98% \n",
      "tensorflow-base-2.1. | 38.4 MB   | #########8 |  99% \n",
      "tensorflow-base-2.1. | 38.4 MB   | #########8 |  99% \n",
      "tensorflow-base-2.1. | 38.4 MB   | #########9 |  99% \n",
      "tensorflow-base-2.1. | 38.4 MB   | #########9 |  99% \n",
      "tensorflow-base-2.1. | 38.4 MB   | #########9 |  99% \n",
      "tensorflow-base-2.1. | 38.4 MB   | #########9 | 100% \n",
      "tensorflow-base-2.1. | 38.4 MB   | #########9 | 100% \n",
      "tensorflow-base-2.1. | 38.4 MB   | #########9 | 100% \n",
      "tensorflow-base-2.1. | 38.4 MB   | ########## | 100% \n",
      "\n",
      "tensorboard-2.4.0    | 8.8 MB    |            |   0% \n",
      "tensorboard-2.4.0    | 8.8 MB    |            |   0% \n",
      "tensorboard-2.4.0    | 8.8 MB    |            |   1% \n",
      "tensorboard-2.4.0    | 8.8 MB    | 1          |   2% \n",
      "tensorboard-2.4.0    | 8.8 MB    | 2          |   2% \n",
      "tensorboard-2.4.0    | 8.8 MB    | 2          |   3% \n",
      "tensorboard-2.4.0    | 8.8 MB    | 3          |   4% \n",
      "tensorboard-2.4.0    | 8.8 MB    | 4          |   4% \n",
      "tensorboard-2.4.0    | 8.8 MB    | 5          |   5% \n",
      "tensorboard-2.4.0    | 8.8 MB    | 5          |   6% \n",
      "tensorboard-2.4.0    | 8.8 MB    | 6          |   6% \n",
      "tensorboard-2.4.0    | 8.8 MB    | 7          |   7% \n",
      "tensorboard-2.4.0    | 8.8 MB    | 7          |   8% \n",
      "tensorboard-2.4.0    | 8.8 MB    | 8          |   8% \n",
      "tensorboard-2.4.0    | 8.8 MB    | 9          |   9% \n",
      "tensorboard-2.4.0    | 8.8 MB    | #          |  10% \n",
      "tensorboard-2.4.0    | 8.8 MB    | #          |  11% \n",
      "tensorboard-2.4.0    | 8.8 MB    | #1         |  12% \n",
      "tensorboard-2.4.0    | 8.8 MB    | #2         |  12% \n",
      "tensorboard-2.4.0    | 8.8 MB    | #2         |  13% \n",
      "tensorboard-2.4.0    | 8.8 MB    | #3         |  14% \n",
      "tensorboard-2.4.0    | 8.8 MB    | #4         |  14% \n",
      "tensorboard-2.4.0    | 8.8 MB    | #5         |  15% \n",
      "tensorboard-2.4.0    | 8.8 MB    | #5         |  16% \n",
      "tensorboard-2.4.0    | 8.8 MB    | #7         |  17% \n",
      "tensorboard-2.4.0    | 8.8 MB    | #8         |  18% \n"
     ]
    },
    {
     "name": "stdout",
     "output_type": "stream",
     "text": [
      "tensorboard-2.4.0    | 8.8 MB    | #8         |  19% \n",
      "tensorboard-2.4.0    | 8.8 MB    | #9         |  19% \n",
      "tensorboard-2.4.0    | 8.8 MB    | ##1        |  22% \n",
      "tensorboard-2.4.0    | 8.8 MB    | ##2        |  22% \n",
      "tensorboard-2.4.0    | 8.8 MB    | ##3        |  23% \n",
      "tensorboard-2.4.0    | 8.8 MB    | ##4        |  25% \n",
      "tensorboard-2.4.0    | 8.8 MB    | ##5        |  25% \n",
      "tensorboard-2.4.0    | 8.8 MB    | ##5        |  25% \n",
      "tensorboard-2.4.0    | 8.8 MB    | ##5        |  26% \n",
      "tensorboard-2.4.0    | 8.8 MB    | ##6        |  26% \n",
      "tensorboard-2.4.0    | 8.8 MB    | ##6        |  27% \n",
      "tensorboard-2.4.0    | 8.8 MB    | ##7        |  28% \n",
      "tensorboard-2.4.0    | 8.8 MB    | ##8        |  28% \n",
      "tensorboard-2.4.0    | 8.8 MB    | ##8        |  29% \n",
      "tensorboard-2.4.0    | 8.8 MB    | ##9        |  29% \n",
      "tensorboard-2.4.0    | 8.8 MB    | ##9        |  30% \n",
      "tensorboard-2.4.0    | 8.8 MB    | ###        |  31% \n",
      "tensorboard-2.4.0    | 8.8 MB    | ###1       |  31% \n",
      "tensorboard-2.4.0    | 8.8 MB    | ###2       |  32% \n",
      "tensorboard-2.4.0    | 8.8 MB    | ###2       |  33% \n",
      "tensorboard-2.4.0    | 8.8 MB    | ###3       |  33% \n",
      "tensorboard-2.4.0    | 8.8 MB    | ###3       |  34% \n",
      "tensorboard-2.4.0    | 8.8 MB    | ###4       |  35% \n",
      "tensorboard-2.4.0    | 8.8 MB    | ###5       |  35% \n",
      "tensorboard-2.4.0    | 8.8 MB    | ###5       |  36% \n",
      "tensorboard-2.4.0    | 8.8 MB    | ###6       |  36% \n",
      "tensorboard-2.4.0    | 8.8 MB    | ###7       |  38% \n",
      "tensorboard-2.4.0    | 8.8 MB    | ###8       |  39% \n",
      "tensorboard-2.4.0    | 8.8 MB    | ###9       |  39% \n",
      "tensorboard-2.4.0    | 8.8 MB    | ####       |  40% \n",
      "tensorboard-2.4.0    | 8.8 MB    | ####1      |  41% \n",
      "tensorboard-2.4.0    | 8.8 MB    | ####2      |  43% \n",
      "tensorboard-2.4.0    | 8.8 MB    | ####3      |  44% \n",
      "tensorboard-2.4.0    | 8.8 MB    | ####4      |  45% \n",
      "tensorboard-2.4.0    | 8.8 MB    | ####7      |  47% \n",
      "tensorboard-2.4.0    | 8.8 MB    | ####8      |  48% \n",
      "tensorboard-2.4.0    | 8.8 MB    | ####9      |  49% \n",
      "tensorboard-2.4.0    | 8.8 MB    | #####      |  50% \n",
      "tensorboard-2.4.0    | 8.8 MB    | #####1     |  52% \n",
      "tensorboard-2.4.0    | 8.8 MB    | #####3     |  53% \n",
      "tensorboard-2.4.0    | 8.8 MB    | #####5     |  55% \n",
      "tensorboard-2.4.0    | 8.8 MB    | #####7     |  57% \n",
      "tensorboard-2.4.0    | 8.8 MB    | #####9     |  60% \n",
      "tensorboard-2.4.0    | 8.8 MB    | ######     |  61% \n",
      "tensorboard-2.4.0    | 8.8 MB    | ######1    |  61% \n",
      "tensorboard-2.4.0    | 8.8 MB    | ######1    |  62% \n",
      "tensorboard-2.4.0    | 8.8 MB    | ######3    |  64% \n",
      "tensorboard-2.4.0    | 8.8 MB    | ######6    |  66% \n",
      "tensorboard-2.4.0    | 8.8 MB    | ######7    |  67% \n",
      "tensorboard-2.4.0    | 8.8 MB    | ######8    |  68% \n",
      "tensorboard-2.4.0    | 8.8 MB    | ######8    |  69% \n",
      "tensorboard-2.4.0    | 8.8 MB    | ######9    |  70% \n",
      "tensorboard-2.4.0    | 8.8 MB    | #######1   |  71% \n",
      "tensorboard-2.4.0    | 8.8 MB    | #######1   |  72% \n",
      "tensorboard-2.4.0    | 8.8 MB    | #######3   |  73% \n",
      "tensorboard-2.4.0    | 8.8 MB    | #######4   |  74% \n",
      "tensorboard-2.4.0    | 8.8 MB    | #######4   |  75% \n",
      "tensorboard-2.4.0    | 8.8 MB    | #######4   |  75% \n",
      "tensorboard-2.4.0    | 8.8 MB    | #######5   |  75% \n",
      "tensorboard-2.4.0    | 8.8 MB    | #######5   |  76% \n",
      "tensorboard-2.4.0    | 8.8 MB    | #######5   |  76% \n",
      "tensorboard-2.4.0    | 8.8 MB    | #######7   |  77% \n",
      "tensorboard-2.4.0    | 8.8 MB    | #######8   |  79% \n",
      "tensorboard-2.4.0    | 8.8 MB    | #######9   |  80% \n",
      "tensorboard-2.4.0    | 8.8 MB    | ########   |  81% \n",
      "tensorboard-2.4.0    | 8.8 MB    | ########1  |  81% \n",
      "tensorboard-2.4.0    | 8.8 MB    | ########1  |  82% \n",
      "tensorboard-2.4.0    | 8.8 MB    | ########2  |  83% \n",
      "tensorboard-2.4.0    | 8.8 MB    | ########3  |  83% \n",
      "tensorboard-2.4.0    | 8.8 MB    | ########4  |  84% \n",
      "tensorboard-2.4.0    | 8.8 MB    | ########4  |  85% \n",
      "tensorboard-2.4.0    | 8.8 MB    | ########5  |  86% \n",
      "tensorboard-2.4.0    | 8.8 MB    | ########6  |  86% \n",
      "tensorboard-2.4.0    | 8.8 MB    | ########8  |  88% \n",
      "tensorboard-2.4.0    | 8.8 MB    | ########8  |  89% \n",
      "tensorboard-2.4.0    | 8.8 MB    | ########9  |  89% \n",
      "tensorboard-2.4.0    | 8.8 MB    | #########1 |  91% \n",
      "tensorboard-2.4.0    | 8.8 MB    | #########2 |  93% \n",
      "tensorboard-2.4.0    | 8.8 MB    | #########3 |  93% \n",
      "tensorboard-2.4.0    | 8.8 MB    | #########4 |  94% \n",
      "tensorboard-2.4.0    | 8.8 MB    | #########4 |  95% \n",
      "tensorboard-2.4.0    | 8.8 MB    | #########5 |  96% \n",
      "tensorboard-2.4.0    | 8.8 MB    | #########6 |  96% \n",
      "tensorboard-2.4.0    | 8.8 MB    | #########7 |  98% \n",
      "tensorboard-2.4.0    | 8.8 MB    | #########8 |  98% \n",
      "tensorboard-2.4.0    | 8.8 MB    | #########9 | 100% \n",
      "tensorboard-2.4.0    | 8.8 MB    | ########## | 100% \n",
      "\n",
      "tensorboard-plugin-w | 664 KB    |            |   0% \n",
      "tensorboard-plugin-w | 664 KB    | 2          |   2% \n",
      "tensorboard-plugin-w | 664 KB    | 9          |  10% \n",
      "tensorboard-plugin-w | 664 KB    | #6         |  17% \n",
      "tensorboard-plugin-w | 664 KB    | ##6        |  27% \n",
      "tensorboard-plugin-w | 664 KB    | ###3       |  34% \n",
      "tensorboard-plugin-w | 664 KB    | ####5      |  46% \n",
      "tensorboard-plugin-w | 664 KB    | #####5     |  55% \n",
      "tensorboard-plugin-w | 664 KB    | ######5    |  65% \n",
      "tensorboard-plugin-w | 664 KB    | #######4   |  75% \n",
      "tensorboard-plugin-w | 664 KB    | ########1  |  82% \n",
      "tensorboard-plugin-w | 664 KB    | ########9  |  89% \n",
      "tensorboard-plugin-w | 664 KB    | #########6 |  96% \n",
      "tensorboard-plugin-w | 664 KB    | ########## | 100% \n",
      "\n",
      "certifi-2019.9.11    | 147 KB    |            |   0% \n",
      "certifi-2019.9.11    | 147 KB    | #          |  11% \n",
      "certifi-2019.9.11    | 147 KB    | ######5    |  65% \n",
      "certifi-2019.9.11    | 147 KB    | ########## | 100% \n",
      "\n",
      "oauthlib-3.0.1       | 82 KB     |            |   0% \n",
      "oauthlib-3.0.1       | 82 KB     | #9         |  19% \n",
      "oauthlib-3.0.1       | 82 KB     | #######7   |  78% \n",
      "oauthlib-3.0.1       | 82 KB     | ########## | 100% \n",
      "\n",
      "libmklml-2019.0.5    | 17.5 MB   |            |   0% \n",
      "libmklml-2019.0.5    | 17.5 MB   |            |   0% \n",
      "libmklml-2019.0.5    | 17.5 MB   |            |   0% \n",
      "libmklml-2019.0.5    | 17.5 MB   |            |   1% \n",
      "libmklml-2019.0.5    | 17.5 MB   |            |   1% \n",
      "libmklml-2019.0.5    | 17.5 MB   | 1          |   1% \n",
      "libmklml-2019.0.5    | 17.5 MB   | 1          |   1% \n",
      "libmklml-2019.0.5    | 17.5 MB   | 1          |   1% \n",
      "libmklml-2019.0.5    | 17.5 MB   | 1          |   2% \n",
      "libmklml-2019.0.5    | 17.5 MB   | 1          |   2% \n",
      "libmklml-2019.0.5    | 17.5 MB   | 2          |   2% \n",
      "libmklml-2019.0.5    | 17.5 MB   | 2          |   3% \n",
      "libmklml-2019.0.5    | 17.5 MB   | 2          |   3% \n",
      "libmklml-2019.0.5    | 17.5 MB   | 3          |   3% \n",
      "libmklml-2019.0.5    | 17.5 MB   | 3          |   4% \n",
      "libmklml-2019.0.5    | 17.5 MB   | 3          |   4% \n",
      "libmklml-2019.0.5    | 17.5 MB   | 4          |   4% \n",
      "libmklml-2019.0.5    | 17.5 MB   | 4          |   4% \n",
      "libmklml-2019.0.5    | 17.5 MB   | 4          |   5% \n",
      "libmklml-2019.0.5    | 17.5 MB   | 4          |   5% \n",
      "libmklml-2019.0.5    | 17.5 MB   | 4          |   5% \n",
      "libmklml-2019.0.5    | 17.5 MB   | 6          |   7% \n",
      "libmklml-2019.0.5    | 17.5 MB   | 7          |   7% \n",
      "libmklml-2019.0.5    | 17.5 MB   | 7          |   8% \n",
      "libmklml-2019.0.5    | 17.5 MB   | 8          |   8% \n",
      "libmklml-2019.0.5    | 17.5 MB   | 8          |   9% \n",
      "libmklml-2019.0.5    | 17.5 MB   | 8          |   9% \n",
      "libmklml-2019.0.5    | 17.5 MB   | 9          |   9% \n",
      "libmklml-2019.0.5    | 17.5 MB   | 9          |   9% \n",
      "libmklml-2019.0.5    | 17.5 MB   | 9          |  10% \n",
      "libmklml-2019.0.5    | 17.5 MB   | #          |  10% \n",
      "libmklml-2019.0.5    | 17.5 MB   | #          |  11% \n",
      "libmklml-2019.0.5    | 17.5 MB   | #          |  11% \n",
      "libmklml-2019.0.5    | 17.5 MB   | #1         |  11% \n",
      "libmklml-2019.0.5    | 17.5 MB   | #1         |  12% \n",
      "libmklml-2019.0.5    | 17.5 MB   | #2         |  12% \n",
      "libmklml-2019.0.5    | 17.5 MB   | #2         |  13% \n",
      "libmklml-2019.0.5    | 17.5 MB   | #2         |  13% \n",
      "libmklml-2019.0.5    | 17.5 MB   | #3         |  13% \n",
      "libmklml-2019.0.5    | 17.5 MB   | #3         |  14% \n",
      "libmklml-2019.0.5    | 17.5 MB   | #3         |  14% \n",
      "libmklml-2019.0.5    | 17.5 MB   | #4         |  14% \n",
      "libmklml-2019.0.5    | 17.5 MB   | #4         |  14% \n",
      "libmklml-2019.0.5    | 17.5 MB   | #4         |  15% \n",
      "libmklml-2019.0.5    | 17.5 MB   | #4         |  15% \n",
      "libmklml-2019.0.5    | 17.5 MB   | #5         |  16% \n",
      "libmklml-2019.0.5    | 17.5 MB   | #5         |  16% \n",
      "libmklml-2019.0.5    | 17.5 MB   | #6         |  16% \n",
      "libmklml-2019.0.5    | 17.5 MB   | #6         |  16% \n",
      "libmklml-2019.0.5    | 17.5 MB   | #7         |  17% \n",
      "libmklml-2019.0.5    | 17.5 MB   | #7         |  18% \n",
      "libmklml-2019.0.5    | 17.5 MB   | #8         |  18% \n",
      "libmklml-2019.0.5    | 17.5 MB   | #8         |  19% \n",
      "libmklml-2019.0.5    | 17.5 MB   | #9         |  19% \n",
      "libmklml-2019.0.5    | 17.5 MB   | #9         |  19% \n",
      "libmklml-2019.0.5    | 17.5 MB   | #9         |  20% \n",
      "libmklml-2019.0.5    | 17.5 MB   | ##         |  21% \n",
      "libmklml-2019.0.5    | 17.5 MB   | ##1        |  21% \n",
      "libmklml-2019.0.5    | 17.5 MB   | ##1        |  22% \n",
      "libmklml-2019.0.5    | 17.5 MB   | ##2        |  22% \n",
      "libmklml-2019.0.5    | 17.5 MB   | ##2        |  22% \n",
      "libmklml-2019.0.5    | 17.5 MB   | ##2        |  23% \n",
      "libmklml-2019.0.5    | 17.5 MB   | ##3        |  23% \n",
      "libmklml-2019.0.5    | 17.5 MB   | ##3        |  23% \n",
      "libmklml-2019.0.5    | 17.5 MB   | ##3        |  24% \n",
      "libmklml-2019.0.5    | 17.5 MB   | ##3        |  24% \n",
      "libmklml-2019.0.5    | 17.5 MB   | ##4        |  24% \n",
      "libmklml-2019.0.5    | 17.5 MB   | ##4        |  24% \n",
      "libmklml-2019.0.5    | 17.5 MB   | ##4        |  25% \n",
      "libmklml-2019.0.5    | 17.5 MB   | ##5        |  25% \n",
      "libmklml-2019.0.5    | 17.5 MB   | ##5        |  25% \n",
      "libmklml-2019.0.5    | 17.5 MB   | ##5        |  26% \n",
      "libmklml-2019.0.5    | 17.5 MB   | ##5        |  26% \n",
      "libmklml-2019.0.5    | 17.5 MB   | ##6        |  26% \n",
      "libmklml-2019.0.5    | 17.5 MB   | ##6        |  26% \n",
      "libmklml-2019.0.5    | 17.5 MB   | ##6        |  27% \n",
      "libmklml-2019.0.5    | 17.5 MB   | ##6        |  27% \n",
      "libmklml-2019.0.5    | 17.5 MB   | ##7        |  27% \n",
      "libmklml-2019.0.5    | 17.5 MB   | ##7        |  28% \n",
      "libmklml-2019.0.5    | 17.5 MB   | ##7        |  28% \n",
      "libmklml-2019.0.5    | 17.5 MB   | ##7        |  28% \n",
      "libmklml-2019.0.5    | 17.5 MB   | ##8        |  28% \n",
      "libmklml-2019.0.5    | 17.5 MB   | ##8        |  28% \n",
      "libmklml-2019.0.5    | 17.5 MB   | ##8        |  29% \n",
      "libmklml-2019.0.5    | 17.5 MB   | ##8        |  29% \n",
      "libmklml-2019.0.5    | 17.5 MB   | ##9        |  29% \n",
      "libmklml-2019.0.5    | 17.5 MB   | ##9        |  30% \n",
      "libmklml-2019.0.5    | 17.5 MB   | ###        |  30% \n",
      "libmklml-2019.0.5    | 17.5 MB   | ###        |  30% \n",
      "libmklml-2019.0.5    | 17.5 MB   | ###        |  31% \n",
      "libmklml-2019.0.5    | 17.5 MB   | ###1       |  31% \n",
      "libmklml-2019.0.5    | 17.5 MB   | ###1       |  31% \n",
      "libmklml-2019.0.5    | 17.5 MB   | ###1       |  32% \n",
      "libmklml-2019.0.5    | 17.5 MB   | ###2       |  32% \n",
      "libmklml-2019.0.5    | 17.5 MB   | ###2       |  33% \n",
      "libmklml-2019.0.5    | 17.5 MB   | ###3       |  33% \n",
      "libmklml-2019.0.5    | 17.5 MB   | ###3       |  33% \n",
      "libmklml-2019.0.5    | 17.5 MB   | ###3       |  34% \n",
      "libmklml-2019.0.5    | 17.5 MB   | ###4       |  34% \n",
      "libmklml-2019.0.5    | 17.5 MB   | ###4       |  35% \n",
      "libmklml-2019.0.5    | 17.5 MB   | ###5       |  36% \n",
      "libmklml-2019.0.5    | 17.5 MB   | ###6       |  37% \n",
      "libmklml-2019.0.5    | 17.5 MB   | ###7       |  37% \n",
      "libmklml-2019.0.5    | 17.5 MB   | ###7       |  38% \n",
      "libmklml-2019.0.5    | 17.5 MB   | ###8       |  38% \n",
      "libmklml-2019.0.5    | 17.5 MB   | ###8       |  39% \n",
      "libmklml-2019.0.5    | 17.5 MB   | ###8       |  39% \n",
      "libmklml-2019.0.5    | 17.5 MB   | ###9       |  39% \n",
      "libmklml-2019.0.5    | 17.5 MB   | ###9       |  40% \n",
      "libmklml-2019.0.5    | 17.5 MB   | ###9       |  40% \n",
      "libmklml-2019.0.5    | 17.5 MB   | ####       |  40% \n",
      "libmklml-2019.0.5    | 17.5 MB   | ####       |  40% \n",
      "libmklml-2019.0.5    | 17.5 MB   | ####       |  40% \n",
      "libmklml-2019.0.5    | 17.5 MB   | ####       |  41% \n",
      "libmklml-2019.0.5    | 17.5 MB   | ####       |  41% \n",
      "libmklml-2019.0.5    | 17.5 MB   | ####       |  41% \n",
      "libmklml-2019.0.5    | 17.5 MB   | ####1      |  41% \n",
      "libmklml-2019.0.5    | 17.5 MB   | ####1      |  41% \n",
      "libmklml-2019.0.5    | 17.5 MB   | ####1      |  42% \n",
      "libmklml-2019.0.5    | 17.5 MB   | ####1      |  42% \n",
      "libmklml-2019.0.5    | 17.5 MB   | ####2      |  42% \n",
      "libmklml-2019.0.5    | 17.5 MB   | ####2      |  43% \n",
      "libmklml-2019.0.5    | 17.5 MB   | ####2      |  43% \n",
      "libmklml-2019.0.5    | 17.5 MB   | ####2      |  43% \n",
      "libmklml-2019.0.5    | 17.5 MB   | ####3      |  43% \n",
      "libmklml-2019.0.5    | 17.5 MB   | ####3      |  43% \n",
      "libmklml-2019.0.5    | 17.5 MB   | ####4      |  45% \n",
      "libmklml-2019.0.5    | 17.5 MB   | ####4      |  45% \n",
      "libmklml-2019.0.5    | 17.5 MB   | ####7      |  47% \n",
      "libmklml-2019.0.5    | 17.5 MB   | ####7      |  48% \n",
      "libmklml-2019.0.5    | 17.5 MB   | ####8      |  48% \n",
      "libmklml-2019.0.5    | 17.5 MB   | ####8      |  49% \n",
      "libmklml-2019.0.5    | 17.5 MB   | ####9      |  49% \n",
      "libmklml-2019.0.5    | 17.5 MB   | #####      |  51% \n",
      "libmklml-2019.0.5    | 17.5 MB   | #####1     |  51% \n",
      "libmklml-2019.0.5    | 17.5 MB   | #####1     |  52% \n",
      "libmklml-2019.0.5    | 17.5 MB   | #####1     |  52% \n",
      "libmklml-2019.0.5    | 17.5 MB   | #####2     |  52% \n",
      "libmklml-2019.0.5    | 17.5 MB   | #####2     |  53% \n",
      "libmklml-2019.0.5    | 17.5 MB   | #####3     |  53% \n",
      "libmklml-2019.0.5    | 17.5 MB   | #####3     |  54% \n",
      "libmklml-2019.0.5    | 17.5 MB   | #####3     |  54% \n",
      "libmklml-2019.0.5    | 17.5 MB   | #####4     |  54% \n",
      "libmklml-2019.0.5    | 17.5 MB   | #####4     |  54% \n",
      "libmklml-2019.0.5    | 17.5 MB   | #####4     |  55% \n",
      "libmklml-2019.0.5    | 17.5 MB   | #####5     |  55% \n",
      "libmklml-2019.0.5    | 17.5 MB   | #####5     |  56% \n",
      "libmklml-2019.0.5    | 17.5 MB   | #####5     |  56% \n",
      "libmklml-2019.0.5    | 17.5 MB   | #####6     |  56% \n",
      "libmklml-2019.0.5    | 17.5 MB   | #####6     |  57% \n",
      "libmklml-2019.0.5    | 17.5 MB   | #####7     |  58% \n",
      "libmklml-2019.0.5    | 17.5 MB   | #####7     |  58% \n",
      "libmklml-2019.0.5    | 17.5 MB   | #####8     |  58% \n",
      "libmklml-2019.0.5    | 17.5 MB   | #####8     |  58% \n",
      "libmklml-2019.0.5    | 17.5 MB   | #####8     |  59% \n",
      "libmklml-2019.0.5    | 17.5 MB   | #####9     |  59% \n",
      "libmklml-2019.0.5    | 17.5 MB   | #####9     |  59% \n",
      "libmklml-2019.0.5    | 17.5 MB   | ######     |  60% \n",
      "libmklml-2019.0.5    | 17.5 MB   | ######     |  60% \n",
      "libmklml-2019.0.5    | 17.5 MB   | ######     |  61% \n",
      "libmklml-2019.0.5    | 17.5 MB   | ######     |  61% \n",
      "libmklml-2019.0.5    | 17.5 MB   | ######1    |  61% \n",
      "libmklml-2019.0.5    | 17.5 MB   | ######1    |  62% \n",
      "libmklml-2019.0.5    | 17.5 MB   | ######1    |  62% \n",
      "libmklml-2019.0.5    | 17.5 MB   | ######2    |  62% \n",
      "libmklml-2019.0.5    | 17.5 MB   | ######2    |  62% \n",
      "libmklml-2019.0.5    | 17.5 MB   | ######2    |  62% \n",
      "libmklml-2019.0.5    | 17.5 MB   | ######3    |  63% \n",
      "libmklml-2019.0.5    | 17.5 MB   | ######3    |  63% \n",
      "libmklml-2019.0.5    | 17.5 MB   | ######3    |  64% \n",
      "libmklml-2019.0.5    | 17.5 MB   | ######3    |  64% \n",
      "libmklml-2019.0.5    | 17.5 MB   | ######3    |  64% \n",
      "libmklml-2019.0.5    | 17.5 MB   | ######4    |  64% \n",
      "libmklml-2019.0.5    | 17.5 MB   | ######4    |  65% \n",
      "libmklml-2019.0.5    | 17.5 MB   | ######4    |  65% \n",
      "libmklml-2019.0.5    | 17.5 MB   | ######5    |  65% \n",
      "libmklml-2019.0.5    | 17.5 MB   | ######5    |  65% \n",
      "libmklml-2019.0.5    | 17.5 MB   | ######5    |  66% \n",
      "libmklml-2019.0.5    | 17.5 MB   | ######5    |  66% \n",
      "libmklml-2019.0.5    | 17.5 MB   | ######5    |  66% \n",
      "libmklml-2019.0.5    | 17.5 MB   | ######6    |  66% \n",
      "libmklml-2019.0.5    | 17.5 MB   | ######6    |  66% \n",
      "libmklml-2019.0.5    | 17.5 MB   | ######6    |  66% \n",
      "libmklml-2019.0.5    | 17.5 MB   | ######6    |  67% \n",
      "libmklml-2019.0.5    | 17.5 MB   | ######6    |  67% \n",
      "libmklml-2019.0.5    | 17.5 MB   | ######7    |  67% \n",
      "libmklml-2019.0.5    | 17.5 MB   | ######7    |  67% \n",
      "libmklml-2019.0.5    | 17.5 MB   | ######7    |  68% \n",
      "libmklml-2019.0.5    | 17.5 MB   | ######8    |  68% \n",
      "libmklml-2019.0.5    | 17.5 MB   | ######8    |  68% \n",
      "libmklml-2019.0.5    | 17.5 MB   | ######8    |  68% \n",
      "libmklml-2019.0.5    | 17.5 MB   | ######8    |  69% \n",
      "libmklml-2019.0.5    | 17.5 MB   | ######8    |  69% \n",
      "libmklml-2019.0.5    | 17.5 MB   | ######9    |  69% \n",
      "libmklml-2019.0.5    | 17.5 MB   | ######9    |  69% \n",
      "libmklml-2019.0.5    | 17.5 MB   | ######9    |  69% \n",
      "libmklml-2019.0.5    | 17.5 MB   | ######9    |  70% \n",
      "libmklml-2019.0.5    | 17.5 MB   | ######9    |  70% \n",
      "libmklml-2019.0.5    | 17.5 MB   | ######9    |  70% \n",
      "libmklml-2019.0.5    | 17.5 MB   | #######    |  70% \n",
      "libmklml-2019.0.5    | 17.5 MB   | #######    |  70% \n",
      "libmklml-2019.0.5    | 17.5 MB   | #######    |  71% \n",
      "libmklml-2019.0.5    | 17.5 MB   | #######    |  71% \n",
      "libmklml-2019.0.5    | 17.5 MB   | #######1   |  71% \n",
      "libmklml-2019.0.5    | 17.5 MB   | #######1   |  72% \n",
      "libmklml-2019.0.5    | 17.5 MB   | #######1   |  72% \n",
      "libmklml-2019.0.5    | 17.5 MB   | #######2   |  72% \n",
      "libmklml-2019.0.5    | 17.5 MB   | #######2   |  73% \n",
      "libmklml-2019.0.5    | 17.5 MB   | #######3   |  73% \n"
     ]
    },
    {
     "name": "stdout",
     "output_type": "stream",
     "text": [
      "libmklml-2019.0.5    | 17.5 MB   | #######3   |  73% \n",
      "libmklml-2019.0.5    | 17.5 MB   | #######3   |  74% \n",
      "libmklml-2019.0.5    | 17.5 MB   | #######3   |  74% \n",
      "libmklml-2019.0.5    | 17.5 MB   | #######4   |  74% \n",
      "libmklml-2019.0.5    | 17.5 MB   | #######4   |  74% \n",
      "libmklml-2019.0.5    | 17.5 MB   | #######4   |  74% \n",
      "libmklml-2019.0.5    | 17.5 MB   | #######4   |  75% \n",
      "libmklml-2019.0.5    | 17.5 MB   | #######4   |  75% \n",
      "libmklml-2019.0.5    | 17.5 MB   | #######5   |  75% \n",
      "libmklml-2019.0.5    | 17.5 MB   | #######5   |  75% \n",
      "libmklml-2019.0.5    | 17.5 MB   | #######5   |  76% \n",
      "libmklml-2019.0.5    | 17.5 MB   | #######6   |  76% \n",
      "libmklml-2019.0.5    | 17.5 MB   | #######6   |  76% \n",
      "libmklml-2019.0.5    | 17.5 MB   | #######6   |  77% \n",
      "libmklml-2019.0.5    | 17.5 MB   | #######6   |  77% \n",
      "libmklml-2019.0.5    | 17.5 MB   | #######6   |  77% \n",
      "libmklml-2019.0.5    | 17.5 MB   | #######7   |  77% \n",
      "libmklml-2019.0.5    | 17.5 MB   | #######7   |  77% \n",
      "libmklml-2019.0.5    | 17.5 MB   | #######7   |  78% \n",
      "libmklml-2019.0.5    | 17.5 MB   | #######7   |  78% \n",
      "libmklml-2019.0.5    | 17.5 MB   | #######8   |  78% \n",
      "libmklml-2019.0.5    | 17.5 MB   | #######8   |  78% \n",
      "libmklml-2019.0.5    | 17.5 MB   | #######8   |  78% \n",
      "libmklml-2019.0.5    | 17.5 MB   | #######8   |  79% \n",
      "libmklml-2019.0.5    | 17.5 MB   | #######8   |  79% \n",
      "libmklml-2019.0.5    | 17.5 MB   | #######9   |  79% \n",
      "libmklml-2019.0.5    | 17.5 MB   | #######9   |  80% \n",
      "libmklml-2019.0.5    | 17.5 MB   | #######9   |  80% \n",
      "libmklml-2019.0.5    | 17.5 MB   | ########   |  80% \n",
      "libmklml-2019.0.5    | 17.5 MB   | ########   |  80% \n",
      "libmklml-2019.0.5    | 17.5 MB   | ########   |  81% \n",
      "libmklml-2019.0.5    | 17.5 MB   | ########   |  81% \n",
      "libmklml-2019.0.5    | 17.5 MB   | ########1  |  81% \n",
      "libmklml-2019.0.5    | 17.5 MB   | ########1  |  82% \n",
      "libmklml-2019.0.5    | 17.5 MB   | ########1  |  82% \n",
      "libmklml-2019.0.5    | 17.5 MB   | ########1  |  82% \n",
      "libmklml-2019.0.5    | 17.5 MB   | ########2  |  82% \n",
      "libmklml-2019.0.5    | 17.5 MB   | ########2  |  82% \n",
      "libmklml-2019.0.5    | 17.5 MB   | ########2  |  83% \n",
      "libmklml-2019.0.5    | 17.5 MB   | ########2  |  83% \n",
      "libmklml-2019.0.5    | 17.5 MB   | ########2  |  83% \n",
      "libmklml-2019.0.5    | 17.5 MB   | ########2  |  83% \n",
      "libmklml-2019.0.5    | 17.5 MB   | ########2  |  83% \n",
      "libmklml-2019.0.5    | 17.5 MB   | ########3  |  83% \n",
      "libmklml-2019.0.5    | 17.5 MB   | ########3  |  84% \n",
      "libmklml-2019.0.5    | 17.5 MB   | ########3  |  84% \n",
      "libmklml-2019.0.5    | 17.5 MB   | ########3  |  84% \n",
      "libmklml-2019.0.5    | 17.5 MB   | ########3  |  84% \n",
      "libmklml-2019.0.5    | 17.5 MB   | ########3  |  84% \n",
      "libmklml-2019.0.5    | 17.5 MB   | ########4  |  84% \n",
      "libmklml-2019.0.5    | 17.5 MB   | ########4  |  84% \n",
      "libmklml-2019.0.5    | 17.5 MB   | ########4  |  84% \n",
      "libmklml-2019.0.5    | 17.5 MB   | ########4  |  84% \n",
      "libmklml-2019.0.5    | 17.5 MB   | ########4  |  85% \n",
      "libmklml-2019.0.5    | 17.5 MB   | ########4  |  85% \n",
      "libmklml-2019.0.5    | 17.5 MB   | ########5  |  85% \n",
      "libmklml-2019.0.5    | 17.5 MB   | ########5  |  85% \n",
      "libmklml-2019.0.5    | 17.5 MB   | ########5  |  85% \n",
      "libmklml-2019.0.5    | 17.5 MB   | ########5  |  85% \n",
      "libmklml-2019.0.5    | 17.5 MB   | ########5  |  86% \n",
      "libmklml-2019.0.5    | 17.5 MB   | ########6  |  86% \n",
      "libmklml-2019.0.5    | 17.5 MB   | ########6  |  86% \n",
      "libmklml-2019.0.5    | 17.5 MB   | ########6  |  86% \n",
      "libmklml-2019.0.5    | 17.5 MB   | ########6  |  86% \n",
      "libmklml-2019.0.5    | 17.5 MB   | ########6  |  86% \n",
      "libmklml-2019.0.5    | 17.5 MB   | ########6  |  87% \n",
      "libmklml-2019.0.5    | 17.5 MB   | ########6  |  87% \n",
      "libmklml-2019.0.5    | 17.5 MB   | ########7  |  87% \n",
      "libmklml-2019.0.5    | 17.5 MB   | ########7  |  88% \n",
      "libmklml-2019.0.5    | 17.5 MB   | ########8  |  88% \n",
      "libmklml-2019.0.5    | 17.5 MB   | ########8  |  89% \n",
      "libmklml-2019.0.5    | 17.5 MB   | ########9  |  89% \n",
      "libmklml-2019.0.5    | 17.5 MB   | ########9  |  90% \n",
      "libmklml-2019.0.5    | 17.5 MB   | ########9  |  90% \n",
      "libmklml-2019.0.5    | 17.5 MB   | #########  |  90% \n",
      "libmklml-2019.0.5    | 17.5 MB   | #########  |  90% \n",
      "libmklml-2019.0.5    | 17.5 MB   | #########  |  91% \n",
      "libmklml-2019.0.5    | 17.5 MB   | #########  |  91% \n",
      "libmklml-2019.0.5    | 17.5 MB   | #########1 |  91% \n",
      "libmklml-2019.0.5    | 17.5 MB   | #########1 |  92% \n",
      "libmklml-2019.0.5    | 17.5 MB   | #########1 |  92% \n",
      "libmklml-2019.0.5    | 17.5 MB   | #########2 |  92% \n",
      "libmklml-2019.0.5    | 17.5 MB   | #########2 |  92% \n",
      "libmklml-2019.0.5    | 17.5 MB   | #########2 |  92% \n",
      "libmklml-2019.0.5    | 17.5 MB   | #########2 |  93% \n",
      "libmklml-2019.0.5    | 17.5 MB   | #########2 |  93% \n",
      "libmklml-2019.0.5    | 17.5 MB   | #########2 |  93% \n",
      "libmklml-2019.0.5    | 17.5 MB   | #########3 |  93% \n",
      "libmklml-2019.0.5    | 17.5 MB   | #########3 |  93% \n",
      "libmklml-2019.0.5    | 17.5 MB   | #########3 |  94% \n",
      "libmklml-2019.0.5    | 17.5 MB   | #########3 |  94% \n",
      "libmklml-2019.0.5    | 17.5 MB   | #########4 |  94% \n",
      "libmklml-2019.0.5    | 17.5 MB   | #########4 |  94% \n",
      "libmklml-2019.0.5    | 17.5 MB   | #########4 |  95% \n",
      "libmklml-2019.0.5    | 17.5 MB   | #########4 |  95% \n",
      "libmklml-2019.0.5    | 17.5 MB   | #########5 |  95% \n",
      "libmklml-2019.0.5    | 17.5 MB   | #########5 |  95% \n",
      "libmklml-2019.0.5    | 17.5 MB   | #########5 |  96% \n",
      "libmklml-2019.0.5    | 17.5 MB   | #########5 |  96% \n",
      "libmklml-2019.0.5    | 17.5 MB   | #########6 |  96% \n",
      "libmklml-2019.0.5    | 17.5 MB   | #########6 |  97% \n",
      "libmklml-2019.0.5    | 17.5 MB   | #########7 |  97% \n",
      "libmklml-2019.0.5    | 17.5 MB   | #########7 |  97% \n",
      "libmklml-2019.0.5    | 17.5 MB   | #########7 |  98% \n",
      "libmklml-2019.0.5    | 17.5 MB   | #########8 |  98% \n",
      "libmklml-2019.0.5    | 17.5 MB   | #########8 |  98% \n",
      "libmklml-2019.0.5    | 17.5 MB   | #########8 |  99% \n",
      "libmklml-2019.0.5    | 17.5 MB   | #########8 |  99% \n",
      "libmklml-2019.0.5    | 17.5 MB   | #########9 |  99% \n",
      "libmklml-2019.0.5    | 17.5 MB   | #########9 | 100% \n",
      "libmklml-2019.0.5    | 17.5 MB   | #########9 | 100% \n",
      "libmklml-2019.0.5    | 17.5 MB   | ########## | 100% \n",
      "\n",
      "astor-0.8.1          | 25 KB     |            |   0% \n",
      "astor-0.8.1          | 25 KB     | ######3    |  64% \n",
      "astor-0.8.1          | 25 KB     | ########## | 100% \n",
      "\n",
      "typing_extensions-3. | 25 KB     |            |   0% \n",
      "typing_extensions-3. | 25 KB     | ######3    |  64% \n",
      "typing_extensions-3. | 25 KB     | ########## | 100% \n",
      "\n",
      "keras-preprocessing- | 33 KB     |            |   0% \n",
      "keras-preprocessing- | 33 KB     | ####8      |  48% \n",
      "keras-preprocessing- | 33 KB     | ########## | 100% \n",
      "\n",
      "pyasn1-modules-0.2.7 | 60 KB     |            |   0% \n",
      "pyasn1-modules-0.2.7 | 60 KB     | ##6        |  27% \n",
      "pyasn1-modules-0.2.7 | 60 KB     | ########## | 100% \n",
      "\n",
      "yarl-1.6.3           | 135 KB    |            |   0% \n",
      "yarl-1.6.3           | 135 KB    | #1         |  12% \n",
      "yarl-1.6.3           | 135 KB    | #####9     |  59% \n",
      "yarl-1.6.3           | 135 KB    | ########## | 100% \n",
      "\n",
      "importlib-metadata-2 | 28 KB     |            |   0% \n",
      "importlib-metadata-2 | 28 KB     | #####7     |  58% \n",
      "importlib-metadata-2 | 28 KB     | ########## | 100% \n",
      "\n",
      "typing-extensions-3. | 8 KB      |            |   0% \n",
      "typing-extensions-3. | 8 KB      | ########## | 100% \n",
      "\n",
      "keras-applications-1 | 30 KB     |            |   0% \n",
      "keras-applications-1 | 30 KB     | #####3     |  54% \n",
      "keras-applications-1 | 30 KB     | ########## | 100% \n",
      "\n",
      "pyjwt-1.7.1          | 17 KB     |            |   0% \n",
      "pyjwt-1.7.1          | 17 KB     | #########1 |  92% \n",
      "pyjwt-1.7.1          | 17 KB     | ########## | 100% \n",
      "\n",
      "absl-py-0.10.0       | 169 KB    |            |   0% \n",
      "absl-py-0.10.0       | 169 KB    | 9          |   9% \n",
      "absl-py-0.10.0       | 169 KB    | ####7      |  47% \n",
      "absl-py-0.10.0       | 169 KB    | ########5  |  85% \n",
      "absl-py-0.10.0       | 169 KB    | ########## | 100% \n",
      "\n",
      "_tflow_select-2.3.0  | 3 KB      |            |   0% \n",
      "_tflow_select-2.3.0  | 3 KB      | ########## | 100% \n",
      "\n",
      "tensorflow-estimator | 281 KB    |            |   0% \n",
      "tensorflow-estimator | 281 KB    | 5          |   6% \n",
      "tensorflow-estimator | 281 KB    | ##8        |  28% \n",
      "tensorflow-estimator | 281 KB    | #####1     |  51% \n",
      "tensorflow-estimator | 281 KB    | #######4   |  74% \n",
      "tensorflow-estimator | 281 KB    | #########6 |  97% \n",
      "tensorflow-estimator | 281 KB    | ########## | 100% \n",
      "\n",
      "markdown-3.3.3       | 66 KB     |            |   0% \n",
      "markdown-3.3.3       | 66 KB     | ##4        |  24% \n",
      "markdown-3.3.3       | 66 KB     | ########## | 100% \n",
      "\n",
      "aiohttp-3.7.3        | 577 KB    |            |   0% \n",
      "aiohttp-3.7.3        | 577 KB    | 2          |   3% \n",
      "aiohttp-3.7.3        | 577 KB    | 8          |   8% \n",
      "aiohttp-3.7.3        | 577 KB    | #3         |  14% \n",
      "aiohttp-3.7.3        | 577 KB    | ##2        |  22% \n",
      "aiohttp-3.7.3        | 577 KB    | ###3       |  33% \n",
      "aiohttp-3.7.3        | 577 KB    | ####7      |  47% \n",
      "aiohttp-3.7.3        | 577 KB    | #####5     |  55% \n",
      "aiohttp-3.7.3        | 577 KB    | ######3    |  64% \n",
      "aiohttp-3.7.3        | 577 KB    | #######7   |  78% \n",
      "aiohttp-3.7.3        | 577 KB    | ########8  |  89% \n",
      "aiohttp-3.7.3        | 577 KB    | #########9 | 100% \n",
      "aiohttp-3.7.3        | 577 KB    | ########## | 100% \n",
      "\n",
      "multidict-4.7.5      | 62 KB     |            |   0% \n",
      "multidict-4.7.5      | 62 KB     | ##5        |  26% \n",
      "multidict-4.7.5      | 62 KB     | ########## | 100% \n",
      "\n",
      "pyasn1-0.4.8         | 53 KB     |            |   0% \n",
      "pyasn1-0.4.8         | 53 KB     | ###        |  30% \n",
      "pyasn1-0.4.8         | 53 KB     | ########## | 100% \n",
      "\n",
      "async-timeout-3.0.1  | 11 KB     |            |   0% \n",
      "async-timeout-3.0.1  | 11 KB     | ########## | 100% \n",
      "\n",
      "cachetools-4.1.1     | 12 KB     |            |   0% \n",
      "cachetools-4.1.1     | 12 KB     | ########## | 100% \n",
      "\n",
      "conda-4.9.2          | 3.0 MB    |            |   0% \n",
      "conda-4.9.2          | 3.0 MB    |            |   1% \n",
      "conda-4.9.2          | 3.0 MB    | 2          |   2% \n",
      "conda-4.9.2          | 3.0 MB    | 3          |   4% \n",
      "conda-4.9.2          | 3.0 MB    | 4          |   5% \n",
      "conda-4.9.2          | 3.0 MB    | 6          |   6% \n",
      "conda-4.9.2          | 3.0 MB    | 7          |   8% \n",
      "conda-4.9.2          | 3.0 MB    | 8          |   9% \n",
      "conda-4.9.2          | 3.0 MB    | #          |  10% \n",
      "conda-4.9.2          | 3.0 MB    | #1         |  11% \n",
      "conda-4.9.2          | 3.0 MB    | #2         |  12% \n",
      "conda-4.9.2          | 3.0 MB    | #3         |  13% \n",
      "conda-4.9.2          | 3.0 MB    | #4         |  14% \n",
      "conda-4.9.2          | 3.0 MB    | #5         |  16% \n",
      "conda-4.9.2          | 3.0 MB    | #7         |  17% \n",
      "conda-4.9.2          | 3.0 MB    | #8         |  19% \n",
      "conda-4.9.2          | 3.0 MB    | ##         |  21% \n",
      "conda-4.9.2          | 3.0 MB    | ##2        |  22% \n",
      "conda-4.9.2          | 3.0 MB    | ##3        |  24% \n",
      "conda-4.9.2          | 3.0 MB    | ##5        |  25% \n",
      "conda-4.9.2          | 3.0 MB    | ##6        |  27% \n",
      "conda-4.9.2          | 3.0 MB    | ##8        |  28% \n",
      "conda-4.9.2          | 3.0 MB    | ##9        |  30% \n",
      "conda-4.9.2          | 3.0 MB    | ###1       |  31% \n",
      "conda-4.9.2          | 3.0 MB    | ###2       |  32% \n",
      "conda-4.9.2          | 3.0 MB    | ###3       |  33% \n",
      "conda-4.9.2          | 3.0 MB    | ###4       |  34% \n",
      "conda-4.9.2          | 3.0 MB    | ###5       |  35% \n",
      "conda-4.9.2          | 3.0 MB    | ###6       |  36% \n",
      "conda-4.9.2          | 3.0 MB    | ###7       |  37% \n",
      "conda-4.9.2          | 3.0 MB    | ###8       |  38% \n",
      "conda-4.9.2          | 3.0 MB    | ###9       |  40% \n",
      "conda-4.9.2          | 3.0 MB    | ####       |  41% \n",
      "conda-4.9.2          | 3.0 MB    | ####2      |  42% \n",
      "conda-4.9.2          | 3.0 MB    | ####3      |  44% \n",
      "conda-4.9.2          | 3.0 MB    | ####5      |  45% \n",
      "conda-4.9.2          | 3.0 MB    | ####7      |  47% \n",
      "conda-4.9.2          | 3.0 MB    | ####9      |  49% \n",
      "conda-4.9.2          | 3.0 MB    | #####      |  51% \n",
      "conda-4.9.2          | 3.0 MB    | #####2     |  52% \n",
      "conda-4.9.2          | 3.0 MB    | #####4     |  54% \n",
      "conda-4.9.2          | 3.0 MB    | #####6     |  56% \n",
      "conda-4.9.2          | 3.0 MB    | #####8     |  59% \n",
      "conda-4.9.2          | 3.0 MB    | ######     |  61% \n",
      "conda-4.9.2          | 3.0 MB    | ######2    |  63% \n",
      "conda-4.9.2          | 3.0 MB    | ######4    |  65% \n",
      "conda-4.9.2          | 3.0 MB    | ######6    |  67% \n",
      "conda-4.9.2          | 3.0 MB    | ######8    |  68% \n",
      "conda-4.9.2          | 3.0 MB    | ######9    |  70% \n",
      "conda-4.9.2          | 3.0 MB    | #######1   |  72% \n",
      "conda-4.9.2          | 3.0 MB    | #######3   |  73% \n",
      "conda-4.9.2          | 3.0 MB    | #######4   |  75% \n",
      "conda-4.9.2          | 3.0 MB    | #######6   |  76% \n",
      "conda-4.9.2          | 3.0 MB    | #######8   |  78% \n",
      "conda-4.9.2          | 3.0 MB    | #######9   |  80% \n",
      "conda-4.9.2          | 3.0 MB    | ########1  |  81% \n",
      "conda-4.9.2          | 3.0 MB    | ########3  |  83% \n",
      "conda-4.9.2          | 3.0 MB    | ########4  |  85% \n",
      "conda-4.9.2          | 3.0 MB    | ########6  |  86% \n",
      "conda-4.9.2          | 3.0 MB    | ########8  |  88% \n",
      "conda-4.9.2          | 3.0 MB    | ########9  |  90% \n",
      "conda-4.9.2          | 3.0 MB    | #########1 |  91% \n",
      "conda-4.9.2          | 3.0 MB    | #########2 |  93% \n",
      "conda-4.9.2          | 3.0 MB    | #########4 |  94% \n",
      "conda-4.9.2          | 3.0 MB    | #########5 |  96% \n",
      "conda-4.9.2          | 3.0 MB    | #########7 |  98% \n",
      "conda-4.9.2          | 3.0 MB    | #########9 |  99% \n",
      "conda-4.9.2          | 3.0 MB    | ########## | 100% \n",
      "\n",
      "opt_einsum-3.3.0     | 51 KB     |            |   0% \n",
      "opt_einsum-3.3.0     | 51 KB     | ###1       |  32% \n",
      "opt_einsum-3.3.0     | 51 KB     | ########## | 100% \n",
      "\n",
      "requests-oauthlib-1. | 21 KB     |            |   0% \n",
      "requests-oauthlib-1. | 21 KB     | #######6   |  77% \n",
      "requests-oauthlib-1. | 21 KB     | ########## | 100% \n",
      "\n",
      "google-auth-1.23.0   | 62 KB     |            |   0% \n",
      "google-auth-1.23.0   | 62 KB     | ##5        |  26% \n",
      "google-auth-1.23.0   | 62 KB     | #####1     |  51% \n",
      "google-auth-1.23.0   | 62 KB     | ########## | 100% \n",
      "\n",
      "gast-0.2.2           | 10 KB     |            |   0% \n",
      "gast-0.2.2           | 10 KB     | ########## | 100% \n",
      "\n",
      "tensorflow-2.1.0     | 4 KB      |            |   0% \n",
      "tensorflow-2.1.0     | 4 KB      | ########## | 100% \n",
      "\n",
      "grpcio-1.27.2        | 1.2 MB    |            |   0% \n",
      "grpcio-1.27.2        | 1.2 MB    | 1          |   1% \n",
      "grpcio-1.27.2        | 1.2 MB    | 4          |   4% \n",
      "grpcio-1.27.2        | 1.2 MB    | 6          |   7% \n",
      "grpcio-1.27.2        | 1.2 MB    | 9          |   9% \n",
      "grpcio-1.27.2        | 1.2 MB    | #2         |  12% \n",
      "grpcio-1.27.2        | 1.2 MB    | #4         |  15% \n",
      "grpcio-1.27.2        | 1.2 MB    | #7         |  17% \n",
      "grpcio-1.27.2        | 1.2 MB    | ##         |  20% \n",
      "grpcio-1.27.2        | 1.2 MB    | ##2        |  23% \n",
      "grpcio-1.27.2        | 1.2 MB    | ##5        |  26% \n",
      "grpcio-1.27.2        | 1.2 MB    | ##9        |  30% \n",
      "grpcio-1.27.2        | 1.2 MB    | ###6       |  36% \n",
      "grpcio-1.27.2        | 1.2 MB    | ####1      |  42% \n",
      "grpcio-1.27.2        | 1.2 MB    | ####7      |  47% \n",
      "grpcio-1.27.2        | 1.2 MB    | #####2     |  52% \n",
      "grpcio-1.27.2        | 1.2 MB    | #####6     |  56% \n",
      "grpcio-1.27.2        | 1.2 MB    | ######1    |  62% \n",
      "grpcio-1.27.2        | 1.2 MB    | ######7    |  67% \n",
      "grpcio-1.27.2        | 1.2 MB    | #######2   |  73% \n",
      "grpcio-1.27.2        | 1.2 MB    | #######8   |  78% \n",
      "grpcio-1.27.2        | 1.2 MB    | ########3  |  83% \n",
      "grpcio-1.27.2        | 1.2 MB    | ########8  |  89% \n",
      "grpcio-1.27.2        | 1.2 MB    | #########4 |  94% \n",
      "grpcio-1.27.2        | 1.2 MB    | #########9 | 100% \n",
      "grpcio-1.27.2        | 1.2 MB    | ########## | 100% \n",
      "\n",
      "google-pasta-0.2.0   | 42 KB     |            |   0% \n",
      "google-pasta-0.2.0   | 42 KB     | ###7       |  38% \n",
      "google-pasta-0.2.0   | 42 KB     | ########## | 100% \n",
      "\n",
      "blinker-1.4          | 13 KB     |            |   0% \n",
      "blinker-1.4          | 13 KB     | ########## | 100% \n",
      "\n",
      "rsa-4.6              | 27 KB     |            |   0% \n",
      "rsa-4.6              | 27 KB     | #####9     |  60% \n",
      "rsa-4.6              | 27 KB     | ########## | 100% \n",
      "\n",
      "protobuf-3.13.0.1    | 590 KB    |            |   0% \n",
      "protobuf-3.13.0.1    | 590 KB    | 2          |   3% \n",
      "protobuf-3.13.0.1    | 590 KB    | #6         |  16% \n",
      "protobuf-3.13.0.1    | 590 KB    | ##4        |  24% \n",
      "protobuf-3.13.0.1    | 590 KB    | ###2       |  33% \n",
      "protobuf-3.13.0.1    | 590 KB    | ####3      |  43% \n",
      "protobuf-3.13.0.1    | 590 KB    | #####1     |  52% \n",
      "protobuf-3.13.0.1    | 590 KB    | ######2    |  62% \n",
      "protobuf-3.13.0.1    | 590 KB    | #######3   |  73% \n",
      "protobuf-3.13.0.1    | 590 KB    | ########4  |  84% \n",
      "protobuf-3.13.0.1    | 590 KB    | #########4 |  95% \n",
      "protobuf-3.13.0.1    | 590 KB    | ########## | 100% \n",
      "\n",
      "termcolor-1.1.0      | 6 KB      |            |   0% \n",
      "termcolor-1.1.0      | 6 KB      | ########## | 100% \n",
      "\n",
      "google-auth-oauthlib | 18 KB     |            |   0% \n",
      "google-auth-oauthlib | 18 KB     | ########8  |  89% \n",
      "google-auth-oauthlib | 18 KB     | ########## | 100% \n",
      "\n",
      "libprotobuf-3.13.0.1 | 2.3 MB    |            |   0% \n",
      "libprotobuf-3.13.0.1 | 2.3 MB    |            |   1% \n",
      "libprotobuf-3.13.0.1 | 2.3 MB    | 2          |   3% \n",
      "libprotobuf-3.13.0.1 | 2.3 MB    | 5          |   6% \n",
      "libprotobuf-3.13.0.1 | 2.3 MB    | 7          |   8% \n",
      "libprotobuf-3.13.0.1 | 2.3 MB    | #          |  10% \n",
      "libprotobuf-3.13.0.1 | 2.3 MB    | #3         |  13% \n",
      "libprotobuf-3.13.0.1 | 2.3 MB    | #5         |  15% \n",
      "libprotobuf-3.13.0.1 | 2.3 MB    | #7         |  17% \n",
      "libprotobuf-3.13.0.1 | 2.3 MB    | #9         |  19% \n",
      "libprotobuf-3.13.0.1 | 2.3 MB    | ##2        |  22% \n",
      "libprotobuf-3.13.0.1 | 2.3 MB    | ##4        |  25% \n",
      "libprotobuf-3.13.0.1 | 2.3 MB    | ##7        |  28% \n",
      "libprotobuf-3.13.0.1 | 2.3 MB    | ###        |  30% \n",
      "libprotobuf-3.13.0.1 | 2.3 MB    | ###3       |  33% \n",
      "libprotobuf-3.13.0.1 | 2.3 MB    | ###5       |  36% \n",
      "libprotobuf-3.13.0.1 | 2.3 MB    | ###8       |  39% \n",
      "libprotobuf-3.13.0.1 | 2.3 MB    | ####1      |  41% \n",
      "libprotobuf-3.13.0.1 | 2.3 MB    | ####4      |  44% \n",
      "libprotobuf-3.13.0.1 | 2.3 MB    | ####6      |  47% \n",
      "libprotobuf-3.13.0.1 | 2.3 MB    | ####9      |  50% \n",
      "libprotobuf-3.13.0.1 | 2.3 MB    | #####2     |  53% \n",
      "libprotobuf-3.13.0.1 | 2.3 MB    | #####5     |  55% \n",
      "libprotobuf-3.13.0.1 | 2.3 MB    | #####7     |  57% \n",
      "libprotobuf-3.13.0.1 | 2.3 MB    | ######     |  60% \n",
      "libprotobuf-3.13.0.1 | 2.3 MB    | ######2    |  62% \n",
      "libprotobuf-3.13.0.1 | 2.3 MB    | ######4    |  64% \n",
      "libprotobuf-3.13.0.1 | 2.3 MB    | ######7    |  67% \n",
      "libprotobuf-3.13.0.1 | 2.3 MB    | ######9    |  70% \n",
      "libprotobuf-3.13.0.1 | 2.3 MB    | #######3   |  73% \n",
      "libprotobuf-3.13.0.1 | 2.3 MB    | #######6   |  76% \n",
      "libprotobuf-3.13.0.1 | 2.3 MB    | #######8   |  79% \n",
      "libprotobuf-3.13.0.1 | 2.3 MB    | ########1  |  82% \n",
      "libprotobuf-3.13.0.1 | 2.3 MB    | ########4  |  84% \n",
      "libprotobuf-3.13.0.1 | 2.3 MB    | ########7  |  87% \n",
      "libprotobuf-3.13.0.1 | 2.3 MB    | ########9  |  90% \n",
      "libprotobuf-3.13.0.1 | 2.3 MB    | #########2 |  93% \n",
      "libprotobuf-3.13.0.1 | 2.3 MB    | #########5 |  95% \n",
      "libprotobuf-3.13.0.1 | 2.3 MB    | #########7 |  97% \n",
      "libprotobuf-3.13.0.1 | 2.3 MB    | #########9 |  99% \n",
      "libprotobuf-3.13.0.1 | 2.3 MB    | ########## | 100% \n",
      "Preparing transaction: ...working... done\n",
      "Verifying transaction: ...working... done\n",
      "Executing transaction: ...working... done\n",
      "\n",
      "Note: you may need to restart the kernel to use updated packages.\n"
     ]
    }
   ],
   "source": [
    "conda install -c conda-forge tensorflow=2.1.0"
   ]
  },
  {
   "cell_type": "markdown",
   "metadata": {},
   "source": [
    "Let's start by loading the fashion MNIST dataset. Keras has a number of functions to load popular datasets in keras.datasets. The dataset is already split for you between a training set and a test set, but it can be useful to split the training set further to have a validation set:"
   ]
  },
  {
   "cell_type": "code",
   "execution_count": 52,
   "metadata": {},
   "outputs": [
    {
     "ename": "AttributeError",
     "evalue": "'tuple' object has no attribute 'load_data'",
     "output_type": "error",
     "traceback": [
      "\u001b[1;31m---------------------------------------------------------------------------\u001b[0m",
      "\u001b[1;31mAttributeError\u001b[0m                            Traceback (most recent call last)",
      "\u001b[1;32m<ipython-input-52-5affc6c9d2ff>\u001b[0m in \u001b[0;36m<module>\u001b[1;34m\u001b[0m\n\u001b[0;32m      1\u001b[0m \u001b[0mfashion_mnist\u001b[0m \u001b[1;33m=\u001b[0m \u001b[0mkeras\u001b[0m\u001b[1;33m.\u001b[0m\u001b[0mdatasets\u001b[0m\u001b[1;33m.\u001b[0m\u001b[0mreuters\u001b[0m\u001b[1;33m.\u001b[0m\u001b[0mload_data\u001b[0m\u001b[1;33m(\u001b[0m\u001b[1;33m)\u001b[0m\u001b[1;33m\u001b[0m\u001b[1;33m\u001b[0m\u001b[0m\n\u001b[1;32m----> 2\u001b[1;33m \u001b[1;33m(\u001b[0m\u001b[0mX_train_full\u001b[0m\u001b[1;33m,\u001b[0m \u001b[0my_train_full\u001b[0m\u001b[1;33m)\u001b[0m\u001b[1;33m,\u001b[0m \u001b[1;33m(\u001b[0m\u001b[0mX_test\u001b[0m\u001b[1;33m,\u001b[0m \u001b[0my_test\u001b[0m\u001b[1;33m)\u001b[0m \u001b[1;33m=\u001b[0m \u001b[0mfashion_mnist\u001b[0m\u001b[1;33m.\u001b[0m\u001b[0mload_data\u001b[0m\u001b[1;33m(\u001b[0m\u001b[1;33m)\u001b[0m\u001b[1;33m\u001b[0m\u001b[1;33m\u001b[0m\u001b[0m\n\u001b[0m",
      "\u001b[1;31mAttributeError\u001b[0m: 'tuple' object has no attribute 'load_data'"
     ]
    }
   ],
   "source": [
    "fashion_mnist = keras.datasets.fashion_mnist\n",
    "(X_train_full, y_train_full), (X_test, y_test) = fashion_mnist.load_data()"
   ]
  },
  {
   "cell_type": "markdown",
   "metadata": {},
   "source": [
    "The training set contains 60,000 grayscale images, each 28x28 pixels and Each pixel intensity is represented as a byte (0 to 255)::"
   ]
  },
  {
   "cell_type": "code",
   "execution_count": 6,
   "metadata": {},
   "outputs": [
    {
     "data": {
      "text/plain": [
       "(60000, 28, 28)"
      ]
     },
     "execution_count": 6,
     "metadata": {},
     "output_type": "execute_result"
    }
   ],
   "source": [
    "X_train_full.shape"
   ]
  },
  {
   "cell_type": "markdown",
   "metadata": {},
   "source": [
    "Let's split the full training set into a validation set and a (smaller) training set.\n",
    "We also scale the pixel intensities down to the 0-1 range and convert them to floats, by dividing by 255."
   ]
  },
  {
   "cell_type": "code",
   "execution_count": 9,
   "metadata": {},
   "outputs": [],
   "source": [
    "X_valid, X_train = X_train_full[:5000] / 255., X_train_full[5000:] / 255.\n",
    "y_valid, y_train = y_train_full[:5000], y_train_full[5000:]\n",
    "X_test = X_test / 255."
   ]
  },
  {
   "cell_type": "markdown",
   "metadata": {},
   "source": [
    "The validation set contains 5,000 images, and the test set contains 10,000 images:"
   ]
  },
  {
   "cell_type": "code",
   "execution_count": 14,
   "metadata": {},
   "outputs": [
    {
     "data": {
      "text/plain": [
       "(5000, 28, 28)"
      ]
     },
     "execution_count": 14,
     "metadata": {},
     "output_type": "execute_result"
    }
   ],
   "source": [
    "X_valid.shape"
   ]
  },
  {
   "cell_type": "markdown",
   "metadata": {},
   "source": [
    "You can plot an image using Matplotlib's imshow() function, with a 'binary' color map:"
   ]
  },
  {
   "cell_type": "markdown",
   "metadata": {},
   "source": [
    "train "
   ]
  },
  {
   "cell_type": "code",
   "execution_count": 10,
   "metadata": {},
   "outputs": [
    {
     "data": {
      "image/png": "[encoded data removed]",
      "text/plain": [
       "<Figure size 432x288 with 1 Axes>"
      ]
     },
     "metadata": {
      "needs_background": "light"
     },
     "output_type": "display_data"
    }
   ],
   "source": [
    "plt.imshow(X_train[3], cmap=\"binary\")\n",
    "plt.axis('off')\n",
    "plt.show()"
   ]
  },
  {
   "cell_type": "code",
   "execution_count": 11,
   "metadata": {},
   "outputs": [
    {
     "data": {
      "image/png": "[encoded data removed]",
      "text/plain": [
       "<Figure size 432x288 with 1 Axes>"
      ]
     },
     "metadata": {
      "needs_background": "light"
     },
     "output_type": "display_data"
    }
   ],
   "source": [
    "plt.imshow(X_valid[0], cmap=\"binary\")\n",
    "plt.axis('off')\n",
    "plt.show()"
   ]
  },
  {
   "cell_type": "code",
   "execution_count": 12,
   "metadata": {
    "scrolled": true
   },
   "outputs": [
    {
     "data": {
      "image/png": "[encoded data removed]",
      "text/plain": [
       "<Figure size 432x288 with 1 Axes>"
      ]
     },
     "metadata": {
      "needs_background": "light"
     },
     "output_type": "display_data"
    }
   ],
   "source": [
    "plt.imshow(X_test[0], cmap=\"binary\")\n",
    "plt.axis('off')\n",
    "plt.show()"
   ]
  },
  {
   "cell_type": "markdown",
   "metadata": {},
   "source": [
    "So the first image in the training set is a coat:"
   ]
  },
  {
   "cell_type": "markdown",
   "metadata": {},
   "source": [
    "Let's take a look at a sample of the images in the dataset:"
   ]
  },
  {
   "cell_type": "markdown",
   "metadata": {},
   "source": [
    "Construct a Model"
   ]
  },
  {
   "cell_type": "code",
   "execution_count": 5,
   "metadata": {},
   "outputs": [],
   "source": [
    "from IPython.display import Image "
   ]
  },
  {
   "cell_type": "code",
   "execution_count": 18,
   "metadata": {},
   "outputs": [],
   "source": [
    "model = keras.models.Sequential()\n",
    "model.add(keras.layers.Flatten(input_shape=[28, 28]))\n",
    "model.add(keras.layers.Dense(300, activation=\"relu\"))\n",
    "model.add(keras.layers.Dense(100, activation=\"relu\"))\n",
    "model.add(keras.layers.Dense(10, activation=\"softmax\"))"
   ]
  },
  {
   "cell_type": "code",
   "execution_count": 20,
   "metadata": {},
   "outputs": [],
   "source": [
    "keras.backend.clear_session()\n",
    "np.random.seed(42)"
   ]
  },
  {
   "cell_type": "code",
   "execution_count": 21,
   "metadata": {},
   "outputs": [
    {
     "data": {
      "text/plain": [
       "[<tensorflow.python.keras.layers.core.Flatten at 0x1579ce98108>,\n",
       " <tensorflow.python.keras.layers.core.Dense at 0x1579ce8c408>,\n",
       " <tensorflow.python.keras.layers.core.Dense at 0x1579cedfb48>,\n",
       " <tensorflow.python.keras.layers.core.Dense at 0x1579cf0d708>]"
      ]
     },
     "execution_count": 21,
     "metadata": {},
     "output_type": "execute_result"
    }
   ],
   "source": [
    "model.layers"
   ]
  },
  {
   "cell_type": "code",
   "execution_count": 22,
   "metadata": {},
   "outputs": [
    {
     "name": "stdout",
     "output_type": "stream",
     "text": [
      "Model: \"sequential\"\n",
      "_________________________________________________________________\n",
      "Layer (type)                 Output Shape              Param #   \n",
      "=================================================================\n",
      "flatten (Flatten)            (None, 784)               0         \n",
      "_________________________________________________________________\n",
      "dense (Dense)                (None, 300)               235500    \n",
      "_________________________________________________________________\n",
      "dense_1 (Dense)              (None, 100)               30100     \n",
      "_________________________________________________________________\n",
      "dense_2 (Dense)              (None, 10)                1010      \n",
      "=================================================================\n",
      "Total params: 266,610\n",
      "Trainable params: 266,610\n",
      "Non-trainable params: 0\n",
      "_________________________________________________________________\n"
     ]
    }
   ],
   "source": [
    "model.summary()"
   ]
  },
  {
   "cell_type": "code",
   "execution_count": 31,
   "metadata": {},
   "outputs": [
    {
     "data": {
      "text/plain": [
       "'dense'"
      ]
     },
     "execution_count": 31,
     "metadata": {},
     "output_type": "execute_result"
    }
   ],
   "source": [
    "hidden1 = model.layers[1]\n",
    "hidden1.name"
   ]
  },
  {
   "cell_type": "code",
   "execution_count": 32,
   "metadata": {},
   "outputs": [
    {
     "data": {
      "text/plain": [
       "True"
      ]
     },
     "execution_count": 32,
     "metadata": {},
     "output_type": "execute_result"
    }
   ],
   "source": [
    "model.get_layer(hidden1.name) is hidden1"
   ]
  },
  {
   "cell_type": "code",
   "execution_count": 33,
   "metadata": {},
   "outputs": [],
   "source": [
    "weights, biases = hidden1.get_weights()"
   ]
  },
  {
   "cell_type": "code",
   "execution_count": 34,
   "metadata": {},
   "outputs": [
    {
     "data": {
      "text/plain": [
       "array([[ 0.05438234, -0.01599628,  0.01407108, ..., -0.04964975,\n",
       "         0.02486498, -0.05469664],\n",
       "       [-0.02347546,  0.0269959 , -0.02179676, ..., -0.02931186,\n",
       "        -0.00611173, -0.06853696],\n",
       "       [-0.06082596, -0.0376939 ,  0.0084466 , ..., -0.04477396,\n",
       "         0.03300586,  0.04948632],\n",
       "       ...,\n",
       "       [ 0.04973996, -0.01196851,  0.06884174, ...,  0.03407669,\n",
       "         0.04859086, -0.01059177],\n",
       "       [-0.0650009 , -0.00078192,  0.00804892, ...,  0.01565319,\n",
       "        -0.06714483,  0.05883615],\n",
       "       [-0.05317071, -0.06850863, -0.04663314, ...,  0.04215351,\n",
       "         0.02137179,  0.00019274]], dtype=float32)"
      ]
     },
     "execution_count": 34,
     "metadata": {},
     "output_type": "execute_result"
    }
   ],
   "source": [
    "weights"
   ]
  },
  {
   "cell_type": "code",
   "execution_count": 35,
   "metadata": {},
   "outputs": [
    {
     "data": {
      "text/plain": [
       "(784, 300)"
      ]
     },
     "execution_count": 35,
     "metadata": {},
     "output_type": "execute_result"
    }
   ],
   "source": [
    "weights.shape"
   ]
  },
  {
   "cell_type": "code",
   "execution_count": 36,
   "metadata": {},
   "outputs": [
    {
     "data": {
      "text/plain": [
       "array([0., 0., 0., 0., 0., 0., 0., 0., 0., 0., 0., 0., 0., 0., 0., 0., 0.,\n",
       "       0., 0., 0., 0., 0., 0., 0., 0., 0., 0., 0., 0., 0., 0., 0., 0., 0.,\n",
       "       0., 0., 0., 0., 0., 0., 0., 0., 0., 0., 0., 0., 0., 0., 0., 0., 0.,\n",
       "       0., 0., 0., 0., 0., 0., 0., 0., 0., 0., 0., 0., 0., 0., 0., 0., 0.,\n",
       "       0., 0., 0., 0., 0., 0., 0., 0., 0., 0., 0., 0., 0., 0., 0., 0., 0.,\n",
       "       0., 0., 0., 0., 0., 0., 0., 0., 0., 0., 0., 0., 0., 0., 0., 0., 0.,\n",
       "       0., 0., 0., 0., 0., 0., 0., 0., 0., 0., 0., 0., 0., 0., 0., 0., 0.,\n",
       "       0., 0., 0., 0., 0., 0., 0., 0., 0., 0., 0., 0., 0., 0., 0., 0., 0.,\n",
       "       0., 0., 0., 0., 0., 0., 0., 0., 0., 0., 0., 0., 0., 0., 0., 0., 0.,\n",
       "       0., 0., 0., 0., 0., 0., 0., 0., 0., 0., 0., 0., 0., 0., 0., 0., 0.,\n",
       "       0., 0., 0., 0., 0., 0., 0., 0., 0., 0., 0., 0., 0., 0., 0., 0., 0.,\n",
       "       0., 0., 0., 0., 0., 0., 0., 0., 0., 0., 0., 0., 0., 0., 0., 0., 0.,\n",
       "       0., 0., 0., 0., 0., 0., 0., 0., 0., 0., 0., 0., 0., 0., 0., 0., 0.,\n",
       "       0., 0., 0., 0., 0., 0., 0., 0., 0., 0., 0., 0., 0., 0., 0., 0., 0.,\n",
       "       0., 0., 0., 0., 0., 0., 0., 0., 0., 0., 0., 0., 0., 0., 0., 0., 0.,\n",
       "       0., 0., 0., 0., 0., 0., 0., 0., 0., 0., 0., 0., 0., 0., 0., 0., 0.,\n",
       "       0., 0., 0., 0., 0., 0., 0., 0., 0., 0., 0., 0., 0., 0., 0., 0., 0.,\n",
       "       0., 0., 0., 0., 0., 0., 0., 0., 0., 0., 0.], dtype=float32)"
      ]
     },
     "execution_count": 36,
     "metadata": {},
     "output_type": "execute_result"
    }
   ],
   "source": [
    "biases"
   ]
  },
  {
   "cell_type": "code",
   "execution_count": 37,
   "metadata": {},
   "outputs": [
    {
     "data": {
      "text/plain": [
       "(300,)"
      ]
     },
     "execution_count": 37,
     "metadata": {},
     "output_type": "execute_result"
    }
   ],
   "source": [
    "biases.shape"
   ]
  },
  {
   "cell_type": "markdown",
   "metadata": {},
   "source": [
    "Here you can chose the loss function, the optimizer, the performance metric, etc. "
   ]
  },
  {
   "cell_type": "code",
   "execution_count": 23,
   "metadata": {},
   "outputs": [],
   "source": [
    "model.compile(loss=\"sparse_categorical_crossentropy\",\n",
    "              optimizer=\"sgd\",\n",
    "              metrics=[\"accuracy\"])"
   ]
  },
  {
   "cell_type": "markdown",
   "metadata": {},
   "source": [
    "Here you can chose how many epochs you need and the batch size."
   ]
  },
  {
   "cell_type": "code",
   "execution_count": 39,
   "metadata": {},
   "outputs": [
    {
     "name": "stdout",
     "output_type": "stream",
     "text": [
      "Epoch 1/30\n",
      "1719/1719 [==============================] - 4s 2ms/step - loss: 0.7141 - accuracy: 0.7648 - val_loss: 0.5409 - val_accuracy: 0.8080\n",
      "Epoch 2/30\n",
      "1719/1719 [==============================] - 4s 2ms/step - loss: 0.4873 - accuracy: 0.8300 - val_loss: 0.4711 - val_accuracy: 0.8288\n",
      "Epoch 3/30\n",
      "1719/1719 [==============================] - 4s 2ms/step - loss: 0.4415 - accuracy: 0.8447 - val_loss: 0.4221 - val_accuracy: 0.8518\n",
      "Epoch 4/30\n",
      "1719/1719 [==============================] - 4s 2ms/step - loss: 0.4158 - accuracy: 0.8534 - val_loss: 0.3897 - val_accuracy: 0.8662\n",
      "Epoch 5/30\n",
      "1719/1719 [==============================] - 4s 2ms/step - loss: 0.3964 - accuracy: 0.8604 - val_loss: 0.4410 - val_accuracy: 0.8434\n",
      "Epoch 6/30\n",
      "1719/1719 [==============================] - 4s 2ms/step - loss: 0.3814 - accuracy: 0.8661 - val_loss: 0.3728 - val_accuracy: 0.8714\n",
      "Epoch 7/30\n",
      "1719/1719 [==============================] - 4s 2ms/step - loss: 0.3672 - accuracy: 0.8699 - val_loss: 0.3726 - val_accuracy: 0.8684\n",
      "Epoch 8/30\n",
      "1719/1719 [==============================] - 4s 2ms/step - loss: 0.3546 - accuracy: 0.8750 - val_loss: 0.3506 - val_accuracy: 0.8742\n",
      "Epoch 9/30\n",
      "1719/1719 [==============================] - 4s 2ms/step - loss: 0.3453 - accuracy: 0.8777 - val_loss: 0.3465 - val_accuracy: 0.8758\n",
      "Epoch 10/30\n",
      "1719/1719 [==============================] - 4s 2ms/step - loss: 0.3366 - accuracy: 0.8801 - val_loss: 0.3504 - val_accuracy: 0.8760\n",
      "Epoch 11/30\n",
      "1719/1719 [==============================] - 4s 2ms/step - loss: 0.3275 - accuracy: 0.8835 - val_loss: 0.3341 - val_accuracy: 0.8828\n",
      "Epoch 12/30\n",
      "1719/1719 [==============================] - 4s 2ms/step - loss: 0.3192 - accuracy: 0.8857 - val_loss: 0.3265 - val_accuracy: 0.8810\n",
      "Epoch 13/30\n",
      "1719/1719 [==============================] - 4s 2ms/step - loss: 0.3112 - accuracy: 0.8893 - val_loss: 0.3317 - val_accuracy: 0.8822\n",
      "Epoch 14/30\n",
      "1719/1719 [==============================] - 4s 2ms/step - loss: 0.3048 - accuracy: 0.8903 - val_loss: 0.3293 - val_accuracy: 0.8820\n",
      "Epoch 15/30\n",
      "1719/1719 [==============================] - 4s 2ms/step - loss: 0.2976 - accuracy: 0.8928 - val_loss: 0.3226 - val_accuracy: 0.8834\n",
      "Epoch 16/30\n",
      "1719/1719 [==============================] - 4s 2ms/step - loss: 0.2913 - accuracy: 0.8961 - val_loss: 0.3079 - val_accuracy: 0.8866\n",
      "Epoch 17/30\n",
      "1719/1719 [==============================] - 4s 2ms/step - loss: 0.2862 - accuracy: 0.8970 - val_loss: 0.3084 - val_accuracy: 0.8892\n",
      "Epoch 18/30\n",
      "1719/1719 [==============================] - 4s 2ms/step - loss: 0.2790 - accuracy: 0.8996 - val_loss: 0.3185 - val_accuracy: 0.8836\n",
      "Epoch 19/30\n",
      "1719/1719 [==============================] - 4s 2ms/step - loss: 0.2747 - accuracy: 0.9011 - val_loss: 0.3124 - val_accuracy: 0.8886\n",
      "Epoch 20/30\n",
      "1719/1719 [==============================] - 4s 2ms/step - loss: 0.2695 - accuracy: 0.9019 - val_loss: 0.3084 - val_accuracy: 0.8870\n",
      "Epoch 21/30\n",
      "1719/1719 [==============================] - 4s 2ms/step - loss: 0.2644 - accuracy: 0.9044 - val_loss: 0.3070 - val_accuracy: 0.8868\n",
      "Epoch 22/30\n",
      "1719/1719 [==============================] - 4s 2ms/step - loss: 0.2596 - accuracy: 0.9067 - val_loss: 0.2997 - val_accuracy: 0.8900\n",
      "Epoch 23/30\n",
      "1719/1719 [==============================] - 4s 2ms/step - loss: 0.2563 - accuracy: 0.9076 - val_loss: 0.2998 - val_accuracy: 0.8936\n",
      "Epoch 24/30\n",
      "1719/1719 [==============================] - 4s 2ms/step - loss: 0.2503 - accuracy: 0.9092 - val_loss: 0.3004 - val_accuracy: 0.8912\n",
      "Epoch 25/30\n",
      "1719/1719 [==============================] - 4s 2ms/step - loss: 0.2460 - accuracy: 0.9117 - val_loss: 0.3098 - val_accuracy: 0.8896\n",
      "Epoch 26/30\n",
      "1719/1719 [==============================] - 4s 2ms/step - loss: 0.2420 - accuracy: 0.9133 - val_loss: 0.2985 - val_accuracy: 0.8934\n",
      "Epoch 27/30\n",
      "1719/1719 [==============================] - 4s 2ms/step - loss: 0.2377 - accuracy: 0.9151 - val_loss: 0.3096 - val_accuracy: 0.8894\n",
      "Epoch 28/30\n",
      "1719/1719 [==============================] - 4s 2ms/step - loss: 0.2342 - accuracy: 0.9155 - val_loss: 0.2954 - val_accuracy: 0.8940\n",
      "Epoch 29/30\n",
      "1719/1719 [==============================] - 4s 2ms/step - loss: 0.2304 - accuracy: 0.9172 - val_loss: 0.2889 - val_accuracy: 0.8994\n",
      "Epoch 30/30\n",
      "1719/1719 [==============================] - 4s 2ms/step - loss: 0.2268 - accuracy: 0.9193 - val_loss: 0.3009 - val_accuracy: 0.8932\n"
     ]
    }
   ],
   "source": [
    "history = model.fit(X_train, y_train, batch_size=32, epochs=30,\n",
    "                    validation_data=(X_valid, y_valid))"
   ]
  },
  {
   "cell_type": "code",
   "execution_count": 40,
   "metadata": {},
   "outputs": [
    {
     "data": {
      "text/plain": [
       "{'verbose': 1, 'epochs': 30, 'steps': 1719}"
      ]
     },
     "execution_count": 40,
     "metadata": {},
     "output_type": "execute_result"
    }
   ],
   "source": [
    "history.params"
   ]
  },
  {
   "cell_type": "code",
   "execution_count": 42,
   "metadata": {},
   "outputs": [
    {
     "data": {
      "text/plain": [
       "dict_keys(['loss', 'accuracy', 'val_loss', 'val_accuracy'])"
      ]
     },
     "execution_count": 42,
     "metadata": {},
     "output_type": "execute_result"
    }
   ],
   "source": [
    "history.history.keys()"
   ]
  },
  {
   "cell_type": "markdown",
   "metadata": {},
   "source": [
    "# Plot learning Curves"
   ]
  },
  {
   "cell_type": "code",
   "execution_count": 43,
   "metadata": {},
   "outputs": [
    {
     "data": {
      "image/png": "[encoded data removed]",
      "text/plain": [
       "<Figure size 576x360 with 1 Axes>"
      ]
     },
     "metadata": {
      "needs_background": "light"
     },
     "output_type": "display_data"
    }
   ],
   "source": [
    "import pandas as pd\n",
    "\n",
    "pd.DataFrame(history.history).plot(figsize=(8, 5))\n",
    "plt.grid(True)\n",
    "plt.gca().set_ylim(0, 1)\n",
    "plt.show()"
   ]
  },
  {
   "cell_type": "code",
   "execution_count": 44,
   "metadata": {},
   "outputs": [
    {
     "name": "stdout",
     "output_type": "stream",
     "text": [
      "313/313 [==============================] - 0s 1ms/step - loss: 0.3363 - accuracy: 0.8814\n"
     ]
    },
    {
     "data": {
      "text/plain": [
       "[0.336343377828598, 0.8813999891281128]"
      ]
     },
     "execution_count": 44,
     "metadata": {},
     "output_type": "execute_result"
    }
   ],
   "source": [
    "model.evaluate(X_test, y_test)"
   ]
  },
  {
   "cell_type": "markdown",
   "metadata": {},
   "source": [
    "# The EXERCICE"
   ]
  },
  {
   "cell_type": "markdown",
   "metadata": {},
   "source": [
    "# 1) Plot Learning curves when using different optimizers\n",
    "\n"
   ]
  },
  {
   "cell_type": "markdown",
   "metadata": {},
   "source": [
    "1-optimizers:Adam"
   ]
  },
  {
   "cell_type": "code",
   "execution_count": 50,
   "metadata": {},
   "outputs": [],
   "source": []
  },
  {
   "cell_type": "code",
   "execution_count": 24,
   "metadata": {},
   "outputs": [],
   "source": [
    "model.compile(loss=\"sparse_categorical_crossentropy\",\n",
    "              optimizer=\"Adam\",\n",
    "              metrics=[\"accuracy\"])"
   ]
  },
  {
   "cell_type": "code",
   "execution_count": 25,
   "metadata": {},
   "outputs": [
    {
     "name": "stdout",
     "output_type": "stream",
     "text": [
      "Train on 55000 samples, validate on 5000 samples\n",
      "Epoch 1/30\n",
      "55000/55000 [==============================] - 29s 525us/sample - loss: 0.4847 - accuracy: 0.8246 - val_loss: 0.3827 - val_accuracy: 0.8606\n",
      "Epoch 2/30\n",
      "55000/55000 [==============================] - 24s 429us/sample - loss: 0.3642 - accuracy: 0.8672 - val_loss: 0.3294 - val_accuracy: 0.8842\n",
      "Epoch 3/30\n",
      "55000/55000 [==============================] - 23s 414us/sample - loss: 0.3304 - accuracy: 0.8776 - val_loss: 0.3076 - val_accuracy: 0.8906\n",
      "Epoch 4/30\n",
      "55000/55000 [==============================] - 24s 433us/sample - loss: 0.3039 - accuracy: 0.8861 - val_loss: 0.3288 - val_accuracy: 0.8820\n",
      "Epoch 5/30\n",
      "55000/55000 [==============================] - 24s 443us/sample - loss: 0.2843 - accuracy: 0.8928 - val_loss: 0.3538 - val_accuracy: 0.8696\n",
      "Epoch 6/30\n",
      "55000/55000 [==============================] - 23s 419us/sample - loss: 0.2706 - accuracy: 0.8992 - val_loss: 0.3244 - val_accuracy: 0.8834\n",
      "Epoch 7/30\n",
      "55000/55000 [==============================] - 27s 487us/sample - loss: 0.2589 - accuracy: 0.9034 - val_loss: 0.3022 - val_accuracy: 0.8914\n",
      "Epoch 8/30\n",
      "55000/55000 [==============================] - 26s 464us/sample - loss: 0.2472 - accuracy: 0.9064 - val_loss: 0.3001 - val_accuracy: 0.8946\n",
      "Epoch 9/30\n",
      "55000/55000 [==============================] - 23s 426us/sample - loss: 0.2346 - accuracy: 0.9109 - val_loss: 0.3189 - val_accuracy: 0.8910\n",
      "Epoch 10/30\n",
      "55000/55000 [==============================] - 23s 419us/sample - loss: 0.2249 - accuracy: 0.9147 - val_loss: 0.3019 - val_accuracy: 0.9020\n",
      "Epoch 11/30\n",
      "55000/55000 [==============================] - 24s 442us/sample - loss: 0.2187 - accuracy: 0.9170 - val_loss: 0.3223 - val_accuracy: 0.8948\n",
      "Epoch 12/30\n",
      "55000/55000 [==============================] - 23s 414us/sample - loss: 0.2081 - accuracy: 0.9213 - val_loss: 0.2947 - val_accuracy: 0.8980\n",
      "Epoch 13/30\n",
      "55000/55000 [==============================] - 23s 419us/sample - loss: 0.2021 - accuracy: 0.9222 - val_loss: 0.3272 - val_accuracy: 0.8930\n",
      "Epoch 14/30\n",
      "55000/55000 [==============================] - 25s 452us/sample - loss: 0.1952 - accuracy: 0.9255 - val_loss: 0.3086 - val_accuracy: 0.8976\n",
      "Epoch 15/30\n",
      "55000/55000 [==============================] - 23s 419us/sample - loss: 0.1885 - accuracy: 0.9282 - val_loss: 0.3589 - val_accuracy: 0.8974\n",
      "Epoch 16/30\n",
      "55000/55000 [==============================] - 23s 426us/sample - loss: 0.1848 - accuracy: 0.9293 - val_loss: 0.3056 - val_accuracy: 0.9048\n",
      "Epoch 17/30\n",
      "55000/55000 [==============================] - 23s 412us/sample - loss: 0.1788 - accuracy: 0.9327 - val_loss: 0.3391 - val_accuracy: 0.8956\n",
      "Epoch 18/30\n",
      "55000/55000 [==============================] - 23s 411us/sample - loss: 0.1738 - accuracy: 0.9328 - val_loss: 0.3720 - val_accuracy: 0.8954\n",
      "Epoch 19/30\n",
      "55000/55000 [==============================] - 23s 418us/sample - loss: 0.1698 - accuracy: 0.9352 - val_loss: 0.3919 - val_accuracy: 0.8968\n",
      "Epoch 20/30\n",
      "55000/55000 [==============================] - 23s 427us/sample - loss: 0.1642 - accuracy: 0.9372 - val_loss: 0.3509 - val_accuracy: 0.9020\n",
      "Epoch 21/30\n",
      "55000/55000 [==============================] - 22s 409us/sample - loss: 0.1594 - accuracy: 0.9389 - val_loss: 0.3407 - val_accuracy: 0.9010\n",
      "Epoch 22/30\n",
      "55000/55000 [==============================] - 23s 417us/sample - loss: 0.1552 - accuracy: 0.9400 - val_loss: 0.3553 - val_accuracy: 0.8992\n",
      "Epoch 23/30\n",
      "55000/55000 [==============================] - 22s 405us/sample - loss: 0.1509 - accuracy: 0.9415 - val_loss: 0.3823 - val_accuracy: 0.9000\n",
      "Epoch 24/30\n",
      "55000/55000 [==============================] - 22s 408us/sample - loss: 0.1479 - accuracy: 0.9437 - val_loss: 0.4008 - val_accuracy: 0.8978\n",
      "Epoch 25/30\n",
      "55000/55000 [==============================] - 24s 437us/sample - loss: 0.1402 - accuracy: 0.9463 - val_loss: 0.3928 - val_accuracy: 0.8960\n",
      "Epoch 26/30\n",
      "55000/55000 [==============================] - 23s 418us/sample - loss: 0.1396 - accuracy: 0.9461 - val_loss: 0.3894 - val_accuracy: 0.9000\n",
      "Epoch 27/30\n",
      "55000/55000 [==============================] - 22s 405us/sample - loss: 0.1352 - accuracy: 0.9486 - val_loss: 0.4667 - val_accuracy: 0.8956\n",
      "Epoch 28/30\n",
      "55000/55000 [==============================] - 24s 444us/sample - loss: 0.1336 - accuracy: 0.9488 - val_loss: 0.3951 - val_accuracy: 0.9016\n",
      "Epoch 29/30\n",
      "55000/55000 [==============================] - 326s 6ms/sample - loss: 0.1290 - accuracy: 0.9504 - val_loss: 0.4050 - val_accuracy: 0.8954\n",
      "Epoch 30/30\n",
      "55000/55000 [==============================] - 25s 457us/sample - loss: 0.1259 - accuracy: 0.9520 - val_loss: 0.4528 - val_accuracy: 0.9002\n"
     ]
    }
   ],
   "source": [
    "history1 = model.fit(X_train, y_train, batch_size=32, epochs=30,\n",
    "                    validation_data=(X_valid, y_valid))"
   ]
  },
  {
   "cell_type": "code",
   "execution_count": 26,
   "metadata": {},
   "outputs": [
    {
     "data": {
      "text/plain": [
       "{'batch_size': 32,\n",
       " 'epochs': 30,\n",
       " 'steps': 1719,\n",
       " 'samples': 55000,\n",
       " 'verbose': 0,\n",
       " 'do_validation': True,\n",
       " 'metrics': ['loss', 'accuracy', 'val_loss', 'val_accuracy']}"
      ]
     },
     "execution_count": 26,
     "metadata": {},
     "output_type": "execute_result"
    }
   ],
   "source": [
    "history1.params"
   ]
  },
  {
   "cell_type": "code",
   "execution_count": 28,
   "metadata": {},
   "outputs": [
    {
     "data": {
      "image/png": "[encoded data removed]",
      "text/plain": [
       "<Figure size 576x360 with 1 Axes>"
      ]
     },
     "metadata": {
      "needs_background": "light"
     },
     "output_type": "display_data"
    }
   ],
   "source": [
    "import pandas as pd\n",
    "pd.DataFrame(history1.history).plot(figsize=(8, 5))\n",
    "plt.grid(True)\n",
    "plt.gca().set_ylim(0, 1)\n",
    "plt.show()"
   ]
  },
  {
   "cell_type": "markdown",
   "metadata": {},
   "source": [
    "2-optimizers:RMSprop"
   ]
  },
  {
   "cell_type": "code",
   "execution_count": 31,
   "metadata": {},
   "outputs": [],
   "source": [
    "model.compile(loss=\"sparse_categorical_crossentropy\",\n",
    "              optimizer=\"RMSprop\",\n",
    "              metrics=[\"accuracy\"])\n"
   ]
  },
  {
   "cell_type": "code",
   "execution_count": 32,
   "metadata": {
    "scrolled": true
   },
   "outputs": [
    {
     "name": "stdout",
     "output_type": "stream",
     "text": [
      "Train on 55000 samples, validate on 5000 samples\n",
      "Epoch 1/30\n",
      "55000/55000 [==============================] - 28s 514us/sample - loss: 0.1230 - accuracy: 0.9531 - val_loss: 0.5346 - val_accuracy: 0.9008\n",
      "Epoch 2/30\n",
      "55000/55000 [==============================] - 25s 449us/sample - loss: 0.1321 - accuracy: 0.9517 - val_loss: 0.6031 - val_accuracy: 0.8974\n",
      "Epoch 3/30\n",
      "55000/55000 [==============================] - 26s 476us/sample - loss: 0.1382 - accuracy: 0.9510 - val_loss: 0.6744 - val_accuracy: 0.8924\n",
      "Epoch 4/30\n",
      "55000/55000 [==============================] - 24s 431us/sample - loss: 0.1472 - accuracy: 0.9484 - val_loss: 0.6488 - val_accuracy: 0.8946\n",
      "Epoch 5/30\n",
      "55000/55000 [==============================] - 24s 431us/sample - loss: 0.1584 - accuracy: 0.9457 - val_loss: 0.7608 - val_accuracy: 0.8926\n",
      "Epoch 6/30\n",
      "55000/55000 [==============================] - 25s 449us/sample - loss: 0.1648 - accuracy: 0.9447 - val_loss: 0.7163 - val_accuracy: 0.8944\n",
      "Epoch 7/30\n",
      "55000/55000 [==============================] - 25s 453us/sample - loss: 0.1619 - accuracy: 0.9455 - val_loss: 0.7843 - val_accuracy: 0.8922\n",
      "Epoch 8/30\n",
      "55000/55000 [==============================] - 27s 486us/sample - loss: 0.1712 - accuracy: 0.9435 - val_loss: 0.8681 - val_accuracy: 0.8886\n",
      "Epoch 9/30\n",
      "55000/55000 [==============================] - 25s 453us/sample - loss: 0.1721 - accuracy: 0.9454 - val_loss: 0.8644 - val_accuracy: 0.8840\n",
      "Epoch 10/30\n",
      "55000/55000 [==============================] - 28s 505us/sample - loss: 0.1791 - accuracy: 0.9433 - val_loss: 0.9780 - val_accuracy: 0.8796\n",
      "Epoch 11/30\n",
      "55000/55000 [==============================] - 25s 447us/sample - loss: 0.1803 - accuracy: 0.9425 - val_loss: 0.8514 - val_accuracy: 0.8922\n",
      "Epoch 12/30\n",
      "55000/55000 [==============================] - 26s 464us/sample - loss: 0.1797 - accuracy: 0.9425 - val_loss: 0.9794 - val_accuracy: 0.8916\n",
      "Epoch 13/30\n",
      "55000/55000 [==============================] - 31s 571us/sample - loss: 0.1801 - accuracy: 0.9439 - val_loss: 0.9233 - val_accuracy: 0.8928\n",
      "Epoch 14/30\n",
      "55000/55000 [==============================] - 26s 479us/sample - loss: 0.1871 - accuracy: 0.9418 - val_loss: 0.9241 - val_accuracy: 0.8990\n",
      "Epoch 15/30\n",
      "55000/55000 [==============================] - 26s 478us/sample - loss: 0.1907 - accuracy: 0.9404 - val_loss: 0.9522 - val_accuracy: 0.8948\n",
      "Epoch 16/30\n",
      "55000/55000 [==============================] - 26s 480us/sample - loss: 0.1913 - accuracy: 0.9423 - val_loss: 1.0448 - val_accuracy: 0.8940\n",
      "Epoch 17/30\n",
      "55000/55000 [==============================] - 25s 459us/sample - loss: 0.1887 - accuracy: 0.9423 - val_loss: 1.1661 - val_accuracy: 0.8872\n",
      "Epoch 18/30\n",
      "55000/55000 [==============================] - 25s 463us/sample - loss: 0.1896 - accuracy: 0.9416 - val_loss: 1.2004 - val_accuracy: 0.8886\n",
      "Epoch 19/30\n",
      "55000/55000 [==============================] - 26s 474us/sample - loss: 0.1971 - accuracy: 0.9406 - val_loss: 1.1763 - val_accuracy: 0.8952\n",
      "Epoch 20/30\n",
      "55000/55000 [==============================] - 25s 463us/sample - loss: 0.1890 - accuracy: 0.9423 - val_loss: 1.1180 - val_accuracy: 0.9000\n",
      "Epoch 21/30\n",
      "55000/55000 [==============================] - 27s 486us/sample - loss: 0.1932 - accuracy: 0.9416 - val_loss: 1.2106 - val_accuracy: 0.8946\n",
      "Epoch 22/30\n",
      "55000/55000 [==============================] - 26s 465us/sample - loss: 0.1934 - accuracy: 0.9425 - val_loss: 1.1830 - val_accuracy: 0.8938\n",
      "Epoch 23/30\n",
      "55000/55000 [==============================] - 26s 466us/sample - loss: 0.1935 - accuracy: 0.9418 - val_loss: 1.1736 - val_accuracy: 0.8944\n",
      "Epoch 24/30\n",
      "55000/55000 [==============================] - 26s 479us/sample - loss: 0.1877 - accuracy: 0.9431 - val_loss: 1.2057 - val_accuracy: 0.8910\n",
      "Epoch 25/30\n",
      "55000/55000 [==============================] - 26s 479us/sample - loss: 0.1895 - accuracy: 0.9422 - val_loss: 1.3178 - val_accuracy: 0.8944\n",
      "Epoch 26/30\n",
      "55000/55000 [==============================] - 27s 492us/sample - loss: 0.1870 - accuracy: 0.9432 - val_loss: 1.1865 - val_accuracy: 0.8948\n",
      "Epoch 27/30\n",
      "55000/55000 [==============================] - 26s 477us/sample - loss: 0.1877 - accuracy: 0.9446 - val_loss: 1.1928 - val_accuracy: 0.8866\n",
      "Epoch 28/30\n",
      "55000/55000 [==============================] - 27s 485us/sample - loss: 0.1850 - accuracy: 0.9438 - val_loss: 1.2482 - val_accuracy: 0.8944\n",
      "Epoch 29/30\n",
      "55000/55000 [==============================] - 26s 472us/sample - loss: 0.1941 - accuracy: 0.9450 - val_loss: 1.2781 - val_accuracy: 0.8966\n",
      "Epoch 30/30\n",
      "55000/55000 [==============================] - 26s 476us/sample - loss: 0.1906 - accuracy: 0.9455 - val_loss: 1.3287 - val_accuracy: 0.8846\n"
     ]
    }
   ],
   "source": [
    "history2 = model.fit(X_train, y_train, batch_size=32, epochs=30,\n",
    "                    validation_data=(X_valid, y_valid))"
   ]
  },
  {
   "cell_type": "code",
   "execution_count": 33,
   "metadata": {},
   "outputs": [
    {
     "data": {
      "text/plain": [
       "{'batch_size': 32,\n",
       " 'epochs': 30,\n",
       " 'steps': 1719,\n",
       " 'samples': 55000,\n",
       " 'verbose': 0,\n",
       " 'do_validation': True,\n",
       " 'metrics': ['loss', 'accuracy', 'val_loss', 'val_accuracy']}"
      ]
     },
     "execution_count": 33,
     "metadata": {},
     "output_type": "execute_result"
    }
   ],
   "source": [
    "history2.params"
   ]
  },
  {
   "cell_type": "code",
   "execution_count": 41,
   "metadata": {},
   "outputs": [
    {
     "data": {
      "image/png": "[encoded data removed]",
      "text/plain": [
       "<Figure size 576x360 with 1 Axes>"
      ]
     },
     "metadata": {
      "needs_background": "light"
     },
     "output_type": "display_data"
    }
   ],
   "source": [
    "pd.DataFrame(history2.history).plot(figsize=(8, 5))\n",
    "plt.grid(True)\n",
    "plt.gca().set_ylim(0, 1)\n",
    "plt.show()"
   ]
  },
  {
   "cell_type": "code",
   "execution_count": 38,
   "metadata": {},
   "outputs": [
    {
     "ename": "SyntaxError",
     "evalue": "illegal target for annotation (<ipython-input-38-6bdfe893ed42>, line 1)",
     "output_type": "error",
     "traceback": [
      "\u001b[1;36m  File \u001b[1;32m\"<ipython-input-38-6bdfe893ed42>\"\u001b[1;36m, line \u001b[1;32m1\u001b[0m\n\u001b[1;33m    3-optimizers:Nadam\u001b[0m\n\u001b[1;37m                      ^\u001b[0m\n\u001b[1;31mSyntaxError\u001b[0m\u001b[1;31m:\u001b[0m illegal target for annotation\n"
     ]
    }
   ],
   "source": [
    "3-optimizers:Nadam"
   ]
  },
  {
   "cell_type": "code",
   "execution_count": 36,
   "metadata": {},
   "outputs": [],
   "source": [
    "model.compile(loss=\"sparse_categorical_crossentropy\",\n",
    "              optimizer=\"Nadam\",\n",
    "              metrics=[\"accuracy\"])"
   ]
  },
  {
   "cell_type": "code",
   "execution_count": 37,
   "metadata": {},
   "outputs": [
    {
     "name": "stdout",
     "output_type": "stream",
     "text": [
      "Train on 55000 samples, validate on 5000 samples\n",
      "Epoch 1/30\n",
      "55000/55000 [==============================] - 33s 597us/sample - loss: 0.2370 - accuracy: 0.9343 - val_loss: 0.8620 - val_accuracy: 0.8902\n",
      "Epoch 2/30\n",
      "55000/55000 [==============================] - 30s 550us/sample - loss: 0.2095 - accuracy: 0.9370 - val_loss: 0.7497 - val_accuracy: 0.8910\n",
      "Epoch 3/30\n",
      "55000/55000 [==============================] - 30s 547us/sample - loss: 0.1858 - accuracy: 0.9406 - val_loss: 0.8558 - val_accuracy: 0.8920\n",
      "Epoch 4/30\n",
      "55000/55000 [==============================] - 31s 560us/sample - loss: 0.1724 - accuracy: 0.9426 - val_loss: 0.8118 - val_accuracy: 0.8964\n",
      "Epoch 5/30\n",
      "55000/55000 [==============================] - 31s 564us/sample - loss: 0.1688 - accuracy: 0.9431 - val_loss: 0.7574 - val_accuracy: 0.8886\n",
      "Epoch 6/30\n",
      "55000/55000 [==============================] - 31s 570us/sample - loss: 0.1630 - accuracy: 0.9447 - val_loss: 0.7049 - val_accuracy: 0.8942\n",
      "Epoch 7/30\n",
      "55000/55000 [==============================] - 31s 572us/sample - loss: 0.1603 - accuracy: 0.9448 - val_loss: 0.6019 - val_accuracy: 0.8992\n",
      "Epoch 8/30\n",
      "55000/55000 [==============================] - 30s 553us/sample - loss: 0.1517 - accuracy: 0.9474 - val_loss: 0.6730 - val_accuracy: 0.8952\n",
      "Epoch 9/30\n",
      "55000/55000 [==============================] - 30s 551us/sample - loss: 0.1451 - accuracy: 0.9481 - val_loss: 0.6631 - val_accuracy: 0.8982\n",
      "Epoch 10/30\n",
      "55000/55000 [==============================] - 31s 558us/sample - loss: 0.1374 - accuracy: 0.9518 - val_loss: 0.7039 - val_accuracy: 0.8944\n",
      "Epoch 11/30\n",
      "55000/55000 [==============================] - 31s 556us/sample - loss: 0.1353 - accuracy: 0.9515 - val_loss: 0.7040 - val_accuracy: 0.8956\n",
      "Epoch 12/30\n",
      "55000/55000 [==============================] - 29s 521us/sample - loss: 0.1467 - accuracy: 0.9505 - val_loss: 0.7409 - val_accuracy: 0.8970-\n",
      "Epoch 13/30\n",
      "55000/55000 [==============================] - 29s 531us/sample - loss: 0.1207 - accuracy: 0.9558 - val_loss: 0.7197 - val_accuracy: 0.8978\n",
      "Epoch 14/30\n",
      "55000/55000 [==============================] - 30s 544us/sample - loss: 0.1291 - accuracy: 0.9546 - val_loss: 0.9152 - val_accuracy: 0.8782\n",
      "Epoch 15/30\n",
      "55000/55000 [==============================] - 29s 526us/sample - loss: 0.1218 - accuracy: 0.9568 - val_loss: 0.7567 - val_accuracy: 0.8908\n",
      "Epoch 16/30\n",
      "55000/55000 [==============================] - 29s 519us/sample - loss: 0.1208 - accuracy: 0.9567 - val_loss: 0.8363 - val_accuracy: 0.88468 - accur - ETA: 18s\n",
      "Epoch 17/30\n",
      "55000/55000 [==============================] - 29s 528us/sample - loss: 0.1150 - accuracy: 0.9579 - val_loss: 0.7225 - val_accuracy: 0.8948\n",
      "Epoch 18/30\n",
      "55000/55000 [==============================] - 29s 531us/sample - loss: 0.1171 - accuracy: 0.9581 - val_loss: 0.7257 - val_accuracy: 0.8940\n",
      "Epoch 19/30\n",
      "55000/55000 [==============================] - 30s 554us/sample - loss: 0.1086 - accuracy: 0.9598 - val_loss: 0.7527 - val_accuracy: 0.8948\n",
      "Epoch 20/30\n",
      "55000/55000 [==============================] - 31s 556us/sample - loss: 0.1153 - accuracy: 0.9582 - val_loss: 0.8006 - val_accuracy: 0.8966\n",
      "Epoch 21/30\n",
      "55000/55000 [==============================] - 30s 543us/sample - loss: 0.1067 - accuracy: 0.9623 - val_loss: 0.7958 - val_accuracy: 0.9016\n",
      "Epoch 22/30\n",
      "55000/55000 [==============================] - 30s 549us/sample - loss: 0.1077 - accuracy: 0.9617 - val_loss: 0.7698 - val_accuracy: 0.8950\n",
      "Epoch 23/30\n",
      "55000/55000 [==============================] - 31s 561us/sample - loss: 0.1019 - accuracy: 0.9632 - val_loss: 0.7874 - val_accuracy: 0.8988\n",
      "Epoch 24/30\n",
      "55000/55000 [==============================] - 31s 558us/sample - loss: 0.0978 - accuracy: 0.9643 - val_loss: 0.8858 - val_accuracy: 0.9006\n",
      "Epoch 25/30\n",
      "55000/55000 [==============================] - 30s 543us/sample - loss: 0.1049 - accuracy: 0.9629 - val_loss: 0.8012 - val_accuracy: 0.8972\n",
      "Epoch 26/30\n",
      "55000/55000 [==============================] - 32s 578us/sample - loss: 0.0951 - accuracy: 0.9649 - val_loss: 0.7925 - val_accuracy: 0.8980\n",
      "Epoch 27/30\n",
      "55000/55000 [==============================] - 30s 540us/sample - loss: 0.0995 - accuracy: 0.9637 - val_loss: 0.7609 - val_accuracy: 0.9010\n",
      "Epoch 28/30\n",
      "55000/55000 [==============================] - 30s 548us/sample - loss: 0.0907 - accuracy: 0.9674 - val_loss: 0.9119 - val_accuracy: 0.8970\n",
      "Epoch 29/30\n",
      "55000/55000 [==============================] - 30s 537us/sample - loss: 0.1040 - accuracy: 0.9624 - val_loss: 0.7863 - val_accuracy: 0.8978\n",
      "Epoch 30/30\n",
      "55000/55000 [==============================] - 30s 550us/sample - loss: 0.0983 - accuracy: 0.9665 - val_loss: 0.8571 - val_accuracy: 0.8974loss: 0.0688 - acc - ETA: 25s - loss: 0.0779 - accurac - ETA: 25s - loss: 0.0836 - accuracy: 0. - ETA: 22s - loss: 0.0816 - accuracy: - ETA: 22s - l - ETA: 0s - loss: 0.0984 \n"
     ]
    }
   ],
   "source": [
    "history3 = model.fit(X_train, y_train, batch_size=32, epochs=30,\n",
    "                    validation_data=(X_valid, y_valid))"
   ]
  },
  {
   "cell_type": "code",
   "execution_count": 39,
   "metadata": {},
   "outputs": [
    {
     "data": {
      "image/png": "[encoded data removed]",
      "text/plain": [
       "<Figure size 576x360 with 1 Axes>"
      ]
     },
     "metadata": {
      "needs_background": "light"
     },
     "output_type": "display_data"
    },
    {
     "data": {
      "image/png": "[encoded data removed]",
      "text/plain": [
       "<Figure size 576x360 with 1 Axes>"
      ]
     },
     "metadata": {
      "needs_background": "light"
     },
     "output_type": "display_data"
    },
    {
     "data": {
      "image/png": "[encoded data removed]",
      "text/plain": [
       "<Figure size 576x360 with 1 Axes>"
      ]
     },
     "metadata": {
      "needs_background": "light"
     },
     "output_type": "display_data"
    }
   ],
   "source": [
    "pd.DataFrame(history1.history).plot(figsize=(8, 5))\n",
    "pd.DataFrame(history2.history).plot(figsize=(8, 5))\n",
    "pd.DataFrame(history3.history).plot(figsize=(8, 5))\n",
    "plt.grid(True)\n",
    "plt.gca().set_ylim(0, 1)\n",
    "plt.show()"
   ]
  },
  {
   "cell_type": "markdown",
   "metadata": {},
   "source": [
    "2) Plot Learning curves when using different batch size"
   ]
  },
  {
   "cell_type": "markdown",
   "metadata": {},
   "source": [
    "1-size = 20"
   ]
  },
  {
   "cell_type": "code",
   "execution_count": 43,
   "metadata": {},
   "outputs": [],
   "source": [
    "model.compile(loss=\"sparse_categorical_crossentropy\",\n",
    "              optimizer=\"sgd\",\n",
    "              metrics=[\"accuracy\"])"
   ]
  },
  {
   "cell_type": "code",
   "execution_count": 44,
   "metadata": {},
   "outputs": [
    {
     "name": "stdout",
     "output_type": "stream",
     "text": [
      "Train on 55000 samples, validate on 5000 samples\n",
      "Epoch 1/30\n",
      "55000/55000 [==============================] - 32s 584us/sample - loss: 0.0688 - accuracy: 0.9755 - val_loss: 0.8896 - val_accuracy: 0.9034\n",
      "Epoch 2/30\n",
      "55000/55000 [==============================] - 26s 478us/sample - loss: 0.0600 - accuracy: 0.9784 - val_loss: 0.9047 - val_accuracy: 0.9020\n",
      "Epoch 3/30\n",
      "55000/55000 [==============================] - 30s 549us/sample - loss: 0.0561 - accuracy: 0.9788 - val_loss: 0.9136 - val_accuracy: 0.9034\n",
      "Epoch 4/30\n",
      "55000/55000 [==============================] - 27s 500us/sample - loss: 0.0553 - accuracy: 0.9793 - val_loss: 0.9377 - val_accuracy: 0.9040\n",
      "Epoch 5/30\n",
      "55000/55000 [==============================] - 35s 633us/sample - loss: 0.0539 - accuracy: 0.9798 - val_loss: 0.9572 - val_accuracy: 0.8988\n",
      "Epoch 6/30\n",
      "55000/55000 [==============================] - 32s 577us/sample - loss: 0.0528 - accuracy: 0.9804 - val_loss: 0.9715 - val_accuracy: 0.9006\n",
      "Epoch 7/30\n",
      "55000/55000 [==============================] - 31s 558us/sample - loss: 0.0515 - accuracy: 0.9806 - val_loss: 1.0052 - val_accuracy: 0.9044\n",
      "Epoch 8/30\n",
      "55000/55000 [==============================] - 30s 538us/sample - loss: 0.0511 - accuracy: 0.9808 - val_loss: 0.9956 - val_accuracy: 0.9020\n",
      "Epoch 9/30\n",
      "55000/55000 [==============================] - 32s 579us/sample - loss: 0.0504 - accuracy: 0.9810 - val_loss: 0.9996 - val_accuracy: 0.9006\n",
      "Epoch 10/30\n",
      "55000/55000 [==============================] - 32s 582us/sample - loss: 0.0496 - accuracy: 0.9819 - val_loss: 0.9969 - val_accuracy: 0.9046\n",
      "Epoch 11/30\n",
      "55000/55000 [==============================] - 34s 617us/sample - loss: 0.0492 - accuracy: 0.9816 - val_loss: 1.0029 - val_accuracy: 0.9032\n",
      "Epoch 12/30\n",
      "55000/55000 [==============================] - 27s 489us/sample - loss: 0.0486 - accuracy: 0.9813 - val_loss: 1.0124 - val_accuracy: 0.9030\n",
      "Epoch 13/30\n",
      "55000/55000 [==============================] - 33s 598us/sample - loss: 0.0471 - accuracy: 0.9825 - val_loss: 1.0298 - val_accuracy: 0.9028\n",
      "Epoch 14/30\n",
      "55000/55000 [==============================] - 32s 587us/sample - loss: 0.0471 - accuracy: 0.9825 - val_loss: 1.0432 - val_accuracy: 0.9030\n",
      "Epoch 15/30\n",
      "55000/55000 [==============================] - 31s 564us/sample - loss: 0.0468 - accuracy: 0.9825 - val_loss: 1.0527 - val_accuracy: 0.9024\n",
      "Epoch 16/30\n",
      "55000/55000 [==============================] - 32s 575us/sample - loss: 0.0463 - accuracy: 0.9824 - val_loss: 1.0649 - val_accuracy: 0.9018\n",
      "Epoch 17/30\n",
      "55000/55000 [==============================] - 35s 634us/sample - loss: 0.0459 - accuracy: 0.9825 - val_loss: 1.0600 - val_accuracy: 0.8998\n",
      "Epoch 18/30\n",
      "55000/55000 [==============================] - 33s 602us/sample - loss: 0.0458 - accuracy: 0.9833 - val_loss: 1.0578 - val_accuracy: 0.9032\n",
      "Epoch 19/30\n",
      "55000/55000 [==============================] - 34s 616us/sample - loss: 0.0451 - accuracy: 0.9831 - val_loss: 1.0823 - val_accuracy: 0.9010\n",
      "Epoch 20/30\n",
      "55000/55000 [==============================] - 33s 597us/sample - loss: 0.0443 - accuracy: 0.9830 - val_loss: 1.0888 - val_accuracy: 0.9034\n",
      "Epoch 21/30\n",
      "55000/55000 [==============================] - 32s 575us/sample - loss: 0.0445 - accuracy: 0.9833 - val_loss: 1.0696 - val_accuracy: 0.9034\n",
      "Epoch 22/30\n",
      "55000/55000 [==============================] - 31s 572us/sample - loss: 0.0438 - accuracy: 0.9834 - val_loss: 1.0901 - val_accuracy: 0.9056\n",
      "Epoch 23/30\n",
      "55000/55000 [==============================] - 33s 599us/sample - loss: 0.0440 - accuracy: 0.9835 - val_loss: 1.0976 - val_accuracy: 0.9028\n",
      "Epoch 24/30\n",
      "55000/55000 [==============================] - 31s 563us/sample - loss: 0.0427 - accuracy: 0.9840 - val_loss: 1.1051 - val_accuracy: 0.9014\n",
      "Epoch 25/30\n",
      "55000/55000 [==============================] - 34s 619us/sample - loss: 0.0423 - accuracy: 0.9842 - val_loss: 1.1108 - val_accuracy: 0.9048\n",
      "Epoch 26/30\n",
      "55000/55000 [==============================] - 31s 572us/sample - loss: 0.0427 - accuracy: 0.9838 - val_loss: 1.1124 - val_accuracy: 0.9006\n",
      "Epoch 27/30\n",
      "55000/55000 [==============================] - 31s 566us/sample - loss: 0.0420 - accuracy: 0.9842 - val_loss: 1.1380 - val_accuracy: 0.9028\n",
      "Epoch 28/30\n",
      "55000/55000 [==============================] - 31s 556us/sample - loss: 0.0421 - accuracy: 0.9843 - val_loss: 1.1351 - val_accuracy: 0.9026\n",
      "Epoch 29/30\n",
      "55000/55000 [==============================] - 28s 512us/sample - loss: 0.0420 - accuracy: 0.9840 - val_loss: 1.1061 - val_accuracy: 0.9028\n",
      "Epoch 30/30\n",
      "55000/55000 [==============================] - 26s 479us/sample - loss: 0.0408 - accuracy: 0.9847 - val_loss: 1.1233 - val_accuracy: 0.9034\n"
     ]
    }
   ],
   "source": [
    "history4 = model.fit(X_train, y_train, batch_size=20, epochs=30,\n",
    "                    validation_data=(X_valid, y_valid))"
   ]
  },
  {
   "cell_type": "markdown",
   "metadata": {},
   "source": [
    "2- size = 40"
   ]
  },
  {
   "cell_type": "code",
   "execution_count": 45,
   "metadata": {},
   "outputs": [
    {
     "name": "stdout",
     "output_type": "stream",
     "text": [
      "Train on 55000 samples, validate on 5000 samples\n",
      "Epoch 1/30\n",
      "55000/55000 [==============================] - 17s 315us/sample - loss: 0.0360 - accuracy: 0.9867 - val_loss: 1.1448 - val_accuracy: 0.9026\n",
      "Epoch 2/30\n",
      "55000/55000 [==============================] - 17s 312us/sample - loss: 0.0359 - accuracy: 0.9867 - val_loss: 1.1416 - val_accuracy: 0.9054\n",
      "Epoch 3/30\n",
      "55000/55000 [==============================] - 16s 285us/sample - loss: 0.0355 - accuracy: 0.9869 - val_loss: 1.1478 - val_accuracy: 0.9030\n",
      "Epoch 4/30\n",
      "55000/55000 [==============================] - 16s 289us/sample - loss: 0.0351 - accuracy: 0.9871 - val_loss: 1.1471 - val_accuracy: 0.9032\n",
      "Epoch 5/30\n",
      "55000/55000 [==============================] - 16s 287us/sample - loss: 0.0350 - accuracy: 0.9875 - val_loss: 1.1637 - val_accuracy: 0.9052\n",
      "Epoch 6/30\n",
      "55000/55000 [==============================] - 18s 331us/sample - loss: 0.0349 - accuracy: 0.9870 - val_loss: 1.1526 - val_accuracy: 0.9046\n",
      "Epoch 7/30\n",
      "55000/55000 [==============================] - 23s 410us/sample - loss: 0.0349 - accuracy: 0.9871 - val_loss: 1.1623 - val_accuracy: 0.9024\n",
      "Epoch 8/30\n",
      "55000/55000 [==============================] - 24s 433us/sample - loss: 0.0348 - accuracy: 0.9868 - val_loss: 1.1612 - val_accuracy: 0.9028\n",
      "Epoch 9/30\n",
      "55000/55000 [==============================] - 25s 453us/sample - loss: 0.0345 - accuracy: 0.9874 - val_loss: 1.1545 - val_accuracy: 0.9034\n",
      "Epoch 10/30\n",
      "55000/55000 [==============================] - 22s 401us/sample - loss: 0.0343 - accuracy: 0.9877 - val_loss: 1.1666 - val_accuracy: 0.9048\n",
      "Epoch 11/30\n",
      "55000/55000 [==============================] - 22s 399us/sample - loss: 0.0343 - accuracy: 0.9873 - val_loss: 1.1717 - val_accuracy: 0.9052\n",
      "Epoch 12/30\n",
      "55000/55000 [==============================] - 25s 464us/sample - loss: 0.0337 - accuracy: 0.9880 - val_loss: 1.1935 - val_accuracy: 0.9026\n",
      "Epoch 13/30\n",
      "55000/55000 [==============================] - 22s 400us/sample - loss: 0.0340 - accuracy: 0.9874 - val_loss: 1.1912 - val_accuracy: 0.9016\n",
      "Epoch 14/30\n",
      "55000/55000 [==============================] - 21s 379us/sample - loss: 0.0337 - accuracy: 0.9879 - val_loss: 1.1825 - val_accuracy: 0.9046\n",
      "Epoch 15/30\n",
      "55000/55000 [==============================] - 24s 440us/sample - loss: 0.0332 - accuracy: 0.9877 - val_loss: 1.1842 - val_accuracy: 0.9044\n",
      "Epoch 16/30\n",
      "55000/55000 [==============================] - 24s 435us/sample - loss: 0.0334 - accuracy: 0.9875 - val_loss: 1.1851 - val_accuracy: 0.9050\n",
      "Epoch 17/30\n",
      "55000/55000 [==============================] - 26s 466us/sample - loss: 0.0334 - accuracy: 0.9878 - val_loss: 1.1852 - val_accuracy: 0.9040\n",
      "Epoch 18/30\n",
      "55000/55000 [==============================] - 24s 431us/sample - loss: 0.0334 - accuracy: 0.9877 - val_loss: 1.1975 - val_accuracy: 0.9046\n",
      "Epoch 19/30\n",
      "55000/55000 [==============================] - 22s 406us/sample - loss: 0.0331 - accuracy: 0.9879 - val_loss: 1.1921 - val_accuracy: 0.9022\n",
      "Epoch 20/30\n",
      "55000/55000 [==============================] - 19s 347us/sample - loss: 0.0329 - accuracy: 0.9875 - val_loss: 1.1970 - val_accuracy: 0.9032\n",
      "Epoch 21/30\n",
      "55000/55000 [==============================] - 19s 343us/sample - loss: 0.0326 - accuracy: 0.9877 - val_loss: 1.1988 - val_accuracy: 0.9044\n",
      "Epoch 22/30\n",
      "55000/55000 [==============================] - 17s 302us/sample - loss: 0.0327 - accuracy: 0.9881 - val_loss: 1.1962 - val_accuracy: 0.9026\n",
      "Epoch 23/30\n",
      "55000/55000 [==============================] - 16s 299us/sample - loss: 0.0324 - accuracy: 0.9881 - val_loss: 1.2122 - val_accuracy: 0.9024\n",
      "Epoch 24/30\n",
      "55000/55000 [==============================] - 16s 286us/sample - loss: 0.0324 - accuracy: 0.9879 - val_loss: 1.2084 - val_accuracy: 0.9034\n",
      "Epoch 25/30\n",
      "55000/55000 [==============================] - 15s 281us/sample - loss: 0.0321 - accuracy: 0.9883 - val_loss: 1.2106 - val_accuracy: 0.9036\n",
      "Epoch 26/30\n",
      "55000/55000 [==============================] - 14s 263us/sample - loss: 0.0318 - accuracy: 0.9884 - val_loss: 1.2304 - val_accuracy: 0.9034\n",
      "Epoch 27/30\n",
      "55000/55000 [==============================] - 15s 265us/sample - loss: 0.0317 - accuracy: 0.9881 - val_loss: 1.2198 - val_accuracy: 0.9026\n",
      "Epoch 28/30\n",
      "55000/55000 [==============================] - 14s 264us/sample - loss: 0.0319 - accuracy: 0.9883 - val_loss: 1.2298 - val_accuracy: 0.9056\n",
      "Epoch 29/30\n",
      "55000/55000 [==============================] - 14s 260us/sample - loss: 0.0316 - accuracy: 0.9885 - val_loss: 1.2308 - val_accuracy: 0.9026\n",
      "Epoch 30/30\n",
      "55000/55000 [==============================] - 14s 262us/sample - loss: 0.0316 - accuracy: 0.9885 - val_loss: 1.2203 - val_accuracy: 0.9024\n"
     ]
    }
   ],
   "source": [
    "history5 = model.fit(X_train, y_train, batch_size=40, epochs=30,\n",
    "                    validation_data=(X_valid, y_valid))"
   ]
  },
  {
   "cell_type": "code",
   "execution_count": 46,
   "metadata": {},
   "outputs": [
    {
     "data": {
      "image/png": "[encoded data removed]",
      "text/plain": [
       "<Figure size 576x360 with 1 Axes>"
      ]
     },
     "metadata": {
      "needs_background": "light"
     },
     "output_type": "display_data"
    },
    {
     "data": {
      "image/png": "[encoded data removed]",
      "text/plain": [
       "<Figure size 576x360 with 1 Axes>"
      ]
     },
     "metadata": {
      "needs_background": "light"
     },
     "output_type": "display_data"
    }
   ],
   "source": [
    "pd.DataFrame(history4.history).plot(figsize=(8, 5))\n",
    "pd.DataFrame(history5.history).plot(figsize=(8, 5))\n",
    "plt.grid(True)\n",
    "plt.gca().set_ylim(0, 1)\n",
    "plt.show()"
   ]
  },
  {
   "cell_type": "markdown",
   "metadata": {},
   "source": [
    "3) Plot Learning curves when using different number of epochs"
   ]
  },
  {
   "cell_type": "markdown",
   "metadata": {},
   "source": [
    "1-10 epochs"
   ]
  },
  {
   "cell_type": "code",
   "execution_count": 47,
   "metadata": {},
   "outputs": [
    {
     "name": "stdout",
     "output_type": "stream",
     "text": [
      "Train on 55000 samples, validate on 5000 samples\n",
      "Epoch 1/10\n",
      "55000/55000 [==============================] - 24s 435us/sample - loss: 0.0324 - accuracy: 0.9883 - val_loss: 1.2412 - val_accuracy: 0.9024\n",
      "Epoch 2/10\n",
      "55000/55000 [==============================] - 23s 423us/sample - loss: 0.0325 - accuracy: 0.9877 - val_loss: 1.2271 - val_accuracy: 0.9040\n",
      "Epoch 3/10\n",
      "55000/55000 [==============================] - 22s 392us/sample - loss: 0.0322 - accuracy: 0.9877 - val_loss: 1.2298 - val_accuracy: 0.9042\n",
      "Epoch 4/10\n",
      "55000/55000 [==============================] - 19s 349us/sample - loss: 0.0319 - accuracy: 0.9882 - val_loss: 1.2512 - val_accuracy: 0.9020\n",
      "Epoch 5/10\n",
      "55000/55000 [==============================] - 20s 363us/sample - loss: 0.0317 - accuracy: 0.9880 - val_loss: 1.2328 - val_accuracy: 0.9040\n",
      "Epoch 6/10\n",
      "55000/55000 [==============================] - 18s 329us/sample - loss: 0.0320 - accuracy: 0.9885 - val_loss: 1.2415 - val_accuracy: 0.9038\n",
      "Epoch 7/10\n",
      "55000/55000 [==============================] - 18s 325us/sample - loss: 0.0316 - accuracy: 0.9881 - val_loss: 1.2255 - val_accuracy: 0.9020\n",
      "Epoch 8/10\n",
      "55000/55000 [==============================] - 18s 322us/sample - loss: 0.0311 - accuracy: 0.9884 - val_loss: 1.2606 - val_accuracy: 0.9046\n",
      "Epoch 9/10\n",
      "55000/55000 [==============================] - 21s 391us/sample - loss: 0.0312 - accuracy: 0.9885 - val_loss: 1.2407 - val_accuracy: 0.9042\n",
      "Epoch 10/10\n",
      "55000/55000 [==============================] - 20s 363us/sample - loss: 0.0308 - accuracy: 0.9885 - val_loss: 1.2617 - val_accuracy: 0.9042\n"
     ]
    }
   ],
   "source": [
    "history6 = model.fit(X_train, y_train, batch_size=32, epochs=10,\n",
    "                    validation_data=(X_valid, y_valid))"
   ]
  },
  {
   "cell_type": "markdown",
   "metadata": {},
   "source": [
    "2-45 epochs"
   ]
  },
  {
   "cell_type": "code",
   "execution_count": 48,
   "metadata": {},
   "outputs": [
    {
     "name": "stdout",
     "output_type": "stream",
     "text": [
      "Train on 55000 samples, validate on 5000 samples\n",
      "Epoch 1/45\n",
      "55000/55000 [==============================] - 19s 351us/sample - loss: 0.0308 - accuracy: 0.9892 - val_loss: 1.2644 - val_accuracy: 0.9062\n",
      "Epoch 2/45\n",
      "55000/55000 [==============================] - 20s 363us/sample - loss: 0.0308 - accuracy: 0.9885 - val_loss: 1.2691 - val_accuracy: 0.9062\n",
      "Epoch 3/45\n",
      "55000/55000 [==============================] - 20s 365us/sample - loss: 0.0307 - accuracy: 0.9889 - val_loss: 1.2585 - val_accuracy: 0.9024\n",
      "Epoch 4/45\n",
      "55000/55000 [==============================] - 20s 356us/sample - loss: 0.0304 - accuracy: 0.9889 - val_loss: 1.2744 - val_accuracy: 0.9030\n",
      "Epoch 5/45\n",
      "55000/55000 [==============================] - 19s 353us/sample - loss: 0.0302 - accuracy: 0.9885 - val_loss: 1.2661 - val_accuracy: 0.9036\n",
      "Epoch 6/45\n",
      "55000/55000 [==============================] - 20s 366us/sample - loss: 0.0300 - accuracy: 0.9891 - val_loss: 1.2799 - val_accuracy: 0.9044\n",
      "Epoch 7/45\n",
      "55000/55000 [==============================] - 20s 359us/sample - loss: 0.0299 - accuracy: 0.9889 - val_loss: 1.2826 - val_accuracy: 0.9052\n",
      "Epoch 8/45\n",
      "55000/55000 [==============================] - 20s 364us/sample - loss: 0.0298 - accuracy: 0.9889 - val_loss: 1.2731 - val_accuracy: 0.9018\n",
      "Epoch 9/45\n",
      "55000/55000 [==============================] - 20s 370us/sample - loss: 0.0295 - accuracy: 0.9887 - val_loss: 1.2815 - val_accuracy: 0.9046\n",
      "Epoch 10/45\n",
      "55000/55000 [==============================] - 18s 318us/sample - loss: 0.0294 - accuracy: 0.9888 - val_loss: 1.2883 - val_accuracy: 0.9016\n",
      "Epoch 11/45\n",
      "55000/55000 [==============================] - 17s 302us/sample - loss: 0.0291 - accuracy: 0.9895 - val_loss: 1.2972 - val_accuracy: 0.9042\n",
      "Epoch 12/45\n",
      "55000/55000 [==============================] - 20s 360us/sample - loss: 0.0295 - accuracy: 0.9888 - val_loss: 1.2730 - val_accuracy: 0.9042\n",
      "Epoch 13/45\n",
      "55000/55000 [==============================] - 23s 419us/sample - loss: 0.0293 - accuracy: 0.9890 - val_loss: 1.2888 - val_accuracy: 0.9054\n",
      "Epoch 14/45\n",
      "55000/55000 [==============================] - 20s 371us/sample - loss: 0.0290 - accuracy: 0.9890 - val_loss: 1.2926 - val_accuracy: 0.9032\n",
      "Epoch 15/45\n",
      "55000/55000 [==============================] - 18s 336us/sample - loss: 0.0288 - accuracy: 0.9893 - val_loss: 1.2938 - val_accuracy: 0.9034\n",
      "Epoch 16/45\n",
      "55000/55000 [==============================] - 20s 365us/sample - loss: 0.0288 - accuracy: 0.9895 - val_loss: 1.2982 - val_accuracy: 0.9066\n",
      "Epoch 17/45\n",
      "55000/55000 [==============================] - 17s 306us/sample - loss: 0.0283 - accuracy: 0.9898 - val_loss: 1.3075 - val_accuracy: 0.9042\n",
      "Epoch 18/45\n",
      "55000/55000 [==============================] - 20s 357us/sample - loss: 0.0284 - accuracy: 0.9895 - val_loss: 1.2947 - val_accuracy: 0.9046\n",
      "Epoch 19/45\n",
      "55000/55000 [==============================] - 20s 355us/sample - loss: 0.0280 - accuracy: 0.9897 - val_loss: 1.3155 - val_accuracy: 0.9044\n",
      "Epoch 20/45\n",
      "55000/55000 [==============================] - 19s 340us/sample - loss: 0.0279 - accuracy: 0.9899 - val_loss: 1.3158 - val_accuracy: 0.9052\n",
      "Epoch 21/45\n",
      "55000/55000 [==============================] - 18s 336us/sample - loss: 0.0282 - accuracy: 0.9897 - val_loss: 1.3140 - val_accuracy: 0.9024\n",
      "Epoch 22/45\n",
      "55000/55000 [==============================] - 18s 332us/sample - loss: 0.0279 - accuracy: 0.9899 - val_loss: 1.3280 - val_accuracy: 0.9042\n",
      "Epoch 23/45\n",
      "55000/55000 [==============================] - 19s 342us/sample - loss: 0.0274 - accuracy: 0.9896 - val_loss: 1.3184 - val_accuracy: 0.9050\n",
      "Epoch 24/45\n",
      "55000/55000 [==============================] - 19s 339us/sample - loss: 0.0275 - accuracy: 0.9904 - val_loss: 1.3042 - val_accuracy: 0.9022\n",
      "Epoch 25/45\n",
      "55000/55000 [==============================] - 19s 346us/sample - loss: 0.0268 - accuracy: 0.9902 - val_loss: 1.3378 - val_accuracy: 0.9034\n",
      "Epoch 26/45\n",
      "55000/55000 [==============================] - 19s 346us/sample - loss: 0.0274 - accuracy: 0.9897 - val_loss: 1.3396 - val_accuracy: 0.9048\n",
      "Epoch 27/45\n",
      "55000/55000 [==============================] - 18s 334us/sample - loss: 0.0270 - accuracy: 0.9903 - val_loss: 1.3240 - val_accuracy: 0.9042\n",
      "Epoch 28/45\n",
      "55000/55000 [==============================] - 18s 333us/sample - loss: 0.0270 - accuracy: 0.9903 - val_loss: 1.3319 - val_accuracy: 0.9032\n",
      "Epoch 29/45\n",
      "55000/55000 [==============================] - 18s 333us/sample - loss: 0.0267 - accuracy: 0.9903 - val_loss: 1.3289 - val_accuracy: 0.9046\n",
      "Epoch 30/45\n",
      "55000/55000 [==============================] - 19s 343us/sample - loss: 0.0267 - accuracy: 0.9903 - val_loss: 1.3490 - val_accuracy: 0.9054\n",
      "Epoch 31/45\n",
      "55000/55000 [==============================] - 18s 332us/sample - loss: 0.0267 - accuracy: 0.9903 - val_loss: 1.3439 - val_accuracy: 0.9054\n",
      "Epoch 32/45\n",
      "55000/55000 [==============================] - 18s 332us/sample - loss: 0.0265 - accuracy: 0.9907 - val_loss: 1.3558 - val_accuracy: 0.9050\n",
      "Epoch 33/45\n",
      "55000/55000 [==============================] - 19s 341us/sample - loss: 0.0264 - accuracy: 0.9903 - val_loss: 1.3560 - val_accuracy: 0.9026\n",
      "Epoch 34/45\n",
      "55000/55000 [==============================] - 19s 346us/sample - loss: 0.0258 - accuracy: 0.9906 - val_loss: 1.3623 - val_accuracy: 0.9056\n",
      "Epoch 35/45\n",
      "55000/55000 [==============================] - 19s 349us/sample - loss: 0.0258 - accuracy: 0.9907 - val_loss: 1.3514 - val_accuracy: 0.9046\n",
      "Epoch 36/45\n",
      "55000/55000 [==============================] - 19s 348us/sample - loss: 0.0258 - accuracy: 0.9909 - val_loss: 1.3647 - val_accuracy: 0.9024\n",
      "Epoch 37/45\n",
      "55000/55000 [==============================] - 20s 365us/sample - loss: 0.0256 - accuracy: 0.9907 - val_loss: 1.3647 - val_accuracy: 0.9024\n",
      "Epoch 38/45\n",
      "55000/55000 [==============================] - 21s 376us/sample - loss: 0.0254 - accuracy: 0.9909 - val_loss: 1.3794 - val_accuracy: 0.9024\n",
      "Epoch 39/45\n",
      "55000/55000 [==============================] - 20s 361us/sample - loss: 0.0252 - accuracy: 0.9909 - val_loss: 1.3531 - val_accuracy: 0.9020\n",
      "Epoch 40/45\n",
      "55000/55000 [==============================] - 20s 373us/sample - loss: 0.0254 - accuracy: 0.9905 - val_loss: 1.3642 - val_accuracy: 0.9044\n",
      "Epoch 41/45\n",
      "55000/55000 [==============================] - 19s 349us/sample - loss: 0.0250 - accuracy: 0.9908 - val_loss: 1.3857 - val_accuracy: 0.9038\n",
      "Epoch 42/45\n",
      "55000/55000 [==============================] - 20s 358us/sample - loss: 0.0250 - accuracy: 0.9908 - val_loss: 1.3741 - val_accuracy: 0.9030\n",
      "Epoch 43/45\n",
      "55000/55000 [==============================] - 21s 382us/sample - loss: 0.0247 - accuracy: 0.9914 - val_loss: 1.3864 - val_accuracy: 0.9036\n",
      "Epoch 44/45\n",
      "55000/55000 [==============================] - 19s 342us/sample - loss: 0.0249 - accuracy: 0.9910 - val_loss: 1.3732 - val_accuracy: 0.9032\n",
      "Epoch 45/45\n",
      "55000/55000 [==============================] - 19s 347us/sample - loss: 0.0248 - accuracy: 0.9913 - val_loss: 1.3901 - val_accuracy: 0.9052\n"
     ]
    }
   ],
   "source": [
    "history7 = model.fit(X_train, y_train, batch_size=32, epochs=45,\n",
    "                    validation_data=(X_valid, y_valid))"
   ]
  },
  {
   "cell_type": "code",
   "execution_count": 49,
   "metadata": {},
   "outputs": [
    {
     "data": {
      "image/png": "[encoded data removed]",
      "text/plain": [
       "<Figure size 576x360 with 1 Axes>"
      ]
     },
     "metadata": {
      "needs_background": "light"
     },
     "output_type": "display_data"
    },
    {
     "data": {
      "image/png": "[encoded data removed]",
      "text/plain": [
       "<Figure size 576x360 with 1 Axes>"
      ]
     },
     "metadata": {
      "needs_background": "light"
     },
     "output_type": "display_data"
    }
   ],
   "source": [
    "pd.DataFrame(history6.history).plot(figsize=(8, 5))\n",
    "pd.DataFrame(history7.history).plot(figsize=(8, 5))\n",
    "plt.grid(True)\n",
    "plt.gca().set_ylim(0, 1)\n",
    "plt.show()"
   ]
  },
  {
   "cell_type": "markdown",
   "metadata": {},
   "source": [
    "# 4) Add additional neurons and use Dropout Layer. Plot Learning curves."
   ]
  },
  {
   "cell_type": "code",
   "execution_count": 50,
   "metadata": {},
   "outputs": [
    {
     "name": "stderr",
     "output_type": "stream",
     "text": [
      "Using TensorFlow backend.\n"
     ]
    }
   ],
   "source": [
    "from keras.layers import Dropout"
   ]
  },
  {
   "cell_type": "code",
   "execution_count": 51,
   "metadata": {},
   "outputs": [],
   "source": [
    "model = keras.models.Sequential()\n",
    "model.add(keras.layers.Flatten(input_shape=[28, 28]))\n",
    "model.add(keras.layers.Dense(500, activation=\"relu\"))\n",
    "model.add((keras.layers.Dropout(0.4)))\n",
    "model.add(keras.layers.Dense(200, activation=\"relu\"))\n",
    "model.add(keras.layers.Dense(40, activation=\"softmax\"))\n"
   ]
  },
  {
   "cell_type": "code",
   "execution_count": 52,
   "metadata": {},
   "outputs": [
    {
     "data": {
      "text/plain": [
       "[<tensorflow.python.keras.layers.core.Flatten at 0x157b9bdcdc8>,\n",
       " <tensorflow.python.keras.layers.core.Dense at 0x157b9bde308>,\n",
       " <tensorflow.python.keras.layers.core.Dropout at 0x157b9bd8988>,\n",
       " <tensorflow.python.keras.layers.core.Dense at 0x157b9aabfc8>,\n",
       " <tensorflow.python.keras.layers.core.Dense at 0x157b9bd8c08>]"
      ]
     },
     "execution_count": 52,
     "metadata": {},
     "output_type": "execute_result"
    }
   ],
   "source": [
    "model.layers"
   ]
  },
  {
   "cell_type": "code",
   "execution_count": 53,
   "metadata": {},
   "outputs": [
    {
     "name": "stdout",
     "output_type": "stream",
     "text": [
      "Model: \"sequential\"\n",
      "_________________________________________________________________\n",
      "Layer (type)                 Output Shape              Param #   \n",
      "=================================================================\n",
      "flatten (Flatten)            (None, 784)               0         \n",
      "_________________________________________________________________\n",
      "dense (Dense)                (None, 500)               392500    \n",
      "_________________________________________________________________\n",
      "dropout (Dropout)            (None, 500)               0         \n",
      "_________________________________________________________________\n",
      "dense_1 (Dense)              (None, 200)               100200    \n",
      "_________________________________________________________________\n",
      "dense_2 (Dense)              (None, 40)                8040      \n",
      "=================================================================\n",
      "Total params: 500,740\n",
      "Trainable params: 500,740\n",
      "Non-trainable params: 0\n",
      "_________________________________________________________________\n"
     ]
    }
   ],
   "source": [
    "model.summary()"
   ]
  },
  {
   "cell_type": "code",
   "execution_count": 54,
   "metadata": {},
   "outputs": [],
   "source": [
    "model.compile(loss=\"sparse_categorical_crossentropy\",\n",
    "              optimizer=\"sgd\",\n",
    "              metrics=[\"accuracy\"])"
   ]
  },
  {
   "cell_type": "code",
   "execution_count": 55,
   "metadata": {},
   "outputs": [
    {
     "name": "stdout",
     "output_type": "stream",
     "text": [
      "Train on 55000 samples, validate on 5000 samples\n",
      "Epoch 1/30\n",
      "55000/55000 [==============================] - 35s 630us/sample - loss: 0.8451 - accuracy: 0.7192 - val_loss: 0.5397 - val_accuracy: 0.8174\n",
      "Epoch 2/30\n",
      "55000/55000 [==============================] - 32s 581us/sample - loss: 0.5481 - accuracy: 0.8083 - val_loss: 0.4768 - val_accuracy: 0.8342\n",
      "Epoch 3/30\n",
      "55000/55000 [==============================] - 33s 609us/sample - loss: 0.4876 - accuracy: 0.8278 - val_loss: 0.4267 - val_accuracy: 0.8536\n",
      "Epoch 4/30\n",
      "55000/55000 [==============================] - 32s 584us/sample - loss: 0.4511 - accuracy: 0.8390 - val_loss: 0.4016 - val_accuracy: 0.8640\n",
      "Epoch 5/30\n",
      "55000/55000 [==============================] - 33s 598us/sample - loss: 0.4250 - accuracy: 0.8484 - val_loss: 0.3888 - val_accuracy: 0.8658\n",
      "Epoch 6/30\n",
      "55000/55000 [==============================] - 32s 589us/sample - loss: 0.4063 - accuracy: 0.8553 - val_loss: 0.3702 - val_accuracy: 0.8706\n",
      "Epoch 7/30\n",
      "55000/55000 [==============================] - 33s 598us/sample - loss: 0.3917 - accuracy: 0.8592 - val_loss: 0.3628 - val_accuracy: 0.8740\n",
      "Epoch 8/30\n",
      "55000/55000 [==============================] - 33s 596us/sample - loss: 0.3792 - accuracy: 0.8638 - val_loss: 0.3507 - val_accuracy: 0.8770\n",
      "Epoch 9/30\n",
      "55000/55000 [==============================] - 33s 606us/sample - loss: 0.3686 - accuracy: 0.8671 - val_loss: 0.3498 - val_accuracy: 0.8752\n",
      "Epoch 10/30\n",
      "55000/55000 [==============================] - 34s 614us/sample - loss: 0.3604 - accuracy: 0.8693 - val_loss: 0.3392 - val_accuracy: 0.8800\n",
      "Epoch 11/30\n",
      "55000/55000 [==============================] - 34s 611us/sample - loss: 0.3503 - accuracy: 0.8736 - val_loss: 0.3334 - val_accuracy: 0.8812\n",
      "Epoch 12/30\n",
      "55000/55000 [==============================] - 33s 596us/sample - loss: 0.3442 - accuracy: 0.8767 - val_loss: 0.3296 - val_accuracy: 0.8836\n",
      "Epoch 13/30\n",
      "55000/55000 [==============================] - 34s 621us/sample - loss: 0.3367 - accuracy: 0.8782 - val_loss: 0.3332 - val_accuracy: 0.8818\n",
      "Epoch 14/30\n",
      "55000/55000 [==============================] - 33s 601us/sample - loss: 0.3300 - accuracy: 0.8809 - val_loss: 0.3212 - val_accuracy: 0.8862\n",
      "Epoch 15/30\n",
      "55000/55000 [==============================] - 34s 611us/sample - loss: 0.3242 - accuracy: 0.8824 - val_loss: 0.3174 - val_accuracy: 0.8886\n",
      "Epoch 16/30\n",
      "55000/55000 [==============================] - 33s 599us/sample - loss: 0.3213 - accuracy: 0.8843 - val_loss: 0.3163 - val_accuracy: 0.8874\n",
      "Epoch 17/30\n",
      "55000/55000 [==============================] - 34s 614us/sample - loss: 0.3137 - accuracy: 0.8862 - val_loss: 0.3152 - val_accuracy: 0.8880\n",
      "Epoch 18/30\n",
      "55000/55000 [==============================] - 34s 627us/sample - loss: 0.3110 - accuracy: 0.8870 - val_loss: 0.3169 - val_accuracy: 0.8850\n",
      "Epoch 19/30\n",
      "55000/55000 [==============================] - 33s 607us/sample - loss: 0.3049 - accuracy: 0.8902 - val_loss: 0.3078 - val_accuracy: 0.8906\n",
      "Epoch 20/30\n",
      "55000/55000 [==============================] - 33s 602us/sample - loss: 0.2996 - accuracy: 0.8912 - val_loss: 0.3057 - val_accuracy: 0.8930\n",
      "Epoch 21/30\n",
      "55000/55000 [==============================] - 33s 608us/sample - loss: 0.2965 - accuracy: 0.8930 - val_loss: 0.3000 - val_accuracy: 0.8914\n",
      "Epoch 22/30\n",
      "55000/55000 [==============================] - 33s 601us/sample - loss: 0.2929 - accuracy: 0.8943 - val_loss: 0.3081 - val_accuracy: 0.8872\n",
      "Epoch 23/30\n",
      "55000/55000 [==============================] - 34s 610us/sample - loss: 0.2883 - accuracy: 0.8966 - val_loss: 0.2967 - val_accuracy: 0.8964\n",
      "Epoch 24/30\n",
      "55000/55000 [==============================] - 33s 606us/sample - loss: 0.2833 - accuracy: 0.8972 - val_loss: 0.3012 - val_accuracy: 0.8910\n",
      "Epoch 25/30\n",
      "55000/55000 [==============================] - 35s 631us/sample - loss: 0.2806 - accuracy: 0.8977 - val_loss: 0.3027 - val_accuracy: 0.8918\n",
      "Epoch 26/30\n",
      "55000/55000 [==============================] - 33s 607us/sample - loss: 0.2773 - accuracy: 0.8995 - val_loss: 0.2987 - val_accuracy: 0.8902\n",
      "Epoch 27/30\n",
      "55000/55000 [==============================] - 34s 611us/sample - loss: 0.2720 - accuracy: 0.9016 - val_loss: 0.3009 - val_accuracy: 0.8902\n",
      "Epoch 28/30\n",
      "55000/55000 [==============================] - 34s 626us/sample - loss: 0.2723 - accuracy: 0.9004 - val_loss: 0.2992 - val_accuracy: 0.8892\n",
      "Epoch 29/30\n",
      "55000/55000 [==============================] - 33s 605us/sample - loss: 0.2674 - accuracy: 0.9022 - val_loss: 0.2944 - val_accuracy: 0.8934\n",
      "Epoch 30/30\n",
      "55000/55000 [==============================] - 34s 610us/sample - loss: 0.2634 - accuracy: 0.9036 - val_loss: 0.2975 - val_accuracy: 0.8938\n"
     ]
    }
   ],
   "source": [
    "history8 = model.fit(X_train, y_train, batch_size=32, epochs=30,\n",
    "                    validation_data=(X_valid, y_valid))"
   ]
  },
  {
   "cell_type": "code",
   "execution_count": 56,
   "metadata": {},
   "outputs": [
    {
     "data": {
      "image/png": "[encoded data removed]",
      "text/plain": [
       "<Figure size 576x360 with 1 Axes>"
      ]
     },
     "metadata": {
      "needs_background": "light"
     },
     "output_type": "display_data"
    }
   ],
   "source": [
    "import pandas as pd\n",
    "\n",
    "pd.DataFrame(history8.history).plot(figsize=(8, 5))\n",
    "plt.grid(True)\n",
    "plt.gca().set_ylim(0, 1)\n",
    "plt.show()"
   ]
  },
  {
   "cell_type": "markdown",
   "metadata": {},
   "source": [
    "# 5) Use Batch Normalisation"
   ]
  },
  {
   "cell_type": "code",
   "execution_count": 57,
   "metadata": {},
   "outputs": [],
   "source": [
    "model = keras.models.Sequential()\n",
    "model.add(keras.layers.Flatten(input_shape=[28, 28]))\n",
    "model.add(keras.layers.Dense(500, activation=\"relu\"))\n",
    "model.add((keras.layers.Dropout(0.4)))\n",
    "model.add(keras.layers.BatchNormalization())\n",
    "model.add(keras.layers.Dense(200, activation=\"relu\"))\n",
    "model.add(keras.layers.Dense(40, activation=\"softmax\"))\n",
    "\n"
   ]
  },
  {
   "cell_type": "code",
   "execution_count": 61,
   "metadata": {},
   "outputs": [
    {
     "data": {
      "text/plain": [
       "[<tensorflow.python.keras.layers.core.Flatten at 0x157b87bb2c8>,\n",
       " <tensorflow.python.keras.layers.core.Dense at 0x157bb5ec688>,\n",
       " <tensorflow.python.keras.layers.core.Dropout at 0x157bb5d8388>,\n",
       " <tensorflow.python.keras.layers.normalization_v2.BatchNormalization at 0x157bb5fee88>,\n",
       " <tensorflow.python.keras.layers.core.Dense at 0x157bb60cf88>,\n",
       " <tensorflow.python.keras.layers.core.Dense at 0x157bb5c2108>]"
      ]
     },
     "execution_count": 61,
     "metadata": {},
     "output_type": "execute_result"
    }
   ],
   "source": [
    "model.layers"
   ]
  },
  {
   "cell_type": "code",
   "execution_count": 59,
   "metadata": {},
   "outputs": [],
   "source": [
    "model.compile(loss=\"sparse_categorical_crossentropy\",\n",
    "              optimizer=\"sgd\",\n",
    "              metrics=[\"accuracy\"])"
   ]
  },
  {
   "cell_type": "code",
   "execution_count": 60,
   "metadata": {},
   "outputs": [
    {
     "name": "stdout",
     "output_type": "stream",
     "text": [
      "Train on 55000 samples, validate on 5000 samples\n",
      "Epoch 1/30\n",
      "55000/55000 [==============================] - 40s 720us/sample - loss: 0.6715 - accuracy: 0.7739 - val_loss: 0.4339 - val_accuracy: 0.8470\n",
      "Epoch 2/30\n",
      "55000/55000 [==============================] - 37s 680us/sample - loss: 0.4765 - accuracy: 0.8273 - val_loss: 0.3780 - val_accuracy: 0.8606\n",
      "Epoch 3/30\n",
      "55000/55000 [==============================] - 38s 687us/sample - loss: 0.4379 - accuracy: 0.8407 - val_loss: 0.3717 - val_accuracy: 0.8642\n",
      "Epoch 4/30\n",
      "55000/55000 [==============================] - 38s 695us/sample - loss: 0.4136 - accuracy: 0.8495 - val_loss: 0.3436 - val_accuracy: 0.8792\n",
      "Epoch 5/30\n",
      "55000/55000 [==============================] - 37s 667us/sample - loss: 0.3969 - accuracy: 0.8565 - val_loss: 0.3379 - val_accuracy: 0.8778- loss: 0.3975 - accuracy:  - ETA: 15s - loss: 0.3983 - accur - ETA: 14s - l - ETA: -  - ETA - ETA: 4s - loss: 0.3975 - accu - ETA: 4s - loss: 0.3974 -  - ETA: 4s - loss: 0.3970  - ETA: 3s - loss: 0 - ETA: 2s - loss: - ETA: 0s - loss: 0.396\n",
      "Epoch 6/30\n",
      "55000/55000 [==============================] - 36s 646us/sample - loss: 0.3815 - accuracy: 0.8607 - val_loss: 0.3322 - val_accuracy: 0.8798loss: 0.3832 - accu - ETA: 15s - loss: 0.3828 - ETA: 14s - loss: 0.3823 - accur - ETA: 14s - loss: 0.3816 - accur \n",
      "Epoch 7/30\n",
      "55000/55000 [==============================] - 37s 671us/sample - loss: 0.3720 - accuracy: 0.8634 - val_loss: 0.3238 - val_accuracy: 0.8796\n",
      "Epoch 8/30\n",
      "55000/55000 [==============================] - 38s 688us/sample - loss: 0.3670 - accuracy: 0.8654 - val_loss: 0.3130 - val_accuracy: 0.8868\n",
      "Epoch 9/30\n",
      "55000/55000 [==============================] - 38s 684us/sample - loss: 0.3581 - accuracy: 0.8701 - val_loss: 0.3280 - val_accuracy: 0.8790\n",
      "Epoch 10/30\n",
      "55000/55000 [==============================] - 38s 690us/sample - loss: 0.3511 - accuracy: 0.8715 - val_loss: 0.3115 - val_accuracy: 0.88601\n",
      "Epoch 11/30\n",
      "55000/55000 [==============================] - 40s 720us/sample - loss: 0.3443 - accuracy: 0.8737 - val_loss: 0.3141 - val_accuracy: 0.8852\n",
      "Epoch 12/30\n",
      "55000/55000 [==============================] - 37s 680us/sample - loss: 0.3361 - accuracy: 0.8774 - val_loss: 0.3098 - val_accuracy: 0.8862\n",
      "Epoch 13/30\n",
      "55000/55000 [==============================] - 37s 671us/sample - loss: 0.3329 - accuracy: 0.8770 - val_loss: 0.3175 - val_accuracy: 0.8814\n",
      "Epoch 14/30\n",
      "55000/55000 [==============================] - 40s 725us/sample - loss: 0.3296 - accuracy: 0.8779 - val_loss: 0.2989 - val_accuracy: 0.8900\n",
      "Epoch 15/30\n",
      "55000/55000 [==============================] - 37s 678us/sample - loss: 0.3226 - accuracy: 0.8804 - val_loss: 0.2976 - val_accuracy: 0.8914A: 0s - loss: 0.3225 - accuracy\n",
      "Epoch 16/30\n",
      "55000/55000 [==============================] - 39s 711us/sample - loss: 0.3226 - accuracy: 0.8801 - val_loss: 0.3098 - val_accuracy: 0.8856\n",
      "Epoch 17/30\n",
      "55000/55000 [==============================] - 34s 618us/sample - loss: 0.3178 - accuracy: 0.8826 - val_loss: 0.3021 - val_accuracy: 0.8884\n",
      "Epoch 18/30\n",
      "55000/55000 [==============================] - 36s 658us/sample - loss: 0.3135 - accuracy: 0.8836 - val_loss: 0.3020 - val_accuracy: 0.8922\n",
      "Epoch 19/30\n",
      "55000/55000 [==============================] - 41s 743us/sample - loss: 0.3135 - accuracy: 0.8847 - val_loss: 0.3011 - val_accuracy: 0.8924\n",
      "Epoch 20/30\n",
      "55000/55000 [==============================] - 36s 660us/sample - loss: 0.3049 - accuracy: 0.8862 - val_loss: 0.2959 - val_accuracy: 0.8918\n",
      "Epoch 21/30\n",
      "55000/55000 [==============================] - 36s 649us/sample - loss: 0.3019 - accuracy: 0.8879 - val_loss: 0.2922 - val_accuracy: 0.8944\n",
      "Epoch 22/30\n",
      "55000/55000 [==============================] - 39s 702us/sample - loss: 0.3046 - accuracy: 0.8866 - val_loss: 0.2924 - val_accuracy: 0.8934\n",
      "Epoch 23/30\n",
      "55000/55000 [==============================] - 37s 664us/sample - loss: 0.2975 - accuracy: 0.8882 - val_loss: 0.2938 - val_accuracy: 0.8922 0.88 - E - E - ETA: \n",
      "Epoch 24/30\n",
      "55000/55000 [==============================] - 39s 717us/sample - loss: 0.2959 - accuracy: 0.8913 - val_loss: 0.2851 - val_accuracy: 0.8966\n",
      "Epoch 25/30\n",
      "55000/55000 [==============================] - 38s 689us/sample - loss: 0.2901 - accuracy: 0.8920 - val_loss: 0.2896 - val_accuracy: 0.8902\n",
      "Epoch 26/30\n",
      "55000/55000 [==============================] - 39s 706us/sample - loss: 0.2936 - accuracy: 0.8887 - val_loss: 0.2904 - val_accuracy: 0.8914\n",
      "Epoch 27/30\n",
      "55000/55000 [==============================] - 39s 702us/sample - loss: 0.2908 - accuracy: 0.8907 - val_loss: 0.2879 - val_accuracy: 0.8942\n",
      "Epoch 28/30\n",
      "55000/55000 [==============================] - 36s 656us/sample - loss: 0.2896 - accuracy: 0.8928 - val_loss: 0.2951 - val_accuracy: 0.89300.2902 - accuracy: 0. - ETA: 0s - loss: 0.2899 \n",
      "Epoch 29/30\n",
      "55000/55000 [==============================] - 36s 646us/sample - loss: 0.2896 - accuracy: 0.8918 - val_loss: 0.2915 - val_accuracy: 0.8964: 0.2 - ETA: 30s - loss: 0.2803 - a - ETA: 29s - loss: 0.2798 - a - ETA: - ETA: 26s - loss: 0.2812 - accura - ETA: 25s - loss: 0.2790 - ac - ETA: 24s - loss: 0.2805 - a - ETA: 21s\n",
      "Epoch 30/30\n",
      "55000/55000 [==============================] - 35s 643us/sample - loss: 0.2819 - accuracy: 0.8944 - val_loss: 0.2866 - val_accuracy: 0.89462696 - accuracy: 0. - ETA: 21s - loss: 0.2702 - accuracy: 0 - ETA: 20s - loss: 0.2703 - accura - ETA: 20s - loss: 0.2 - ETA: 19s - loss: 0.2715  - ETA: 18s - loss: 0.272 - ETA: 16s - loss: 0.2727 -  - ETA: 15s - loss: 0.2745 -  - ETA: 14s - loss: 0.2735 - ac - ETA: 14s - loss: 0.2728 - ETA: 12 - ETA: 10s - loss: 0.2771 - - ETA: 7s - loss: 0.2805 - accura - ETA: 3s - loss: 0.2811 \n"
     ]
    }
   ],
   "source": [
    "history9 = model.fit(X_train, y_train, batch_size=32, epochs=30,\n",
    "                    validation_data=(X_valid, y_valid))"
   ]
  },
  {
   "cell_type": "code",
   "execution_count": 62,
   "metadata": {},
   "outputs": [
    {
     "data": {
      "image/png": "[encoded data removed]",
      "text/plain": [
       "<Figure size 576x360 with 1 Axes>"
      ]
     },
     "metadata": {
      "needs_background": "light"
     },
     "output_type": "display_data"
    }
   ],
   "source": [
    "pd.DataFrame(history9.history).plot(figsize=(8, 5))\n",
    "plt.grid(True)\n",
    "plt.gca().set_ylim(0, 1)\n",
    "plt.show()"
   ]
  },
  {
   "cell_type": "markdown",
   "metadata": {},
   "source": [
    "# 6) repeat with more layers"
   ]
  },
  {
   "cell_type": "code",
   "execution_count": 63,
   "metadata": {},
   "outputs": [],
   "source": [
    "model = keras.models.Sequential()\n",
    "model.add(keras.layers.Flatten(input_shape=[28, 28]))\n",
    "model.add(keras.layers.Dense(200, activation=\"relu\"))\n",
    "model.add(keras.layers.Dense(100, activation=\"relu\"))\n",
    "model.add((keras.layers.Dropout(0.5)))\n",
    "model.add(keras.layers.BatchNormalization())\n",
    "model.add(keras.layers.Dense(40, activation=\"relu\"))\n",
    "model.add(keras.layers.Dense(30, activation=\"tanh\"))\n",
    "model.add(keras.layers.Dense(20, activation=\"relu\"))\n",
    "model.add(keras.layers.Dense(10, activation=\"softmax\"))\n",
    "\n"
   ]
  },
  {
   "cell_type": "code",
   "execution_count": 64,
   "metadata": {},
   "outputs": [
    {
     "data": {
      "text/plain": [
       "[<tensorflow.python.keras.layers.core.Flatten at 0x157bc8453c8>,\n",
       " <tensorflow.python.keras.layers.core.Dense at 0x157bc845dc8>,\n",
       " <tensorflow.python.keras.layers.core.Dense at 0x157bc8592c8>,\n",
       " <tensorflow.python.keras.layers.core.Dropout at 0x157bb7bb948>,\n",
       " <tensorflow.python.keras.layers.normalization_v2.BatchNormalization at 0x157bc85e088>,\n",
       " <tensorflow.python.keras.layers.core.Dense at 0x157bc862808>,\n",
       " <tensorflow.python.keras.layers.core.Dense at 0x157bc876708>,\n",
       " <tensorflow.python.keras.layers.core.Dense at 0x157bc89ba48>,\n",
       " <tensorflow.python.keras.layers.core.Dense at 0x157bc876d48>]"
      ]
     },
     "execution_count": 64,
     "metadata": {},
     "output_type": "execute_result"
    }
   ],
   "source": [
    "model.layers"
   ]
  },
  {
   "cell_type": "code",
   "execution_count": 65,
   "metadata": {},
   "outputs": [],
   "source": [
    "model.compile(loss=\"sparse_categorical_crossentropy\",\n",
    "              optimizer=\"sgd\",\n",
    "              metrics=[\"accuracy\"])"
   ]
  },
  {
   "cell_type": "code",
   "execution_count": 66,
   "metadata": {},
   "outputs": [
    {
     "name": "stdout",
     "output_type": "stream",
     "text": [
      "Train on 55000 samples, validate on 5000 samples\n",
      "Epoch 1/30\n",
      "55000/55000 [==============================] - 25s 458us/sample - loss: 1.0257 - accuracy: 0.6458 - val_loss: 0.5422 - val_accuracy: 0.8144\n",
      "Epoch 2/30\n",
      "55000/55000 [==============================] - 22s 407us/sample - loss: 0.6189 - accuracy: 0.7790 - val_loss: 0.4527 - val_accuracy: 0.8370\n",
      "Epoch 3/30\n",
      "55000/55000 [==============================] - 22s 407us/sample - loss: 0.5431 - accuracy: 0.8096 - val_loss: 0.4164 - val_accuracy: 0.8486\n",
      "Epoch 4/30\n",
      "55000/55000 [==============================] - 23s 423us/sample - loss: 0.5035 - accuracy: 0.8229 - val_loss: 0.4082 - val_accuracy: 0.8518\n",
      "Epoch 5/30\n",
      "55000/55000 [==============================] - 23s 420us/sample - loss: 0.4861 - accuracy: 0.8280 - val_loss: 0.4008 - val_accuracy: 0.8584\n",
      "Epoch 6/30\n",
      "55000/55000 [==============================] - 22s 408us/sample - loss: 0.4602 - accuracy: 0.8383 - val_loss: 0.4207 - val_accuracy: 0.8464\n",
      "Epoch 7/30\n",
      "55000/55000 [==============================] - 23s 421us/sample - loss: 0.4476 - accuracy: 0.8407 - val_loss: 0.3599 - val_accuracy: 0.8716\n",
      "Epoch 8/30\n",
      "55000/55000 [==============================] - 23s 419us/sample - loss: 0.4308 - accuracy: 0.8466 - val_loss: 0.3629 - val_accuracy: 0.8734\n",
      "Epoch 9/30\n",
      "55000/55000 [==============================] - 24s 438us/sample - loss: 0.4245 - accuracy: 0.8495 - val_loss: 0.3731 - val_accuracy: 0.8650\n",
      "Epoch 10/30\n",
      "55000/55000 [==============================] - 23s 424us/sample - loss: 0.4059 - accuracy: 0.8558 - val_loss: 0.3420 - val_accuracy: 0.8748\n",
      "Epoch 11/30\n",
      "55000/55000 [==============================] - 24s 433us/sample - loss: 0.4001 - accuracy: 0.8576 - val_loss: 0.3410 - val_accuracy: 0.8792\n",
      "Epoch 12/30\n",
      "55000/55000 [==============================] - 29s 525us/sample - loss: 0.3875 - accuracy: 0.8633 - val_loss: 0.3414 - val_accuracy: 0.8774\n",
      "Epoch 13/30\n",
      "55000/55000 [==============================] - 24s 433us/sample - loss: 0.3835 - accuracy: 0.8652 - val_loss: 0.3423 - val_accuracy: 0.8752\n",
      "Epoch 14/30\n",
      "55000/55000 [==============================] - 23s 424us/sample - loss: 0.3734 - accuracy: 0.8666 - val_loss: 0.3468 - val_accuracy: 0.8756\n",
      "Epoch 15/30\n",
      "55000/55000 [==============================] - 27s 486us/sample - loss: 0.3680 - accuracy: 0.8693 - val_loss: 0.3372 - val_accuracy: 0.8762\n",
      "Epoch 16/30\n",
      "55000/55000 [==============================] - 33s 593us/sample - loss: 0.3591 - accuracy: 0.8724 - val_loss: 0.3327 - val_accuracy: 0.8800\n",
      "Epoch 17/30\n",
      "55000/55000 [==============================] - 26s 480us/sample - loss: 0.3554 - accuracy: 0.8728 - val_loss: 0.3305 - val_accuracy: 0.8796\n",
      "Epoch 18/30\n",
      "55000/55000 [==============================] - 20s 360us/sample - loss: 0.3490 - accuracy: 0.8760 - val_loss: 0.3283 - val_accuracy: 0.8794\n",
      "Epoch 19/30\n",
      "55000/55000 [==============================] - 21s 377us/sample - loss: 0.3419 - accuracy: 0.8778 - val_loss: 0.3355 - val_accuracy: 0.8822\n",
      "Epoch 20/30\n",
      "55000/55000 [==============================] - 21s 375us/sample - loss: 0.3383 - accuracy: 0.8789 - val_loss: 0.3172 - val_accuracy: 0.8830\n",
      "Epoch 21/30\n",
      "55000/55000 [==============================] - 20s 370us/sample - loss: 0.3311 - accuracy: 0.8810 - val_loss: 0.3282 - val_accuracy: 0.8814\n",
      "Epoch 22/30\n",
      "55000/55000 [==============================] - 21s 385us/sample - loss: 0.3321 - accuracy: 0.8801 - val_loss: 0.3300 - val_accuracy: 0.8818\n",
      "Epoch 23/30\n",
      "55000/55000 [==============================] - 21s 390us/sample - loss: 0.3253 - accuracy: 0.8842 - val_loss: 0.3253 - val_accuracy: 0.8828\n",
      "Epoch 24/30\n",
      "55000/55000 [==============================] - 21s 384us/sample - loss: 0.3253 - accuracy: 0.8844 - val_loss: 0.3110 - val_accuracy: 0.8864\n",
      "Epoch 25/30\n",
      "55000/55000 [==============================] - 21s 388us/sample - loss: 0.3208 - accuracy: 0.8854 - val_loss: 0.3081 - val_accuracy: 0.8912\n",
      "Epoch 26/30\n",
      "55000/55000 [==============================] - 22s 397us/sample - loss: 0.3130 - accuracy: 0.8883 - val_loss: 0.3142 - val_accuracy: 0.8890  - E\n",
      "Epoch 27/30\n",
      "55000/55000 [==============================] - 23s 421us/sample - loss: 0.3091 - accuracy: 0.8883 - val_loss: 0.3202 - val_accuracy: 0.8848\n",
      "Epoch 28/30\n",
      "55000/55000 [==============================] - 26s 482us/sample - loss: 0.3060 - accuracy: 0.8897 - val_loss: 0.3127 - val_accuracy: 0.8884\n",
      "Epoch 29/30\n",
      "55000/55000 [==============================] - 36s 646us/sample - loss: 0.3017 - accuracy: 0.8917 - val_loss: 0.3180 - val_accuracy: 0.8866\n",
      "Epoch 30/30\n",
      "55000/55000 [==============================] - 27s 489us/sample - loss: 0.3030 - accuracy: 0.8909 - val_loss: 0.3069 - val_accuracy: 0.8888\n"
     ]
    }
   ],
   "source": [
    "history10 = model.fit(X_train, y_train, batch_size=32, epochs=30,\n",
    "                    validation_data=(X_valid, y_valid))"
   ]
  },
  {
   "cell_type": "code",
   "execution_count": 67,
   "metadata": {},
   "outputs": [
    {
     "data": {
      "image/png": "[encoded data removed]",
      "text/plain": [
       "<Figure size 576x360 with 1 Axes>"
      ]
     },
     "metadata": {
      "needs_background": "light"
     },
     "output_type": "display_data"
    }
   ],
   "source": [
    "pd.DataFrame(history10.history).plot(figsize=(8, 5))\n",
    "plt.grid(True)\n",
    "plt.gca().set_ylim(0, 1)\n",
    "plt.show()"
   ]
  },
  {
   "cell_type": "markdown",
   "metadata": {},
   "source": [
    "# 7) apply on different datasets"
   ]
  },
  {
   "cell_type": "code",
   "execution_count": 57,
   "metadata": {},
   "outputs": [
    {
     "name": "stdout",
     "output_type": "stream",
     "text": [
      "Downloading data from https://storage.googleapis.com/tensorflow/tf-keras-datasets/mnist.npz\n",
      "11493376/11490434 [==============================] - 318s 28us/step\n"
     ]
    }
   ],
   "source": [
    "(X_train_full, y_train_full), (X_test, y_test) = tf.keras.datasets.mnist.load_data(\n",
    "    path='mnist.npz'\n",
    ")\n"
   ]
  },
  {
   "cell_type": "code",
   "execution_count": 59,
   "metadata": {},
   "outputs": [
    {
     "data": {
      "text/plain": [
       "(60000, 28, 28)"
      ]
     },
     "execution_count": 59,
     "metadata": {},
     "output_type": "execute_result"
    }
   ],
   "source": [
    "X_train_full.shape"
   ]
  },
  {
   "cell_type": "code",
   "execution_count": 60,
   "metadata": {},
   "outputs": [
    {
     "data": {
      "text/plain": [
       "array([5, 0, 4, ..., 5, 6, 8], dtype=uint8)"
      ]
     },
     "execution_count": 60,
     "metadata": {},
     "output_type": "execute_result"
    }
   ],
   "source": [
    "y_train_full"
   ]
  },
  {
   "cell_type": "code",
   "execution_count": 61,
   "metadata": {},
   "outputs": [],
   "source": [
    "X_valid, X_train = (X_train_full[:10000]) / 255., X_train_full[10000:] / 255.\n",
    "y_valid, y_train = y_train_full[:10000], y_train_full[10000:]\n",
    "X_test = X_test / 255."
   ]
  },
  {
   "cell_type": "code",
   "execution_count": 62,
   "metadata": {},
   "outputs": [
    {
     "data": {
      "text/plain": [
       "array([3, 8, 7, ..., 5, 6, 8], dtype=uint8)"
      ]
     },
     "execution_count": 62,
     "metadata": {},
     "output_type": "execute_result"
    }
   ],
   "source": [
    "y_train"
   ]
  },
  {
   "cell_type": "code",
   "execution_count": 63,
   "metadata": {},
   "outputs": [],
   "source": [
    "class_names = [\"0\", \"1\", \"2\", \"3\", \"4\",\"5\", \"6\", \"7\", \"8\", \"9\"]"
   ]
  },
  {
   "cell_type": "code",
   "execution_count": 65,
   "metadata": {},
   "outputs": [
    {
     "data": {
      "text/plain": [
       "'5'"
      ]
     },
     "execution_count": 65,
     "metadata": {},
     "output_type": "execute_result"
    }
   ],
   "source": [
    "class_names[y_train[8]]"
   ]
  },
  {
   "cell_type": "code",
   "execution_count": 67,
   "metadata": {},
   "outputs": [
    {
     "data": {
      "image/png": "[encoded data removed]",
      "text/plain": [
       "<Figure size 864x345.6 with 40 Axes>"
      ]
     },
     "metadata": {
      "needs_background": "light"
     },
     "output_type": "display_data"
    }
   ],
   "source": [
    "n_rows = 4\n",
    "n_cols = 10\n",
    "plt.figure(figsize=(n_cols * 1.2, n_rows * 1.2))\n",
    "for row in range(n_rows):\n",
    "    for col in range(n_cols):\n",
    "        index = n_cols * row + col\n",
    "        plt.subplot(n_rows, n_cols, index + 1)\n",
    "        plt.imshow(X_train[index], cmap=\"binary\", interpolation=\"nearest\")\n",
    "        plt.axis('off')\n",
    "        plt.title(class_names[y_train[index]], fontsize=12)\n",
    "plt.subplots_adjust(wspace=0.1, hspace=0.5)\n",
    "plt.show()"
   ]
  },
  {
   "cell_type": "code",
   "execution_count": 72,
   "metadata": {},
   "outputs": [],
   "source": [
    "model = keras.models.Sequential()\n",
    "model.add(keras.layers.Flatten(input_shape=[28, 28]))\n",
    "model.add(keras.layers.Dense(500, activation=\"relu\"))\n",
    "model.add((keras.layers.Dropout(0.4)))\n",
    "model.add(keras.layers.Dense(200, activation=\"relu\"))\n",
    "model.add(keras.layers.Dense(40, activation=\"softmax\"))"
   ]
  },
  {
   "cell_type": "code",
   "execution_count": 73,
   "metadata": {},
   "outputs": [],
   "source": [
    "keras.backend.clear_session()\n",
    "np.random.seed(42)"
   ]
  },
  {
   "cell_type": "code",
   "execution_count": 74,
   "metadata": {},
   "outputs": [
    {
     "data": {
      "text/plain": [
       "[<tensorflow.python.keras.layers.core.Flatten at 0x29e9382fc88>,\n",
       " <tensorflow.python.keras.layers.core.Dense at 0x29e9382fe48>,\n",
       " <tensorflow.python.keras.layers.core.Dropout at 0x29e9381cdc8>,\n",
       " <tensorflow.python.keras.layers.core.Dense at 0x29e93815a08>,\n",
       " <tensorflow.python.keras.layers.core.Dense at 0x29e937fba88>]"
      ]
     },
     "execution_count": 74,
     "metadata": {},
     "output_type": "execute_result"
    }
   ],
   "source": [
    "model.layers"
   ]
  },
  {
   "cell_type": "code",
   "execution_count": 75,
   "metadata": {},
   "outputs": [
    {
     "name": "stdout",
     "output_type": "stream",
     "text": [
      "Model: \"sequential\"\n",
      "_________________________________________________________________\n",
      "Layer (type)                 Output Shape              Param #   \n",
      "=================================================================\n",
      "flatten (Flatten)            (None, 784)               0         \n",
      "_________________________________________________________________\n",
      "dense (Dense)                (None, 500)               392500    \n",
      "_________________________________________________________________\n",
      "dropout (Dropout)            (None, 500)               0         \n",
      "_________________________________________________________________\n",
      "dense_1 (Dense)              (None, 200)               100200    \n",
      "_________________________________________________________________\n",
      "dense_2 (Dense)              (None, 40)                8040      \n",
      "=================================================================\n",
      "Total params: 500,740\n",
      "Trainable params: 500,740\n",
      "Non-trainable params: 0\n",
      "_________________________________________________________________\n"
     ]
    }
   ],
   "source": [
    "model.summary()"
   ]
  },
  {
   "cell_type": "code",
   "execution_count": 77,
   "metadata": {},
   "outputs": [
    {
     "data": {
      "text/plain": [
       "'dense_2'"
      ]
     },
     "execution_count": 77,
     "metadata": {},
     "output_type": "execute_result"
    }
   ],
   "source": [
    "hidden1 = model.layers[4]\n",
    "hidden1.name"
   ]
  },
  {
   "cell_type": "code",
   "execution_count": 78,
   "metadata": {},
   "outputs": [
    {
     "data": {
      "text/plain": [
       "True"
      ]
     },
     "execution_count": 78,
     "metadata": {},
     "output_type": "execute_result"
    }
   ],
   "source": [
    "model.get_layer(hidden1.name) is hidden1"
   ]
  },
  {
   "cell_type": "code",
   "execution_count": 79,
   "metadata": {},
   "outputs": [],
   "source": [
    "weights, biases = hidden1.get_weights()"
   ]
  },
  {
   "cell_type": "code",
   "execution_count": 80,
   "metadata": {},
   "outputs": [
    {
     "data": {
      "text/plain": [
       "array([[ 0.09693991, -0.06292145,  0.07862455, ...,  0.00568615,\n",
       "         0.02121022,  0.093978  ],\n",
       "       [-0.12401906, -0.03201382,  0.13339831, ...,  0.02972461,\n",
       "        -0.00427793, -0.01753266],\n",
       "       [ 0.09534843, -0.03866501, -0.0147036 , ...,  0.11032529,\n",
       "        -0.03041586,  0.07767688],\n",
       "       ...,\n",
       "       [-0.05782624,  0.10833614,  0.10679121, ...,  0.14541744,\n",
       "         0.0993679 , -0.11990549],\n",
       "       [-0.00051279, -0.08734318, -0.07122401, ..., -0.05252273,\n",
       "        -0.0214576 ,  0.10093255],\n",
       "       [-0.07370736,  0.01001368, -0.14460665, ..., -0.15692756,\n",
       "        -0.10844209, -0.06040063]], dtype=float32)"
      ]
     },
     "execution_count": 80,
     "metadata": {},
     "output_type": "execute_result"
    }
   ],
   "source": [
    "weights"
   ]
  },
  {
   "cell_type": "code",
   "execution_count": 81,
   "metadata": {},
   "outputs": [
    {
     "data": {
      "text/plain": [
       "(200, 40)"
      ]
     },
     "execution_count": 81,
     "metadata": {},
     "output_type": "execute_result"
    }
   ],
   "source": [
    "weights.shape"
   ]
  },
  {
   "cell_type": "code",
   "execution_count": 82,
   "metadata": {},
   "outputs": [
    {
     "data": {
      "text/plain": [
       "array([0., 0., 0., 0., 0., 0., 0., 0., 0., 0., 0., 0., 0., 0., 0., 0., 0.,\n",
       "       0., 0., 0., 0., 0., 0., 0., 0., 0., 0., 0., 0., 0., 0., 0., 0., 0.,\n",
       "       0., 0., 0., 0., 0., 0.], dtype=float32)"
      ]
     },
     "execution_count": 82,
     "metadata": {},
     "output_type": "execute_result"
    }
   ],
   "source": [
    "biases"
   ]
  },
  {
   "cell_type": "code",
   "execution_count": 83,
   "metadata": {},
   "outputs": [
    {
     "data": {
      "text/plain": [
       "(40,)"
      ]
     },
     "execution_count": 83,
     "metadata": {},
     "output_type": "execute_result"
    }
   ],
   "source": [
    "biases.shape"
   ]
  },
  {
   "cell_type": "code",
   "execution_count": 84,
   "metadata": {},
   "outputs": [],
   "source": [
    "model.compile(loss=\"sparse_categorical_crossentropy\",\n",
    "              optimizer=\"sgd\",\n",
    "              metrics=[\"accuracy\"])"
   ]
  },
  {
   "cell_type": "code",
   "execution_count": null,
   "metadata": {},
   "outputs": [
    {
     "name": "stdout",
     "output_type": "stream",
     "text": [
      "Train on 50000 samples, validate on 10000 samples\n",
      "Epoch 1/30\n",
      "50000/50000 [==============================] - 34s 690us/sample - loss: 0.7700 - accuracy: 0.7834 - val_loss: 0.3482 - val_accuracy: 0.9023\n",
      "Epoch 2/30\n",
      "50000/50000 [==============================] - 32s 645us/sample - loss: 0.3632 - accuracy: 0.8937 - val_loss: 0.2720 - val_accuracy: 0.9217\n",
      "Epoch 3/30\n",
      "50000/50000 [==============================] - 31s 629us/sample - loss: 0.2938 - accuracy: 0.9137 - val_loss: 0.2293 - val_accuracy: 0.9337\n",
      "Epoch 4/30\n",
      "50000/50000 [==============================] - 30s 604us/sample - loss: 0.2508 - accuracy: 0.9277 - val_loss: 0.1977 - val_accuracy: 0.9424\n",
      "Epoch 5/30\n",
      "50000/50000 [==============================] - 32s 645us/sample - loss: 0.2226 - accuracy: 0.9352 - val_loss: 0.1780 - val_accuracy: 0.9474\n",
      "Epoch 6/30\n",
      "50000/50000 [==============================] - 35s 705us/sample - loss: 0.1971 - accuracy: 0.9428 - val_loss: 0.1603 - val_accuracy: 0.9531ss: 0.1972 - accuracy: 0.94\n",
      "Epoch 7/30\n",
      "50000/50000 [==============================] - 40s 799us/sample - loss: 0.1795 - accuracy: 0.9484 - val_loss: 0.1486 - val_accuracy: 0.9559\n",
      "Epoch 8/30\n",
      "50000/50000 [==============================] - 34s 688us/sample - loss: 0.1645 - accuracy: 0.9523 - val_loss: 0.1386 - val_accuracy: 0.9595\n",
      "Epoch 9/30\n",
      "50000/50000 [==============================] - 32s 639us/sample - loss: 0.1512 - accuracy: 0.9560 - val_loss: 0.1279 - val_accuracy: 0.9631\n",
      "Epoch 10/30\n",
      "50000/50000 [==============================] - 34s 674us/sample - loss: 0.1399 - accuracy: 0.9598 - val_loss: 0.1213 - val_accuracy: 0.9651\n",
      "Epoch 11/30\n",
      "50000/50000 [==============================] - 32s 631us/sample - loss: 0.1298 - accuracy: 0.9612 - val_loss: 0.1206 - val_accuracy: 0.9653\n",
      "Epoch 12/30\n",
      "50000/50000 [==============================] - 32s 650us/sample - loss: 0.1227 - accuracy: 0.9644 - val_loss: 0.1133 - val_accuracy: 0.9670\n",
      "Epoch 13/30\n",
      "50000/50000 [==============================] - 36s 714us/sample - loss: 0.1144 - accuracy: 0.9661 - val_loss: 0.1061 - val_accuracy: 0.9694\n",
      "Epoch 14/30\n",
      "50000/50000 [==============================] - 32s 630us/sample - loss: 0.1094 - accuracy: 0.9677 - val_loss: 0.1017 - val_accuracy: 0.9713\n",
      "Epoch 15/30\n",
      "50000/50000 [==============================] - 32s 647us/sample - loss: 0.1032 - accuracy: 0.9697 - val_loss: 0.0989 - val_accuracy: 0.9721\n",
      "Epoch 16/30\n",
      "50000/50000 [==============================] - 35s 706us/sample - loss: 0.0973 - accuracy: 0.9711 - val_loss: 0.0970 - val_accuracy: 0.9725\n",
      "Epoch 17/30\n",
      "50000/50000 [==============================] - 31s 630us/sample - loss: 0.0922 - accuracy: 0.9730 - val_loss: 0.0930 - val_accuracy: 0.9729\n",
      "Epoch 18/30\n",
      "50000/50000 [==============================] - 34s 676us/sample - loss: 0.0897 - accuracy: 0.9735 - val_loss: 0.0914 - val_accuracy: 0.9742\n",
      "Epoch 19/30\n",
      "50000/50000 [==============================] - 32s 647us/sample - loss: 0.0846 - accuracy: 0.9752 - val_loss: 0.0876 - val_accuracy: 0.9744ETA: 0s - loss:\n",
      "Epoch 20/30\n",
      "50000/50000 [==============================] - 32s 639us/sample - loss: 0.0815 - accuracy: 0.9744 - val_loss: 0.0870 - val_accuracy: 0.9749\n",
      "Epoch 21/30\n",
      "50000/50000 [==============================] - 33s 656us/sample - loss: 0.0778 - accuracy: 0.9767 - val_loss: 0.0835 - val_accuracy: 0.9761\n",
      "Epoch 22/30\n",
      "50000/50000 [==============================] - 32s 630us/sample - loss: 0.0736 - accuracy: 0.9782 - val_loss: 0.0833 - val_accuracy: 0.9764\n",
      "Epoch 23/30\n",
      "50000/50000 [==============================] - 32s 642us/sample - loss: 0.0712 - accuracy: 0.9789 - val_loss: 0.0815 - val_accuracy: 0.9763\n",
      "Epoch 24/30\n",
      "50000/50000 [==============================] - 33s 664us/sample - loss: 0.0689 - accuracy: 0.9796 - val_loss: 0.0794 - val_accuracy: 0.9770\n",
      "Epoch 25/30\n",
      "50000/50000 [==============================] - 32s 632us/sample - loss: 0.0670 - accuracy: 0.9799 - val_loss: 0.0800 - val_accuracy: 0.9768\n",
      "Epoch 26/30\n",
      "50000/50000 [==============================] - 33s 669us/sample - loss: 0.0637 - accuracy: 0.9808 - val_loss: 0.0791 - val_accuracy: 0.9776\n",
      "Epoch 27/30\n",
      "50000/50000 [==============================] - 32s 640us/sample - loss: 0.0608 - accuracy: 0.9826 - val_loss: 0.0779 - val_accuracy: 0.9772\n",
      "Epoch 28/30\n",
      "50000/50000 [==============================] - 32s 640us/sample - loss: 0.0598 - accuracy: 0.9817 - val_loss: 0.0772 - val_accuracy: 0.9780\n",
      "Epoch 29/30\n",
      "50000/50000 [==============================] - 33s 660us/sample - loss: 0.0583 - accuracy: 0.9827 - val_loss: 0.0755 - val_accuracy: 0.9784\n",
      "Epoch 30/30\n",
      "49952/50000 [============================>.] - ETA: 0s - loss: 0.0549 - accuracy: 0.9833"
     ]
    }
   ],
   "source": [
    "historyf = model.fit(X_train, y_train, batch_size=32, epochs=30,\n",
    "                    validation_data=(X_valid, y_valid))"
   ]
  },
  {
   "cell_type": "code",
   "execution_count": 112,
   "metadata": {},
   "outputs": [
    {
     "data": {
      "image/png": "[encoded data removed]",
      "text/plain": [
       "<Figure size 576x360 with 1 Axes>"
      ]
     },
     "metadata": {
      "needs_background": "light"
     },
     "output_type": "display_data"
    }
   ],
   "source": [
    "pd.DataFrame(historyf.history).plot(figsize=(8, 5))\n",
    "plt.grid(True)\n",
    "plt.gca().set_ylim(0, 1)\n",
    "plt.show()"
   ]
  },
  {
   "cell_type": "code",
   "execution_count": null,
   "metadata": {},
   "outputs": [],
   "source": []
  }
 ],
 "metadata": {
  "kernelspec": {
   "display_name": "Python 3",
   "language": "python",
   "name": "python3"
  },
  "language_info": {
   "codemirror_mode": {
    "name": "ipython",
    "version": 3
   },
   "file_extension": ".py",
   "mimetype": "text/x-python",
   "name": "python",
   "nbconvert_exporter": "python",
   "pygments_lexer": "ipython3",
   "version": "3.7.4"
  }
 },
 "nbformat": 4,
 "nbformat_minor": 2
}
