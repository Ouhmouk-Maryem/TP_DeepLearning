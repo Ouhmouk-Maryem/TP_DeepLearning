{
  "nbformat": 4,
  "nbformat_minor": 0,
  "metadata": {
    "accelerator": "GPU",
    "colab": {
      "name": "text_classification_rnn.ipynb",
      "provenance": [],
      "collapsed_sections": [],
      "toc_visible": true
    },
    "kernelspec": {
      "display_name": "Python 3",
      "name": "python3"
    }
  },
  "cells": [
    {
      "cell_type": "markdown",
      "metadata": {
        "id": "hX4n9TsbGw-f"
      },
      "source": [
        "##### Copyright 2018 The TensorFlow Authors."
      ]
    },
    {
      "cell_type": "code",
      "metadata": {
        "cellView": "form",
        "id": "0nbI5DtDGw-i"
      },
      "source": [
        "#@title Licensed under the Apache License, Version 2.0 (the \"License\");\n",
        "# you may not use this file except in compliance with the License.\n",
        "# You may obtain a copy of the License at\n",
        "#\n",
        "# https://www.apache.org/licenses/LICENSE-2.0\n",
        "#\n",
        "# Unless required by applicable law or agreed to in writing, software\n",
        "# distributed under the License is distributed on an \"AS IS\" BASIS,\n",
        "# WITHOUT WARRANTIES OR CONDITIONS OF ANY KIND, either express or implied.\n",
        "# See the License for the specific language governing permissions and\n",
        "# limitations under the License."
      ],
      "execution_count": null,
      "outputs": []
    },
    {
      "cell_type": "markdown",
      "metadata": {
        "id": "9TnJztDZGw-n"
      },
      "source": [
        "# Text classification with an RNN"
      ]
    },
    {
      "cell_type": "markdown",
      "metadata": {
        "id": "AfN3bMR5Gw-o"
      },
      "source": [
        "<table class=\"tfo-notebook-buttons\" align=\"left\">\n",
        "  <td>\n",
        "    <a target=\"_blank\" href=\"https://www.tensorflow.org/tutorials/text/text_classification_rnn\"><img src=\"https://www.tensorflow.org/images/tf_logo_32px.png\" />View on TensorFlow.org</a>\n",
        "  </td>\n",
        "  <td>\n",
        "    <a target=\"_blank\" href=\"https://colab.research.google.com/github/tensorflow/docs/blob/master/site/en/tutorials/text/text_classification_rnn.ipynb\"><img src=\"https://www.tensorflow.org/images/colab_logo_32px.png\" />Run in Google Colab</a>\n",
        "  </td>\n",
        "  <td>\n",
        "    <a target=\"_blank\" href=\"https://github.com/tensorflow/docs/blob/master/site/en/tutorials/text/text_classification_rnn.ipynb\"><img src=\"https://www.tensorflow.org/images/GitHub-Mark-32px.png\" />View source on GitHub</a>\n",
        "  </td>\n",
        "  <td>\n",
        "    <a href=\"https://storage.googleapis.com/tensorflow_docs/docs/site/en/tutorials/text/text_classification_rnn.ipynb\"><img src=\"https://www.tensorflow.org/images/download_logo_32px.png\" />Download notebook</a>\n",
        "  </td>\n",
        "</table>"
      ]
    },
    {
      "cell_type": "markdown",
      "metadata": {
        "id": "lUWearf0Gw-p"
      },
      "source": [
        "This text classification tutorial trains a [recurrent neural network](https://developers.google.com/machine-learning/glossary/#recurrent_neural_network) on the [IMDB large movie review dataset](http://ai.stanford.edu/~amaas/data/sentiment/) for sentiment analysis."
      ]
    },
    {
      "cell_type": "markdown",
      "metadata": {
        "id": "_2VQo4bajwUU"
      },
      "source": [
        "## Setup"
      ]
    },
    {
      "cell_type": "code",
      "metadata": {
        "id": "vH_FAfIz5dEw"
      },
      "source": [
        "!pip install -q tensorflow_datasets"
      ],
      "execution_count": null,
      "outputs": []
    },
    {
      "cell_type": "code",
      "metadata": {
        "id": "z682XYsrjkY9"
      },
      "source": [
        "import numpy as np\n",
        "\n",
        "import tensorflow_datasets as tfds\n",
        "import tensorflow as tf\n",
        "\n",
        "tfds.disable_progress_bar()"
      ],
      "execution_count": 1,
      "outputs": []
    },
    {
      "cell_type": "markdown",
      "metadata": {
        "id": "1rXHa-w9JZhb"
      },
      "source": [
        "Import `matplotlib` and create a helper function to plot graphs:"
      ]
    },
    {
      "cell_type": "code",
      "metadata": {
        "id": "Mp1Z7P9pYRSK"
      },
      "source": [
        "import matplotlib.pyplot as plt\n",
        "\n",
        "def plot_graphs(history, metric):\n",
        "  plt.plot(history.history[metric])\n",
        "  plt.plot(history.history['val_'+metric], '')\n",
        "  plt.xlabel(\"Epochs\")\n",
        "  plt.ylabel(metric)\n",
        "  plt.legend([metric, 'val_'+metric])"
      ],
      "execution_count": 2,
      "outputs": []
    },
    {
      "cell_type": "markdown",
      "metadata": {
        "id": "pRmMubr0jrE2"
      },
      "source": [
        "## Setup input pipeline\n",
        "\n",
        "\n",
        "The IMDB large movie review dataset is a *binary classification* dataset—all the reviews have either a *positive* or *negative* sentiment.\n",
        "\n",
        "Download the dataset using [TFDS](https://www.tensorflow.org/datasets). See the [loading text tutorial](../load_data/text.ipynb) for details on how to load this sort of data manually.\n"
      ]
    },
    {
      "cell_type": "code",
      "metadata": {
        "id": "SHRwRoP2nVHX",
        "outputId": "e767304b-f944-46fc-a814-12f8c5ed175c",
        "colab": {
          "base_uri": "https://localhost:8080/"
        }
      },
      "source": [
        "dataset, info = tfds.load('imdb_reviews', with_info=True,\n",
        "                          as_supervised=True)\n",
        "train_dataset, test_dataset = dataset['train'], dataset['test']\n",
        "\n",
        "train_dataset.element_spec"
      ],
      "execution_count": 3,
      "outputs": [
        {
          "output_type": "stream",
          "text": [
            "\u001b[1mDownloading and preparing dataset imdb_reviews/plain_text/1.0.0 (download: 80.23 MiB, generated: Unknown size, total: 80.23 MiB) to /root/tensorflow_datasets/imdb_reviews/plain_text/1.0.0...\u001b[0m\n",
            "Shuffling and writing examples to /root/tensorflow_datasets/imdb_reviews/plain_text/1.0.0.incomplete78O13M/imdb_reviews-train.tfrecord\n",
            "Shuffling and writing examples to /root/tensorflow_datasets/imdb_reviews/plain_text/1.0.0.incomplete78O13M/imdb_reviews-test.tfrecord\n",
            "Shuffling and writing examples to /root/tensorflow_datasets/imdb_reviews/plain_text/1.0.0.incomplete78O13M/imdb_reviews-unsupervised.tfrecord\n"
          ],
          "name": "stdout"
        },
        {
          "output_type": "stream",
          "text": [
            "WARNING:absl:Dataset is using deprecated text encoder API which will be removed soon. Please use the plain_text version of the dataset and migrate to `tensorflow_text`.\n"
          ],
          "name": "stderr"
        },
        {
          "output_type": "stream",
          "text": [
            "\u001b[1mDataset imdb_reviews downloaded and prepared to /root/tensorflow_datasets/imdb_reviews/plain_text/1.0.0. Subsequent calls will reuse this data.\u001b[0m\n"
          ],
          "name": "stdout"
        },
        {
          "output_type": "execute_result",
          "data": {
            "text/plain": [
              "(TensorSpec(shape=(), dtype=tf.string, name=None),\n",
              " TensorSpec(shape=(), dtype=tf.int64, name=None))"
            ]
          },
          "metadata": {
            "tags": []
          },
          "execution_count": 3
        }
      ]
    },
    {
      "cell_type": "markdown",
      "metadata": {
        "id": "nWA4c2ir7g6p"
      },
      "source": [
        "Initially this returns a dataset of (text, label pairs):"
      ]
    },
    {
      "cell_type": "code",
      "metadata": {
        "id": "vd4_BGKyurao",
        "outputId": "e26bff65-35dc-4130-e8b5-a11b98752954",
        "colab": {
          "base_uri": "https://localhost:8080/"
        }
      },
      "source": [
        "for example, label in train_dataset.take(1):\n",
        "  print('text: ', example.numpy())\n",
        "  print('label: ', label.numpy())"
      ],
      "execution_count": 5,
      "outputs": [
        {
          "output_type": "stream",
          "text": [
            "text:  b\"This was an absolutely terrible movie. Don't be lured in by Christopher Walken or Michael Ironside. Both are great actors, but this must simply be their worst role in history. Even their great acting could not redeem this movie's ridiculous storyline. This movie is an early nineties US propaganda piece. The most pathetic scenes were those when the Columbian rebels were making their cases for revolutions. Maria Conchita Alonso appeared phony, and her pseudo-love affair with Walken was nothing but a pathetic emotional plug in a movie that was devoid of any real meaning. I am disappointed that there are movies like this, ruining actor's like Christopher Walken's good name. I could barely sit through it.\"\n",
            "label:  0\n"
          ],
          "name": "stdout"
        }
      ]
    },
    {
      "cell_type": "markdown",
      "metadata": {
        "id": "z2qVJzcEluH_"
      },
      "source": [
        "Next shuffle the data for training and create batches of these `(text, label)` pairs:"
      ]
    },
    {
      "cell_type": "code",
      "metadata": {
        "id": "dDsCaZCDYZgm"
      },
      "source": [
        "BUFFER_SIZE = 10000\n",
        "BATCH_SIZE = 64"
      ],
      "execution_count": 6,
      "outputs": []
    },
    {
      "cell_type": "code",
      "metadata": {
        "id": "VznrltNOnUc5"
      },
      "source": [
        "train_dataset = train_dataset.shuffle(BUFFER_SIZE).batch(BATCH_SIZE).prefetch(tf.data.experimental.AUTOTUNE)\n",
        "test_dataset = test_dataset.batch(BATCH_SIZE).prefetch(tf.data.experimental.AUTOTUNE)"
      ],
      "execution_count": 7,
      "outputs": []
    },
    {
      "cell_type": "code",
      "metadata": {
        "id": "jqkvdcFv41wC",
        "outputId": "79dddcb8-b5df-4d6f-d7cf-f0a2321ea222",
        "colab": {
          "base_uri": "https://localhost:8080/"
        }
      },
      "source": [
        "for example, label in train_dataset.take(1):\n",
        "  print('texts: ', example.numpy()[:3])\n",
        "  print()\n",
        "  print('labels: ', label.numpy()[:3])"
      ],
      "execution_count": 8,
      "outputs": [
        {
          "output_type": "stream",
          "text": [
            "texts:  [b'I went to see this movie (actually I went to see Family Portraits, which contains Cutting Moments + 2 other short films by Douglas Buck) at the Mar del Plata festival (Argentina)... I just couldn\\'t watch it! I had to cover my eyes after the 1st half of Cutting Moments and take a peek every once in a while. By the time it was over, my stomach was upside down and I felt light headed. I just HAD to leave the cinema a few minutes after the 2nd short begun (BTW, of course I was not the only one who left the room). It was WAAAAY too violent and disgusting for me! I am impressed by the many brave people who actually loved it. I just don\\'t get how you can love that kind of movies! The shocking and bloody and horrible images I saw got really stuck in my head for like two days!! I also try to analyze the story (my boyfriend did see the whole thing and told me about it) and I just don\\'t think it makes any sense. I mean, that amount of violence and stuff, makes no other sense than to try to shock people. And that\\'s not a good enough reason, I think. There\\'s absolutely nothing in this movie that I can say \"Well, at least \\'x\\' thing about it was good\". But well, I guess I will never understand that kind of films.'\n",
            " b'The legend of Andrei Konchalovsky\\'s towering 4 and a half hour poem to Siberia is not to begin at once, because it must hold back for space, because it takes its time in roundabout explorations of half-remembered childhood memories in a turn-of-the-century backwoods village, yet the movie goes on picking up steam building in emotional resonance as though even the sounds and images which compose it become imbued by sheer association with their subject matter with that quality of fierce tireless quiet dignity that characterizes the Soviet working spirit. Konchalovsky celebrates Soviet collectivity but in an almost revisionist way to paeans like Soy Cuba and Invincible the mood turns somber and reflective. News of the revolution reach the secluded Siberian village through the grapevine. The fruits of its labor reach it only when a world war calls for the young men to enlist. Through all this, Konchalovksy zeroes in on the individual, with care and affection to examine the bitter longing and regret of the woman who waited 6 years after the war for a fianc\\xc3\\xa9 who never came back, waited long enough to go out and become a barmaid in a ship with velvet couches and which she quit years later to come back to her village to care for an aging uncle who killed the fianc\\xc3\\xa9\\'s father with an axe, the irreverent folly of the fianc\\xc3\\xa9 who came back from the war a hero 20 years too late, came back not for the sake of the girl he left behind but to drill oil for the motherland, the despair and resignation of the middle-aged Regional Party Leader who comes back to his small Siberian village with the sole purpose of blotting it out of the map to build a power plant. The movie segues from decade to decade from the 10\\'s to the 80\\'s with amazing newsreel footage trailing Soviet history from the revolution to war famine and the titanic technological achievements of an empire (terrific visuals here! all kinetic violence and skewed angles and flickering cramped shots of crowds and faces) but the actual movie focuses on the individual, on triumphs and follies small and big. By the second half a sense of bittersweet fatalism creeps in; of broken lives that never reached fulfillment choking with regret and yearning. \"It can\\'t matter\", seems like the world is saying, to which Konchalovksy answers \"it must matter\" because the protagonists keep on trying for redemption.<br /><br />Yet behind this saga of \\'man against landscape\\' something seems to hover, shadowy, almost substanceless, like the Eternal Old Man hermit who appears in every segment to guide or repudiate the protagonists, sometimes a mere spectactor, sometimes the enigmatic sage; a little behind and above all the other straightforward and logical incomprehensible ultimatums challenges and affirmations of the human characters, something invisible seems to lurk. Ghosts of the fathers appearing in sepia dreams, repeated shots of a star gleaming in the nightsky, a curious bear, indeed the Eternal Old Man himself; Konchalovksy calls for awe and reverence before a mystical land of some other order. In its treatment of a small backwoods community struggling against nature progress and time and in the ways it learns to deal with them, often funny bizarre and tragic at the same time, and in how the director never allows cynicism to override his humanism, it reminds me of Shohei Imamura\\'s The Profound Desires of the Gods. When, in a dream scene, Alexei tears through the planks of a door on which is plastered a propaganda poster of Stalin to reach out at his (dead) father as he vanishes in the fog, the movie hints at the betrayal of the Soviet Dream, or better yet, at all the things lost in the revolution, this betrayal made more explicit in the film\\'s fiery denouement. The amazing visuals, elegiac and somber with a raw naturalist edge, help seal the deal. By the end of it, an oil derric erupts in flames and the movie erupts in a wild explosion of pure cinema.'\n",
            " b'If you loved Long Way Round you will enjoy this nearly as much. It is educational, funny, interesting and tense. Charley shares the screen with two interesting teammates, two tired mechanics, two excellent cameramen and too much Russ. Ewan makes a few appearances but Charley really pulls it off alone. He is funny, engaging and still a puddle of stress and doubt. Great stuff!<br /><br />The series wraps up in 7 episodes. Like LWR, the preparation is nearly as interesting as the race. Though they cover the ins and outs of the race well, there could be a bit more explanation of the trucks and cars, which are merely mentioned and rarely even seen racing. It is a motorcycle movie though and anyone on two wheels will love this. <br /><br />The series features stunning photography as well as a few interviews of peoples mouths. Yikes. There is another extremely catchy theme song like LWR but this one is not nearly as good as the Stereophonics.<br /><br />If you live in the US god knows when it will be released so buy it on Amazon.uk and watch it on your computer as I did. Oh, and be prepared to buy another motorbike.']\n",
            "\n",
            "labels:  [0 1 1]\n"
          ],
          "name": "stdout"
        }
      ]
    },
    {
      "cell_type": "markdown",
      "metadata": {
        "id": "s5eWCo88voPY"
      },
      "source": [
        "## Create the text encoder"
      ]
    },
    {
      "cell_type": "markdown",
      "metadata": {
        "id": "TFevcItw15P_"
      },
      "source": [
        "The raw text loaded by `tfds` needs to be processed before it can be used in a model. The simplest way to process text for training is using the `experimental.preprocessing.TextVectorization` layer. This layer has many capabilities, but this tutorial sticks to the default behavior.\n",
        "\n",
        "Create the layer, and pass the dataset's text to the layer's `.adapt` method:"
      ]
    },
    {
      "cell_type": "code",
      "metadata": {
        "id": "uC25Lu1Yvuqy"
      },
      "source": [
        "VOCAB_SIZE=1000\n",
        "encoder = tf.keras.layers.experimental.preprocessing.TextVectorization(\n",
        "    max_tokens=VOCAB_SIZE)\n",
        "encoder.adapt(train_dataset.map(lambda text, label: text))"
      ],
      "execution_count": 9,
      "outputs": []
    },
    {
      "cell_type": "markdown",
      "metadata": {
        "id": "IuQzVBbe3Ldu"
      },
      "source": [
        "The `.adapt` method sets the layer's vocabulary. Here are the first 20 tokens. After the padding and unknown tokens they're sorted by frequency: "
      ]
    },
    {
      "cell_type": "code",
      "metadata": {
        "id": "tBoyjjWg0Ac9",
        "outputId": "dea502fa-6e69-4797-9074-a6b7e43a8ca2",
        "colab": {
          "base_uri": "https://localhost:8080/"
        }
      },
      "source": [
        "vocab = np.array(encoder.get_vocabulary())\n",
        "vocab[:20]"
      ],
      "execution_count": 10,
      "outputs": [
        {
          "output_type": "execute_result",
          "data": {
            "text/plain": [
              "array(['', '[UNK]', 'the', 'and', 'a', 'of', 'to', 'is', 'in', 'it', 'i',\n",
              "       'this', 'that', 'br', 'was', 'as', 'for', 'with', 'movie', 'but'],\n",
              "      dtype='<U14')"
            ]
          },
          "metadata": {
            "tags": []
          },
          "execution_count": 10
        }
      ]
    },
    {
      "cell_type": "markdown",
      "metadata": {
        "id": "mjId5pua3jHQ"
      },
      "source": [
        "Once the vocabulary is set, the layer can encode text into indices. The tensors of indices are 0-padded to the longest sequence in the batch (unless you set a fixed `output_sequence_length`):"
      ]
    },
    {
      "cell_type": "code",
      "metadata": {
        "id": "RGc7C9WiwRWs",
        "outputId": "33fe7aea-3cfc-465e-a1df-f46c76473e51",
        "colab": {
          "base_uri": "https://localhost:8080/"
        }
      },
      "source": [
        "encoded_example = encoder(example)[:3].numpy()\n",
        "encoded_example"
      ],
      "execution_count": 11,
      "outputs": [
        {
          "output_type": "execute_result",
          "data": {
            "text/plain": [
              "array([[ 10, 418,   6, ...,   0,   0,   0],\n",
              "       [  2,   1,   5, ...,   0,   0,   0],\n",
              "       [ 45,  23, 434, ...,   0,   0,   0]])"
            ]
          },
          "metadata": {
            "tags": []
          },
          "execution_count": 11
        }
      ]
    },
    {
      "cell_type": "markdown",
      "metadata": {
        "id": "F5cjz0bS39IN"
      },
      "source": [
        "With the default settings, the process is not completely reversible. There are three main reasns for that:\n",
        "\n",
        "1. The default value for `preprocessing.TextVectorization`'s `standardize` argument is `\"lower_and_strip_punctuation\"`.\n",
        "2. The limited vocabulary size and lack of character-based fallback results in some unknown tokens."
      ]
    },
    {
      "cell_type": "code",
      "metadata": {
        "id": "N_tD0QY5wXaK",
        "outputId": "3b6dda88-3c30-4a34-8325-774614048600",
        "colab": {
          "base_uri": "https://localhost:8080/"
        }
      },
      "source": [
        "for n in range(3):\n",
        "  print(\"Original: \", example[n].numpy())\n",
        "  print(\"Round-trip: \", \" \".join(vocab[encoded_example[n]]))\n",
        "  print()"
      ],
      "execution_count": 12,
      "outputs": [
        {
          "output_type": "stream",
          "text": [
            "Original:  b'I went to see this movie (actually I went to see Family Portraits, which contains Cutting Moments + 2 other short films by Douglas Buck) at the Mar del Plata festival (Argentina)... I just couldn\\'t watch it! I had to cover my eyes after the 1st half of Cutting Moments and take a peek every once in a while. By the time it was over, my stomach was upside down and I felt light headed. I just HAD to leave the cinema a few minutes after the 2nd short begun (BTW, of course I was not the only one who left the room). It was WAAAAY too violent and disgusting for me! I am impressed by the many brave people who actually loved it. I just don\\'t get how you can love that kind of movies! The shocking and bloody and horrible images I saw got really stuck in my head for like two days!! I also try to analyze the story (my boyfriend did see the whole thing and told me about it) and I just don\\'t think it makes any sense. I mean, that amount of violence and stuff, makes no other sense than to try to shock people. And that\\'s not a good enough reason, I think. There\\'s absolutely nothing in this movie that I can say \"Well, at least \\'x\\' thing about it was good\". But well, I guess I will never understand that kind of films.'\n",
            "Round-trip:  i went to see this movie actually i went to see family [UNK] which [UNK] [UNK] moments 2 other short films by [UNK] [UNK] at the [UNK] [UNK] [UNK] [UNK] [UNK] i just couldnt watch it i had to [UNK] my eyes after the [UNK] half of [UNK] moments and take a [UNK] every once in a while by the time it was over my [UNK] was [UNK] down and i felt light [UNK] i just had to leave the cinema a few minutes after the [UNK] short [UNK] [UNK] of course i was not the only one who left the room it was [UNK] too [UNK] and [UNK] for me i am [UNK] by the many [UNK] people who actually loved it i just dont get how you can love that kind of movies the [UNK] and [UNK] and horrible [UNK] i saw got really [UNK] in my head for like two days i also try to [UNK] the story my [UNK] did see the whole thing and told me about it and i just dont think it makes any sense i mean that [UNK] of violence and stuff makes no other sense than to try to [UNK] people and thats not a good enough reason i think theres absolutely nothing in this movie that i can say well at least [UNK] thing about it was good but well i guess i will never understand that kind of films                                                                                                                                                                                                                                                                                                                                                                                                                                                                                                                                                                                                                                                                                                                                                                  \n",
            "\n",
            "Original:  b'The legend of Andrei Konchalovsky\\'s towering 4 and a half hour poem to Siberia is not to begin at once, because it must hold back for space, because it takes its time in roundabout explorations of half-remembered childhood memories in a turn-of-the-century backwoods village, yet the movie goes on picking up steam building in emotional resonance as though even the sounds and images which compose it become imbued by sheer association with their subject matter with that quality of fierce tireless quiet dignity that characterizes the Soviet working spirit. Konchalovsky celebrates Soviet collectivity but in an almost revisionist way to paeans like Soy Cuba and Invincible the mood turns somber and reflective. News of the revolution reach the secluded Siberian village through the grapevine. The fruits of its labor reach it only when a world war calls for the young men to enlist. Through all this, Konchalovksy zeroes in on the individual, with care and affection to examine the bitter longing and regret of the woman who waited 6 years after the war for a fianc\\xc3\\xa9 who never came back, waited long enough to go out and become a barmaid in a ship with velvet couches and which she quit years later to come back to her village to care for an aging uncle who killed the fianc\\xc3\\xa9\\'s father with an axe, the irreverent folly of the fianc\\xc3\\xa9 who came back from the war a hero 20 years too late, came back not for the sake of the girl he left behind but to drill oil for the motherland, the despair and resignation of the middle-aged Regional Party Leader who comes back to his small Siberian village with the sole purpose of blotting it out of the map to build a power plant. The movie segues from decade to decade from the 10\\'s to the 80\\'s with amazing newsreel footage trailing Soviet history from the revolution to war famine and the titanic technological achievements of an empire (terrific visuals here! all kinetic violence and skewed angles and flickering cramped shots of crowds and faces) but the actual movie focuses on the individual, on triumphs and follies small and big. By the second half a sense of bittersweet fatalism creeps in; of broken lives that never reached fulfillment choking with regret and yearning. \"It can\\'t matter\", seems like the world is saying, to which Konchalovksy answers \"it must matter\" because the protagonists keep on trying for redemption.<br /><br />Yet behind this saga of \\'man against landscape\\' something seems to hover, shadowy, almost substanceless, like the Eternal Old Man hermit who appears in every segment to guide or repudiate the protagonists, sometimes a mere spectactor, sometimes the enigmatic sage; a little behind and above all the other straightforward and logical incomprehensible ultimatums challenges and affirmations of the human characters, something invisible seems to lurk. Ghosts of the fathers appearing in sepia dreams, repeated shots of a star gleaming in the nightsky, a curious bear, indeed the Eternal Old Man himself; Konchalovksy calls for awe and reverence before a mystical land of some other order. In its treatment of a small backwoods community struggling against nature progress and time and in the ways it learns to deal with them, often funny bizarre and tragic at the same time, and in how the director never allows cynicism to override his humanism, it reminds me of Shohei Imamura\\'s The Profound Desires of the Gods. When, in a dream scene, Alexei tears through the planks of a door on which is plastered a propaganda poster of Stalin to reach out at his (dead) father as he vanishes in the fog, the movie hints at the betrayal of the Soviet Dream, or better yet, at all the things lost in the revolution, this betrayal made more explicit in the film\\'s fiery denouement. The amazing visuals, elegiac and somber with a raw naturalist edge, help seal the deal. By the end of it, an oil derric erupts in flames and the movie erupts in a wild explosion of pure cinema.'\n",
            "Round-trip:  the [UNK] of [UNK] [UNK] [UNK] 4 and a half hour [UNK] to [UNK] is not to begin at once because it must [UNK] back for space because it takes its time in [UNK] [UNK] of [UNK] [UNK] [UNK] in a [UNK] [UNK] [UNK] yet the movie goes on [UNK] up [UNK] [UNK] in emotional [UNK] as though even the sounds and [UNK] which [UNK] it become [UNK] by [UNK] [UNK] with their subject matter with that quality of [UNK] [UNK] [UNK] [UNK] that [UNK] the [UNK] working [UNK] [UNK] [UNK] [UNK] [UNK] but in an almost [UNK] way to [UNK] like [UNK] [UNK] and [UNK] the [UNK] turns [UNK] and [UNK] [UNK] of the [UNK] [UNK] the [UNK] [UNK] [UNK] through the [UNK] the [UNK] of its [UNK] [UNK] it only when a world war [UNK] for the young men to [UNK] through all this [UNK] [UNK] in on the [UNK] with care and [UNK] to [UNK] the [UNK] [UNK] and [UNK] of the woman who [UNK] [UNK] years after the war for a [UNK] who never came back [UNK] long enough to go out and become a [UNK] in a [UNK] with [UNK] [UNK] and which she [UNK] years later to come back to her [UNK] to care for an [UNK] [UNK] who killed the [UNK] father with an [UNK] the [UNK] [UNK] of the [UNK] who came back from the war a hero 20 years too late came back not for the [UNK] of the girl he left behind but to [UNK] [UNK] for the [UNK] the [UNK] and [UNK] of the [UNK] [UNK] [UNK] [UNK] who comes back to his small [UNK] [UNK] with the [UNK] [UNK] of [UNK] it out of the [UNK] to [UNK] a power [UNK] the movie [UNK] from [UNK] to [UNK] from the [UNK] to the 80s with amazing [UNK] footage [UNK] [UNK] history from the [UNK] to war [UNK] and the [UNK] [UNK] [UNK] of an [UNK] [UNK] [UNK] here all [UNK] violence and [UNK] [UNK] and [UNK] [UNK] shots of [UNK] and [UNK] but the actual movie [UNK] on the [UNK] on [UNK] and [UNK] small and big by the second half a sense of [UNK] [UNK] [UNK] in of [UNK] lives that never [UNK] [UNK] [UNK] with [UNK] and [UNK] it cant matter seems like the world is saying to which [UNK] [UNK] it must matter because the [UNK] keep on trying for [UNK] br yet behind this [UNK] of man against [UNK] something seems to [UNK] [UNK] almost [UNK] like the [UNK] old man [UNK] who appears in every [UNK] to [UNK] or [UNK] the [UNK] sometimes a [UNK] [UNK] sometimes the [UNK] [UNK] a little behind and above all the other [UNK] and [UNK] [UNK] [UNK] [UNK] and [UNK] of the human characters something [UNK] seems to [UNK] [UNK] of the [UNK] [UNK] in [UNK] [UNK] [UNK] shots of a star [UNK] in the [UNK] a [UNK] [UNK] indeed the [UNK] old man himself [UNK] [UNK] for [UNK] and [UNK] before a [UNK] [UNK] of some other order in its [UNK] of a small [UNK] [UNK] [UNK] against nature [UNK] and time and in the ways it [UNK] to deal with them often funny [UNK] and [UNK] at the same time and in how the director never [UNK] [UNK] to [UNK] his [UNK] it [UNK] me of [UNK] [UNK] the [UNK] [UNK] of the [UNK] when in a dream scene [UNK] [UNK] through the [UNK] of a [UNK] on which is [UNK] a [UNK] [UNK] of [UNK] to [UNK] out at his dead father as he [UNK] in the [UNK] the movie [UNK] at the [UNK] of the [UNK] dream or better yet at all the things lost in the [UNK] this [UNK] made more [UNK] in the films [UNK] [UNK] the amazing [UNK] [UNK] and [UNK] with a [UNK] [UNK] [UNK] help [UNK] the deal by the end of it an [UNK] [UNK] [UNK] in [UNK] and the movie [UNK] in a [UNK] [UNK] of [UNK] cinema                                                                                                                                                                                                                                                                                                                  \n",
            "\n",
            "Original:  b'If you loved Long Way Round you will enjoy this nearly as much. It is educational, funny, interesting and tense. Charley shares the screen with two interesting teammates, two tired mechanics, two excellent cameramen and too much Russ. Ewan makes a few appearances but Charley really pulls it off alone. He is funny, engaging and still a puddle of stress and doubt. Great stuff!<br /><br />The series wraps up in 7 episodes. Like LWR, the preparation is nearly as interesting as the race. Though they cover the ins and outs of the race well, there could be a bit more explanation of the trucks and cars, which are merely mentioned and rarely even seen racing. It is a motorcycle movie though and anyone on two wheels will love this. <br /><br />The series features stunning photography as well as a few interviews of peoples mouths. Yikes. There is another extremely catchy theme song like LWR but this one is not nearly as good as the Stereophonics.<br /><br />If you live in the US god knows when it will be released so buy it on Amazon.uk and watch it on your computer as I did. Oh, and be prepared to buy another motorbike.'\n",
            "Round-trip:  if you loved long way [UNK] you will enjoy this nearly as much it is [UNK] funny interesting and [UNK] [UNK] [UNK] the screen with two interesting [UNK] two [UNK] [UNK] two excellent [UNK] and too much [UNK] [UNK] makes a few [UNK] but [UNK] really [UNK] it off alone he is funny [UNK] and still a [UNK] of [UNK] and doubt great [UNK] br the series [UNK] up in [UNK] episodes like [UNK] the [UNK] is nearly as interesting as the [UNK] though they [UNK] the [UNK] and [UNK] of the [UNK] well there could be a bit more [UNK] of the [UNK] and [UNK] which are [UNK] [UNK] and [UNK] even seen [UNK] it is a [UNK] movie though and anyone on two [UNK] will love this br br the series features [UNK] [UNK] as well as a few [UNK] of [UNK] [UNK] [UNK] there is another extremely [UNK] theme song like [UNK] but this one is not nearly as good as the [UNK] br if you live in the us god knows when it will be released so buy it on [UNK] and watch it on your [UNK] as i did oh and be [UNK] to buy another [UNK]                                                                                                                                                                                                                                                                                                                                                                                                                                                                                                                                                                                                                                                                                                                                                                                                        \n",
            "\n"
          ],
          "name": "stdout"
        }
      ]
    },
    {
      "cell_type": "markdown",
      "metadata": {
        "id": "bjUqGVBxGw-t"
      },
      "source": [
        "## Create the model"
      ]
    },
    {
      "cell_type": "markdown",
      "metadata": {
        "id": "W7zsmInBOCPO"
      },
      "source": [
        "![A drawing of the information flow in the model](https://github.com/tensorflow/docs/blob/master/site/en/tutorials/text/images/bidirectional.png?raw=1)"
      ]
    },
    {
      "cell_type": "markdown",
      "metadata": {
        "id": "bgs6nnSTGw-t"
      },
      "source": [
        "Above is a diagram of the model. \n",
        "\n",
        "1. This model can be build as a `tf.keras.Sequential`.\n",
        "\n",
        "1. The first layer is the `encoder`, which converts the text to a sequence of token indices.\n",
        "\n",
        "2. After the encoder is an embedding layer. An embedding layer stores one vector per word. When called, it converts the sequences of word indices to sequences of vectors. These vectors are trainable. After training (on enough data), words with similar meanings often have similar vectors.\n",
        "\n",
        "  This index-lookup is much more efficient than the equivalent operation of passing a one-hot encoded vector through a `tf.keras.layers.Dense` layer.\n",
        "\n",
        "3. A recurrent neural network (RNN) processes sequence input by iterating through the elements. RNNs pass the outputs from one timestep to their input on the next timestep.\n",
        "\n",
        "  The `tf.keras.layers.Bidirectional` wrapper can also be used with an RNN layer. This propagates the input forward and backwards through the RNN layer and then concatenates the final output. \n",
        "\n",
        "  * The main advantage to a bidirectional RNN is that the signal from the beginning of the input doesn't need to be processed all the way through every timestep to affect the output.  \n",
        "\n",
        "  * The main disadvantage of a bidirectional RNN is that you can't efficiently stream predictions as words are being added to the end.\n",
        "\n",
        "1. After the RNN has converted the sequence to a single vector the two `layers.Dense` do some final processing, and convert from this vector representation to a single logit as the classification output. \n"
      ]
    },
    {
      "cell_type": "markdown",
      "metadata": {
        "id": "V4fodCI7soQi"
      },
      "source": [
        "The code to implement this is below:"
      ]
    },
    {
      "cell_type": "code",
      "metadata": {
        "id": "LwfoBkmRYcP3"
      },
      "source": [
        "model = tf.keras.Sequential([\n",
        "    encoder,\n",
        "    tf.keras.layers.Embedding(\n",
        "        input_dim=len(encoder.get_vocabulary()),\n",
        "        output_dim=64,\n",
        "        # Use masking to handle the variable sequence lengths\n",
        "        mask_zero=True),\n",
        "    tf.keras.layers.Bidirectional(tf.keras.layers.LSTM(64)),\n",
        "    tf.keras.layers.Dense(64, activation='relu'),\n",
        "    tf.keras.layers.Dense(1)\n",
        "])"
      ],
      "execution_count": 13,
      "outputs": []
    },
    {
      "cell_type": "markdown",
      "metadata": {
        "id": "QIGmIGkkouUb"
      },
      "source": [
        "Please note that Keras sequential model is used here since all the layers in the model only have single input and produce single output. In case you want to use stateful RNN layer, you might want to build your model with Keras functional API or model subclassing so that you can retrieve and reuse the RNN layer states. Please check [Keras RNN guide](https://www.tensorflow.org/guide/keras/rnn#rnn_state_reuse) for more details."
      ]
    },
    {
      "cell_type": "markdown",
      "metadata": {
        "id": "kF-PsCk1LwjY"
      },
      "source": [
        "The embedding layer [uses masking](../../guide/keras/masking_and_padding) to handle the varying sequence-lengths. All the layers after the `Embedding` support masking:"
      ]
    },
    {
      "cell_type": "code",
      "metadata": {
        "id": "87a8-CwfKebw",
        "outputId": "219dfe94-ed0c-473d-fb99-922f8845cb7a",
        "colab": {
          "base_uri": "https://localhost:8080/"
        }
      },
      "source": [
        "print([layer.supports_masking for layer in model.layers])"
      ],
      "execution_count": 14,
      "outputs": [
        {
          "output_type": "stream",
          "text": [
            "[False, True, True, True, True]\n"
          ],
          "name": "stdout"
        }
      ]
    },
    {
      "cell_type": "markdown",
      "metadata": {
        "id": "ZlS0iaUIWLpI"
      },
      "source": [
        "To confirm that this works as expected, evaluate a sentence twice. First, alone so there's no padding to mask:"
      ]
    },
    {
      "cell_type": "code",
      "metadata": {
        "id": "O41gw3KfWHus",
        "outputId": "d103f00a-35cd-499a-dfba-c73d57a3b416",
        "colab": {
          "base_uri": "https://localhost:8080/"
        }
      },
      "source": [
        "# predict on a sample text without padding.\n",
        "\n",
        "sample_text = ('The movie was cool. The animation and the graphics '\n",
        "               'were out of this world. I would recommend this movie.')\n",
        "predictions = model.predict(np.array([sample_text]))\n",
        "print(predictions[0])"
      ],
      "execution_count": 15,
      "outputs": [
        {
          "output_type": "stream",
          "text": [
            "[-0.01953985]\n"
          ],
          "name": "stdout"
        }
      ]
    },
    {
      "cell_type": "markdown",
      "metadata": {
        "id": "K0VQmGnEWcuz"
      },
      "source": [
        "Now, evaluate it again in a batch with a longer sentence. The result should be identical:"
      ]
    },
    {
      "cell_type": "code",
      "metadata": {
        "id": "UIgpuTeFNDzq",
        "outputId": "3909c11f-c66a-43ac-d451-7aa6edab44bd",
        "colab": {
          "base_uri": "https://localhost:8080/"
        }
      },
      "source": [
        "# predict on a sample text with padding\n",
        "\n",
        "padding = \"the \" * 2000\n",
        "predictions = model.predict(np.array([sample_text, padding]))\n",
        "print(predictions[0])"
      ],
      "execution_count": 16,
      "outputs": [
        {
          "output_type": "stream",
          "text": [
            "[-0.01953985]\n"
          ],
          "name": "stdout"
        }
      ]
    },
    {
      "cell_type": "markdown",
      "metadata": {
        "id": "sRI776ZcH3Tf"
      },
      "source": [
        "Compile the Keras model to configure the training process:"
      ]
    },
    {
      "cell_type": "code",
      "metadata": {
        "id": "kj2xei41YZjC"
      },
      "source": [
        "model.compile(loss=tf.keras.losses.BinaryCrossentropy(from_logits=True),\n",
        "              optimizer=tf.keras.optimizers.Adam(1e-4),\n",
        "              metrics=['accuracy'])"
      ],
      "execution_count": 17,
      "outputs": []
    },
    {
      "cell_type": "markdown",
      "metadata": {
        "id": "zIwH3nto596k"
      },
      "source": [
        "## Train the model"
      ]
    },
    {
      "cell_type": "code",
      "metadata": {
        "id": "hw86wWS4YgR2",
        "outputId": "9b80c146-7283-4729-8688-0c113bac3ca5",
        "colab": {
          "base_uri": "https://localhost:8080/"
        }
      },
      "source": [
        "history = model.fit(train_dataset, epochs=10,\n",
        "                    validation_data=test_dataset, \n",
        "                    validation_steps=30)"
      ],
      "execution_count": 18,
      "outputs": [
        {
          "output_type": "stream",
          "text": [
            "Epoch 1/10\n",
            "391/391 [==============================] - 32s 82ms/step - loss: 0.6233 - accuracy: 0.5836 - val_loss: 0.4534 - val_accuracy: 0.8000\n",
            "Epoch 2/10\n",
            "391/391 [==============================] - 30s 77ms/step - loss: 0.3764 - accuracy: 0.8299 - val_loss: 0.3569 - val_accuracy: 0.8260\n",
            "Epoch 3/10\n",
            "391/391 [==============================] - 30s 77ms/step - loss: 0.3316 - accuracy: 0.8554 - val_loss: 0.3358 - val_accuracy: 0.8474\n",
            "Epoch 4/10\n",
            "391/391 [==============================] - 30s 77ms/step - loss: 0.3171 - accuracy: 0.8615 - val_loss: 0.3342 - val_accuracy: 0.8547\n",
            "Epoch 5/10\n",
            "391/391 [==============================] - 30s 77ms/step - loss: 0.3102 - accuracy: 0.8655 - val_loss: 0.3308 - val_accuracy: 0.8568\n",
            "Epoch 6/10\n",
            "391/391 [==============================] - 30s 78ms/step - loss: 0.3076 - accuracy: 0.8676 - val_loss: 0.3253 - val_accuracy: 0.8474\n",
            "Epoch 7/10\n",
            "391/391 [==============================] - 30s 77ms/step - loss: 0.3037 - accuracy: 0.8692 - val_loss: 0.3249 - val_accuracy: 0.8552\n",
            "Epoch 8/10\n",
            "391/391 [==============================] - 30s 77ms/step - loss: 0.3011 - accuracy: 0.8704 - val_loss: 0.3310 - val_accuracy: 0.8589\n",
            "Epoch 9/10\n",
            "391/391 [==============================] - 30s 77ms/step - loss: 0.3004 - accuracy: 0.8718 - val_loss: 0.3243 - val_accuracy: 0.8526\n",
            "Epoch 10/10\n",
            "391/391 [==============================] - 30s 77ms/step - loss: 0.2979 - accuracy: 0.8721 - val_loss: 0.3200 - val_accuracy: 0.8599\n"
          ],
          "name": "stdout"
        }
      ]
    },
    {
      "cell_type": "code",
      "metadata": {
        "id": "BaNbXi43YgUT",
        "outputId": "b79a52e1-2d1a-4f3d-8e79-5da524e0e033",
        "colab": {
          "base_uri": "https://localhost:8080/"
        }
      },
      "source": [
        "test_loss, test_acc = model.evaluate(test_dataset)\n",
        "\n",
        "print('Test Loss: {}'.format(test_loss))\n",
        "print('Test Accuracy: {}'.format(test_acc))"
      ],
      "execution_count": 19,
      "outputs": [
        {
          "output_type": "stream",
          "text": [
            "391/391 [==============================] - 15s 39ms/step - loss: 0.3151 - accuracy: 0.8605\n",
            "Test Loss: 0.315133273601532\n",
            "Test Accuracy: 0.8605200052261353\n"
          ],
          "name": "stdout"
        }
      ]
    },
    {
      "cell_type": "code",
      "metadata": {
        "id": "OZmwt_mzaQJk",
        "outputId": "e351e641-857c-46ec-e9a7-06a75a8ca50e",
        "colab": {
          "base_uri": "https://localhost:8080/",
          "height": 518
        }
      },
      "source": [
        "plt.figure(figsize=(16,8))\n",
        "plt.subplot(1,2,1)\n",
        "plot_graphs(history, 'accuracy')\n",
        "plt.ylim(None,1)\n",
        "plt.subplot(1,2,2)\n",
        "plot_graphs(history, 'loss')\n",
        "plt.ylim(0,None)"
      ],
      "execution_count": 20,
      "outputs": [
        {
          "output_type": "execute_result",
          "data": {
            "text/plain": [
              "(0.0, 0.6395346507430076)"
            ]
          },
          "metadata": {
            "tags": []
          },
          "execution_count": 20
        },
        {
          "output_type": "display_data",
          "data": {
            "image/png": "[encoded data removed]",
            "text/plain": [
              "<Figure size 1152x576 with 2 Axes>"
            ]
          },
          "metadata": {
            "tags": [],
            "needs_background": "light"
          }
        }
      ]
    },
    {
      "cell_type": "markdown",
      "metadata": {
        "id": "DwSE_386uhxD"
      },
      "source": [
        "Run a prediction on a neew sentence:\n",
        "\n",
        "If the prediction is >= 0.0, it is positive else it is negative."
      ]
    },
    {
      "cell_type": "code",
      "metadata": {
        "id": "ZXgfQSgRW6zU",
        "outputId": "67198f0b-3579-4d10-99d6-bbc92407989e",
        "colab": {
          "base_uri": "https://localhost:8080/"
        }
      },
      "source": [
        "sample_text = ('The movie was cool. The animation and the graphics '\n",
        "               'were out of this world. I would recommend this movie.')\n",
        "predictions = model.predict(np.array([sample_text]))\n",
        "predictions"
      ],
      "execution_count": 22,
      "outputs": [
        {
          "output_type": "execute_result",
          "data": {
            "text/plain": [
              "array([[0.8747921]], dtype=float32)"
            ]
          },
          "metadata": {
            "tags": []
          },
          "execution_count": 22
        }
      ]
    },
    {
      "cell_type": "markdown",
      "metadata": {
        "id": "7g1evcaRpTKm"
      },
      "source": [
        "## Stack two or more LSTM layers\n",
        "\n",
        "Keras recurrent layers have two available modes that are controlled by the `return_sequences` constructor argument:\n",
        "\n",
        "* If `False` it returns only the last output for each input sequence (a 2D tensor of shape (batch_size, output_features)). This is the default, used in the previous model.\n",
        "\n",
        "* If `True` the full sequences of successive outputs for each timestep is returned (a 3D tensor of shape `(batch_size, timesteps, output_features)`).\n",
        "\n",
        "Here is what the flow of information looks like with `return_sequences=True`:\n",
        "\n",
        "![layered_bidirectional](https://github.com/tensorflow/docs/blob/master/site/en/tutorials/text/images/layered_bidirectional.ipynb?raw=1)\n"
      ]
    },
    {
      "cell_type": "markdown",
      "metadata": {
        "id": "wbSClCrG1z8l"
      },
      "source": [
        "The interesting thing about using an `RNN` with `return_sequences=True` is that the output still has 3-axes, like the input, so it can be passed to another RNN layer, like this:"
      ]
    },
    {
      "cell_type": "code",
      "metadata": {
        "id": "jo1jjO3vn0jo"
      },
      "source": [
        "model = tf.keras.Sequential([\n",
        "    encoder,\n",
        "    tf.keras.layers.Embedding(len(encoder.get_vocabulary()), 64, mask_zero=True),\n",
        "    tf.keras.layers.Bidirectional(tf.keras.layers.LSTM(64,  return_sequences=True)),\n",
        "    tf.keras.layers.Bidirectional(tf.keras.layers.LSTM(32)),\n",
        "    tf.keras.layers.Dense(64, activation='relu'),\n",
        "    tf.keras.layers.Dropout(0.5),\n",
        "    tf.keras.layers.Dense(1)\n",
        "])"
      ],
      "execution_count": 23,
      "outputs": []
    },
    {
      "cell_type": "code",
      "metadata": {
        "id": "hEPV5jVGp-is"
      },
      "source": [
        "model.compile(loss=tf.keras.losses.BinaryCrossentropy(from_logits=True),\n",
        "              optimizer=tf.keras.optimizers.Adam(1e-4),\n",
        "              metrics=['accuracy'])"
      ],
      "execution_count": 24,
      "outputs": []
    },
    {
      "cell_type": "code",
      "metadata": {
        "id": "LeSE-YjdqAeN",
        "outputId": "225dff70-c5af-4109-b85d-968d12b9efa9",
        "colab": {
          "base_uri": "https://localhost:8080/"
        }
      },
      "source": [
        "history = model.fit(train_dataset, epochs=10,\n",
        "                    validation_data=test_dataset,\n",
        "                    validation_steps=30)"
      ],
      "execution_count": 25,
      "outputs": [
        {
          "output_type": "stream",
          "text": [
            "Epoch 1/10\n",
            "391/391 [==============================] - 58s 147ms/step - loss: 0.6340 - accuracy: 0.5776 - val_loss: 0.4617 - val_accuracy: 0.7911\n",
            "Epoch 2/10\n",
            "391/391 [==============================] - 53s 136ms/step - loss: 0.4052 - accuracy: 0.8207 - val_loss: 0.3629 - val_accuracy: 0.8505\n",
            "Epoch 3/10\n",
            "391/391 [==============================] - 54s 138ms/step - loss: 0.3468 - accuracy: 0.8496 - val_loss: 0.3396 - val_accuracy: 0.8401\n",
            "Epoch 4/10\n",
            "391/391 [==============================] - 54s 137ms/step - loss: 0.3266 - accuracy: 0.8579 - val_loss: 0.3271 - val_accuracy: 0.8495\n",
            "Epoch 5/10\n",
            "391/391 [==============================] - 54s 138ms/step - loss: 0.3135 - accuracy: 0.8662 - val_loss: 0.3224 - val_accuracy: 0.8495\n",
            "Epoch 6/10\n",
            "391/391 [==============================] - 54s 137ms/step - loss: 0.3081 - accuracy: 0.8663 - val_loss: 0.3240 - val_accuracy: 0.8562\n",
            "Epoch 7/10\n",
            "391/391 [==============================] - 54s 137ms/step - loss: 0.3082 - accuracy: 0.8677 - val_loss: 0.3368 - val_accuracy: 0.8323\n",
            "Epoch 8/10\n",
            "391/391 [==============================] - 54s 137ms/step - loss: 0.3038 - accuracy: 0.8694 - val_loss: 0.3215 - val_accuracy: 0.8562\n",
            "Epoch 9/10\n",
            "391/391 [==============================] - 54s 137ms/step - loss: 0.3015 - accuracy: 0.8700 - val_loss: 0.3199 - val_accuracy: 0.8625\n",
            "Epoch 10/10\n",
            "391/391 [==============================] - 54s 137ms/step - loss: 0.2986 - accuracy: 0.8720 - val_loss: 0.3207 - val_accuracy: 0.8542\n"
          ],
          "name": "stdout"
        }
      ]
    },
    {
      "cell_type": "code",
      "metadata": {
        "id": "_LdwilM1qPM3",
        "outputId": "2d7896a6-c30e-4042-8f7c-608cf5411a52",
        "colab": {
          "base_uri": "https://localhost:8080/"
        }
      },
      "source": [
        "test_loss, test_acc = model.evaluate(test_dataset)\n",
        "\n",
        "print('Test Loss: {}'.format(test_loss))\n",
        "print('Test Accuracy: {}'.format(test_acc))"
      ],
      "execution_count": 26,
      "outputs": [
        {
          "output_type": "stream",
          "text": [
            "391/391 [==============================] - 27s 68ms/step - loss: 0.3185 - accuracy: 0.8542\n",
            "Test Loss: 0.3184588849544525\n",
            "Test Accuracy: 0.8541600108146667\n"
          ],
          "name": "stdout"
        }
      ]
    },
    {
      "cell_type": "code",
      "metadata": {
        "id": "ykUKnAoqbycW",
        "outputId": "495a9f22-c10b-47e2-92e7-f34def8623ff",
        "colab": {
          "base_uri": "https://localhost:8080/"
        }
      },
      "source": [
        "# predict on a sample text without padding.\n",
        "\n",
        "sample_text = ('The movie was not good. The animation and the graphics '\n",
        "                    'were terrible. I would not recommend this movie.')\n",
        "predictions = model.predict(np.array([sample_text]))\n",
        "print(predictions)"
      ],
      "execution_count": 27,
      "outputs": [
        {
          "output_type": "stream",
          "text": [
            "[[-1.8629814]]\n"
          ],
          "name": "stdout"
        }
      ]
    },
    {
      "cell_type": "code",
      "metadata": {
        "id": "_YYub0EDtwCu",
        "outputId": "9d44dcf6-01c1-4ed9-98e2-46c03e2c47d3",
        "colab": {
          "base_uri": "https://localhost:8080/",
          "height": 391
        }
      },
      "source": [
        "plt.figure(figsize=(16,6))\n",
        "plt.subplot(1,2,1)\n",
        "plot_graphs(history, 'accuracy')\n",
        "plt.subplot(1,2,2)\n",
        "plot_graphs(history, 'loss')"
      ],
      "execution_count": 28,
      "outputs": [
        {
          "output_type": "display_data",
          "data": {
            "image/png": "[encoded data removed]",
            "text/plain": [
              "<Figure size 1152x432 with 2 Axes>"
            ]
          },
          "metadata": {
            "tags": [],
            "needs_background": "light"
          }
        }
      ]
    },
    {
      "cell_type": "markdown",
      "metadata": {
        "id": "9xvpE3BaGw_V"
      },
      "source": [
        "Check out other existing recurrent layers such as [GRU layers](https://www.tensorflow.org/api_docs/python/tf/keras/layers/GRU).\n",
        "\n",
        "If you're interestied in building custom RNNs, see the [Keras RNN Guide](../../guide/keras/rnn.ipynb).\n"
      ]
    }
  ]
}